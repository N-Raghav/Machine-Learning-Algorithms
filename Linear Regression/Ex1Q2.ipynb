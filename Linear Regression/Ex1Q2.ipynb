{
 "cells": [
  {
   "cell_type": "code",
   "execution_count": 35,
   "id": "7202ba80-ae42-401d-ae20-bfa4c6bde87a",
   "metadata": {},
   "outputs": [],
   "source": [
    "import pandas as pd \n",
    "import numpy as np\n",
    "import math\n",
    "import matplotlib.pyplot as plt\n",
    "data=pd.read_csv(\"data1.csv\")"
   ]
  },
  {
   "cell_type": "code",
   "execution_count": 2,
   "id": "07a8f652-71e8-444d-be8a-97bad37167fb",
   "metadata": {},
   "outputs": [
    {
     "data": {
      "text/html": [
       "<div>\n",
       "<style scoped>\n",
       "    .dataframe tbody tr th:only-of-type {\n",
       "        vertical-align: middle;\n",
       "    }\n",
       "\n",
       "    .dataframe tbody tr th {\n",
       "        vertical-align: top;\n",
       "    }\n",
       "\n",
       "    .dataframe thead th {\n",
       "        text-align: right;\n",
       "    }\n",
       "</style>\n",
       "<table border=\"1\" class=\"dataframe\">\n",
       "  <thead>\n",
       "    <tr style=\"text-align: right;\">\n",
       "      <th></th>\n",
       "      <th>x</th>\n",
       "      <th>y</th>\n",
       "    </tr>\n",
       "  </thead>\n",
       "  <tbody>\n",
       "    <tr>\n",
       "      <th>0</th>\n",
       "      <td>17</td>\n",
       "      <td>94</td>\n",
       "    </tr>\n",
       "    <tr>\n",
       "      <th>1</th>\n",
       "      <td>13</td>\n",
       "      <td>73</td>\n",
       "    </tr>\n",
       "    <tr>\n",
       "      <th>2</th>\n",
       "      <td>12</td>\n",
       "      <td>59</td>\n",
       "    </tr>\n",
       "    <tr>\n",
       "      <th>3</th>\n",
       "      <td>15</td>\n",
       "      <td>80</td>\n",
       "    </tr>\n",
       "    <tr>\n",
       "      <th>4</th>\n",
       "      <td>16</td>\n",
       "      <td>93</td>\n",
       "    </tr>\n",
       "  </tbody>\n",
       "</table>\n",
       "</div>"
      ],
      "text/plain": [
       "    x   y\n",
       "0  17  94\n",
       "1  13  73\n",
       "2  12  59\n",
       "3  15  80\n",
       "4  16  93"
      ]
     },
     "execution_count": 2,
     "metadata": {},
     "output_type": "execute_result"
    }
   ],
   "source": [
    "data.head()"
   ]
  },
  {
   "cell_type": "code",
   "execution_count": 3,
   "id": "b2848599-25a5-498f-b280-0658e6b25368",
   "metadata": {},
   "outputs": [
    {
     "name": "stdout",
     "output_type": "stream",
     "text": [
      "<class 'pandas.core.frame.DataFrame'>\n",
      "RangeIndex: 120 entries, 0 to 119\n",
      "Data columns (total 2 columns):\n",
      " #   Column  Non-Null Count  Dtype\n",
      "---  ------  --------------  -----\n",
      " 0   x       120 non-null    int64\n",
      " 1   y       120 non-null    int64\n",
      "dtypes: int64(2)\n",
      "memory usage: 2.0 KB\n"
     ]
    }
   ],
   "source": [
    "data.info()\n",
    "n=120"
   ]
  },
  {
   "cell_type": "code",
   "execution_count": 4,
   "id": "4d7fe7f2-9e6c-4db0-a080-1c8ad46e8844",
   "metadata": {},
   "outputs": [],
   "source": [
    "x=data.iloc[:,0].values\n",
    "y=data.iloc[:,1].values"
   ]
  },
  {
   "cell_type": "code",
   "execution_count": 5,
   "id": "146c937b-0645-49c9-a12b-1b16d8b8fd13",
   "metadata": {},
   "outputs": [
    {
     "data": {
      "text/plain": [
       "array([17, 13, 12, 15, 16, 14, 16, 16, 18, 19, 17, 13, 12, 15, 16, 14, 16,\n",
       "       16, 18, 19, 17, 13, 12, 15, 16, 14, 16, 16, 18, 19, 17, 13, 12, 15,\n",
       "       16, 14, 16, 16, 18, 19, 17, 13, 12, 15, 16, 14, 16, 16, 18, 19, 17,\n",
       "       13, 12, 15, 16, 14, 16, 16, 18, 19, 17, 13, 12, 15, 16, 14, 16, 16,\n",
       "       18, 19, 17, 13, 12, 15, 16, 14, 16, 16, 18, 19, 17, 13, 12, 15, 16,\n",
       "       14, 16, 16, 18, 19, 17, 13, 12, 15, 16, 14, 16, 16, 18, 19, 17, 13,\n",
       "       12, 15, 16, 14, 16, 16, 18, 19, 17, 13, 12, 15, 16, 14, 16, 16, 18,\n",
       "       19])"
      ]
     },
     "execution_count": 5,
     "metadata": {},
     "output_type": "execute_result"
    }
   ],
   "source": [
    "x"
   ]
  },
  {
   "cell_type": "code",
   "execution_count": 6,
   "id": "2c9647b9-af1d-484a-b9a1-cf8da64157d4",
   "metadata": {},
   "outputs": [
    {
     "data": {
      "text/plain": [
       "array([94, 73, 59, 80, 93, 85, 66, 79, 77, 91, 94, 73, 59, 80, 93, 85, 66,\n",
       "       79, 77, 91, 94, 73, 59, 80, 93, 85, 66, 79, 77, 91, 94, 73, 59, 80,\n",
       "       93, 85, 66, 79, 77, 91, 94, 73, 59, 80, 93, 85, 66, 79, 77, 91, 94,\n",
       "       73, 59, 80, 93, 85, 66, 79, 77, 91, 94, 73, 59, 80, 93, 85, 66, 79,\n",
       "       77, 91, 94, 73, 59, 80, 93, 85, 66, 79, 77, 91, 94, 73, 59, 80, 93,\n",
       "       85, 66, 79, 77, 91, 94, 73, 59, 80, 93, 85, 66, 79, 77, 91, 94, 73,\n",
       "       59, 80, 93, 85, 66, 79, 77, 91, 94, 73, 59, 80, 93, 85, 66, 79, 77,\n",
       "       91])"
      ]
     },
     "execution_count": 6,
     "metadata": {},
     "output_type": "execute_result"
    }
   ],
   "source": [
    "y"
   ]
  },
  {
   "cell_type": "code",
   "execution_count": 7,
   "id": "c08ffcf5-dda8-4916-84d7-1ee55cb07798",
   "metadata": {},
   "outputs": [],
   "source": [
    "from sklearn.model_selection import train_test_split"
   ]
  },
  {
   "cell_type": "code",
   "execution_count": 8,
   "id": "e2b51d13-37b9-4d48-b1a3-b6293e2e7c56",
   "metadata": {},
   "outputs": [],
   "source": [
    "x_train,x_test,y_train,y_test = train_test_split(x,y,test_size=0.3)"
   ]
  },
  {
   "cell_type": "code",
   "execution_count": 9,
   "id": "2f2e18dc-c573-49a6-b7a1-168ab45ab30c",
   "metadata": {},
   "outputs": [
    {
     "data": {
      "text/plain": [
       "array([16, 14, 14, 13, 16, 13, 18, 16, 16, 15, 16, 13, 12, 12, 18, 18, 16,\n",
       "       19, 17, 16, 14, 19, 19, 17, 17, 15, 14, 19, 17, 12, 18, 16, 18, 19,\n",
       "       16, 16, 17, 16, 15, 16, 16, 16, 15, 19, 15, 12, 13, 14, 13, 15, 16,\n",
       "       17, 16, 15, 15, 16, 15, 15, 16, 14, 17, 13, 14, 12, 16, 16, 14, 14,\n",
       "       13, 13, 16, 14, 12, 12, 13, 19, 16, 16, 16, 16, 14, 19, 18, 18])"
      ]
     },
     "execution_count": 9,
     "metadata": {},
     "output_type": "execute_result"
    }
   ],
   "source": [
    "x_train"
   ]
  },
  {
   "cell_type": "code",
   "execution_count": 10,
   "id": "52c773be-7e24-46f3-a862-e079642049c9",
   "metadata": {},
   "outputs": [
    {
     "data": {
      "text/plain": [
       "array([18, 13, 19, 16, 12, 16, 17, 15, 18, 19, 16, 12, 12, 16, 12, 18, 15,\n",
       "       16, 16, 16, 17, 18, 16, 13, 17, 17, 17, 13, 16, 14, 18, 19, 19, 16,\n",
       "       12, 16])"
      ]
     },
     "execution_count": 10,
     "metadata": {},
     "output_type": "execute_result"
    }
   ],
   "source": [
    "x_test"
   ]
  },
  {
   "cell_type": "code",
   "execution_count": 11,
   "id": "a1103df8-cf97-4ce4-948d-cba8953f4585",
   "metadata": {},
   "outputs": [
    {
     "data": {
      "text/plain": [
       "array([66, 85, 85, 73, 79, 73, 77, 66, 93, 80, 66, 73, 59, 59, 77, 77, 93,\n",
       "       91, 94, 93, 85, 91, 91, 94, 94, 80, 85, 91, 94, 59, 77, 66, 77, 91,\n",
       "       93, 93, 94, 79, 80, 93, 66, 93, 80, 91, 80, 59, 73, 85, 73, 80, 79,\n",
       "       94, 79, 80, 80, 79, 80, 80, 66, 85, 94, 73, 85, 59, 93, 79, 85, 85,\n",
       "       73, 73, 79, 85, 59, 59, 73, 91, 79, 79, 93, 66, 85, 91, 77, 77])"
      ]
     },
     "execution_count": 11,
     "metadata": {},
     "output_type": "execute_result"
    }
   ],
   "source": [
    "y_train"
   ]
  },
  {
   "cell_type": "code",
   "execution_count": 12,
   "id": "5d9190c1-812e-436f-afdc-c844a9788c6e",
   "metadata": {},
   "outputs": [
    {
     "data": {
      "text/plain": [
       "array([77, 73, 91, 93, 59, 93, 94, 80, 77, 91, 66, 59, 59, 66, 59, 77, 80,\n",
       "       66, 79, 66, 94, 77, 79, 73, 94, 94, 94, 73, 93, 85, 77, 91, 91, 66,\n",
       "       59, 79])"
      ]
     },
     "execution_count": 12,
     "metadata": {},
     "output_type": "execute_result"
    }
   ],
   "source": [
    "y_test"
   ]
  },
  {
   "cell_type": "code",
   "execution_count": 13,
   "id": "c4501785-a829-4ade-9b7f-3c5fb8a2063b",
   "metadata": {},
   "outputs": [],
   "source": [
    "y_mean=np.mean(y_train)\n",
    "x_mean=np.mean(x_train)"
   ]
  },
  {
   "cell_type": "code",
   "execution_count": 14,
   "id": "140cfa1b-3e00-4745-a721-17b72d876862",
   "metadata": {},
   "outputs": [],
   "source": [
    "def MAE(y_test,y_pred,n):\n",
    "    error=0\n",
    "    for i in range(n):\n",
    "        error+=abs(y_test[i]-y_pred[i])/n\n",
    "    return error"
   ]
  },
  {
   "cell_type": "code",
   "execution_count": 15,
   "id": "ec8444fa-cc90-416b-816e-8c345f4e2420",
   "metadata": {},
   "outputs": [],
   "source": [
    "def RMSE(y_test,y_pred,n):\n",
    "    error=0\n",
    "    for i in range (n):\n",
    "        error+=math.sqrt(((y_test[i]-y_pred[i])**2)/n)\n",
    "    return error"
   ]
  },
  {
   "cell_type": "code",
   "execution_count": 16,
   "id": "5b8da4fb-3678-45cb-8e80-b978e80fd0cc",
   "metadata": {},
   "outputs": [],
   "source": [
    "#Model1 \n",
    "num=0\n",
    "denom=0\n",
    "for i in range (84):\n",
    "    num+=x_train[i]*y_train[i] - y_mean*x_train[i]\n",
    "    denom+=x_train[i]**2 - x_mean*x_train[i]\n",
    "m=num/denom\n",
    "c=y_mean-(m*x_mean)\n"
   ]
  },
  {
   "cell_type": "code",
   "execution_count": 17,
   "id": "e5c29969-80b5-4e17-830f-40a7f7bba44b",
   "metadata": {},
   "outputs": [
    {
     "data": {
      "text/plain": [
       "2.993993993993982"
      ]
     },
     "execution_count": 17,
     "metadata": {},
     "output_type": "execute_result"
    }
   ],
   "source": [
    "m"
   ]
  },
  {
   "cell_type": "code",
   "execution_count": 18,
   "id": "e300c581-f5d2-4c26-aeee-775a3fab9b63",
   "metadata": {},
   "outputs": [
    {
     "data": {
      "text/plain": [
       "33.83118833118852"
      ]
     },
     "execution_count": 18,
     "metadata": {},
     "output_type": "execute_result"
    }
   ],
   "source": [
    "c"
   ]
  },
  {
   "cell_type": "code",
   "execution_count": 19,
   "id": "052849bd-1af9-43a2-b974-caf19ddb0e5c",
   "metadata": {},
   "outputs": [],
   "source": [
    "y_pred=m*x + c"
   ]
  },
  {
   "cell_type": "code",
   "execution_count": 20,
   "id": "b054b8a2-0f5f-4509-8f07-ffcb90b199bb",
   "metadata": {},
   "outputs": [
    {
     "data": {
      "text/plain": [
       "array([84.72908623, 72.75311025, 69.75911626, 78.74109824, 81.73509224,\n",
       "       75.74710425, 81.73509224, 81.73509224, 87.72308022, 90.71707422,\n",
       "       84.72908623, 72.75311025, 69.75911626, 78.74109824, 81.73509224,\n",
       "       75.74710425, 81.73509224, 81.73509224, 87.72308022, 90.71707422,\n",
       "       84.72908623, 72.75311025, 69.75911626, 78.74109824, 81.73509224,\n",
       "       75.74710425, 81.73509224, 81.73509224, 87.72308022, 90.71707422,\n",
       "       84.72908623, 72.75311025, 69.75911626, 78.74109824, 81.73509224,\n",
       "       75.74710425, 81.73509224, 81.73509224, 87.72308022, 90.71707422,\n",
       "       84.72908623, 72.75311025, 69.75911626, 78.74109824, 81.73509224,\n",
       "       75.74710425, 81.73509224, 81.73509224, 87.72308022, 90.71707422,\n",
       "       84.72908623, 72.75311025, 69.75911626, 78.74109824, 81.73509224,\n",
       "       75.74710425, 81.73509224, 81.73509224, 87.72308022, 90.71707422,\n",
       "       84.72908623, 72.75311025, 69.75911626, 78.74109824, 81.73509224,\n",
       "       75.74710425, 81.73509224, 81.73509224, 87.72308022, 90.71707422,\n",
       "       84.72908623, 72.75311025, 69.75911626, 78.74109824, 81.73509224,\n",
       "       75.74710425, 81.73509224, 81.73509224, 87.72308022, 90.71707422,\n",
       "       84.72908623, 72.75311025, 69.75911626, 78.74109824, 81.73509224,\n",
       "       75.74710425, 81.73509224, 81.73509224, 87.72308022, 90.71707422,\n",
       "       84.72908623, 72.75311025, 69.75911626, 78.74109824, 81.73509224,\n",
       "       75.74710425, 81.73509224, 81.73509224, 87.72308022, 90.71707422,\n",
       "       84.72908623, 72.75311025, 69.75911626, 78.74109824, 81.73509224,\n",
       "       75.74710425, 81.73509224, 81.73509224, 87.72308022, 90.71707422,\n",
       "       84.72908623, 72.75311025, 69.75911626, 78.74109824, 81.73509224,\n",
       "       75.74710425, 81.73509224, 81.73509224, 87.72308022, 90.71707422])"
      ]
     },
     "execution_count": 20,
     "metadata": {},
     "output_type": "execute_result"
    }
   ],
   "source": [
    "y_pred"
   ]
  },
  {
   "cell_type": "code",
   "execution_count": 21,
   "id": "a0b554a4-cf82-44e4-89fc-dc9627244a0c",
   "metadata": {},
   "outputs": [
    {
     "data": {
      "text/plain": [
       "array([77, 73, 91, 93, 59, 93, 94, 80, 77, 91, 66, 59, 59, 66, 59, 77, 80,\n",
       "       66, 79, 66, 94, 77, 79, 73, 94, 94, 94, 73, 93, 85, 77, 91, 91, 66,\n",
       "       59, 79])"
      ]
     },
     "execution_count": 21,
     "metadata": {},
     "output_type": "execute_result"
    }
   ],
   "source": [
    "y_test"
   ]
  },
  {
   "cell_type": "code",
   "execution_count": 22,
   "id": "34f8e74f-4547-40c8-bd17-dc62c7dcbe9b",
   "metadata": {},
   "outputs": [
    {
     "data": {
      "text/plain": [
       "11.56411173077839"
      ]
     },
     "execution_count": 22,
     "metadata": {},
     "output_type": "execute_result"
    }
   ],
   "source": [
    "MAE(y_test,y_pred,36)"
   ]
  },
  {
   "cell_type": "code",
   "execution_count": 23,
   "id": "ca0c4a14-3102-4b7d-8357-05dee41059e1",
   "metadata": {},
   "outputs": [
    {
     "data": {
      "text/plain": [
       "69.38467038467034"
      ]
     },
     "execution_count": 23,
     "metadata": {},
     "output_type": "execute_result"
    }
   ],
   "source": [
    "RMSE(y_test,y_pred,36)"
   ]
  },
  {
   "cell_type": "code",
   "execution_count": 24,
   "id": "4d7b403f-29a5-4237-8ee5-81fe8adcdc9b",
   "metadata": {},
   "outputs": [],
   "source": [
    "#Model2\n",
    "num2=0\n",
    "denom2=0\n",
    "r=0\n",
    "n2=84\n",
    "Sx=0\n",
    "Sy=0\n",
    "for i in range(84):\n",
    "    num2+=(x_train[i]-x_mean)*(y_train[i]-y_mean)\n",
    "    denom2+=math.sqrt(((x_train[i]-x_mean)**2)*((y_train[i]-y_mean)**2))\n",
    "    Sx+=(math.sqrt((x_train[i]-x_mean)**2))/n-1\n",
    "    Sy+=(math.sqrt((y_train[i]-y_mean)**2))/n-1\n",
    "r=num2/denom2 \n",
    "\n",
    "b1=r*(Sy/Sx)\n",
    "b0=y_mean - (b1*x_mean)    "
   ]
  },
  {
   "cell_type": "code",
   "execution_count": 25,
   "id": "1a731601-82b4-4213-b84f-395ad11764f5",
   "metadata": {},
   "outputs": [
    {
     "data": {
      "text/plain": [
       "0.7233623548922063"
      ]
     },
     "execution_count": 25,
     "metadata": {},
     "output_type": "execute_result"
    }
   ],
   "source": [
    "r"
   ]
  },
  {
   "cell_type": "code",
   "execution_count": 26,
   "id": "061ec576-35b1-45e7-8a0a-34728625169b",
   "metadata": {},
   "outputs": [
    {
     "data": {
      "text/plain": [
       "69.66008784373622"
      ]
     },
     "execution_count": 26,
     "metadata": {},
     "output_type": "execute_result"
    }
   ],
   "source": [
    "b0"
   ]
  },
  {
   "cell_type": "code",
   "execution_count": 27,
   "id": "e681f2f4-403c-42be-9f0d-962b2692cb0a",
   "metadata": {},
   "outputs": [
    {
     "data": {
      "text/plain": [
       "0.6824520899586467"
      ]
     },
     "execution_count": 27,
     "metadata": {},
     "output_type": "execute_result"
    }
   ],
   "source": [
    "b1"
   ]
  },
  {
   "cell_type": "code",
   "execution_count": 28,
   "id": "418bad5a-9485-4280-86e7-15e4ad12c464",
   "metadata": {},
   "outputs": [],
   "source": [
    "y_pred2= b0+ (b1*x)"
   ]
  },
  {
   "cell_type": "code",
   "execution_count": 29,
   "id": "849b4373-ae42-411f-9b27-8ce529b73e76",
   "metadata": {},
   "outputs": [
    {
     "data": {
      "text/plain": [
       "array([81.26177337, 78.53196501, 77.84951292, 79.89686919, 80.57932128,\n",
       "       79.2144171 , 80.57932128, 80.57932128, 81.94422546, 82.62667755,\n",
       "       81.26177337, 78.53196501, 77.84951292, 79.89686919, 80.57932128,\n",
       "       79.2144171 , 80.57932128, 80.57932128, 81.94422546, 82.62667755,\n",
       "       81.26177337, 78.53196501, 77.84951292, 79.89686919, 80.57932128,\n",
       "       79.2144171 , 80.57932128, 80.57932128, 81.94422546, 82.62667755,\n",
       "       81.26177337, 78.53196501, 77.84951292, 79.89686919, 80.57932128,\n",
       "       79.2144171 , 80.57932128, 80.57932128, 81.94422546, 82.62667755,\n",
       "       81.26177337, 78.53196501, 77.84951292, 79.89686919, 80.57932128,\n",
       "       79.2144171 , 80.57932128, 80.57932128, 81.94422546, 82.62667755,\n",
       "       81.26177337, 78.53196501, 77.84951292, 79.89686919, 80.57932128,\n",
       "       79.2144171 , 80.57932128, 80.57932128, 81.94422546, 82.62667755,\n",
       "       81.26177337, 78.53196501, 77.84951292, 79.89686919, 80.57932128,\n",
       "       79.2144171 , 80.57932128, 80.57932128, 81.94422546, 82.62667755,\n",
       "       81.26177337, 78.53196501, 77.84951292, 79.89686919, 80.57932128,\n",
       "       79.2144171 , 80.57932128, 80.57932128, 81.94422546, 82.62667755,\n",
       "       81.26177337, 78.53196501, 77.84951292, 79.89686919, 80.57932128,\n",
       "       79.2144171 , 80.57932128, 80.57932128, 81.94422546, 82.62667755,\n",
       "       81.26177337, 78.53196501, 77.84951292, 79.89686919, 80.57932128,\n",
       "       79.2144171 , 80.57932128, 80.57932128, 81.94422546, 82.62667755,\n",
       "       81.26177337, 78.53196501, 77.84951292, 79.89686919, 80.57932128,\n",
       "       79.2144171 , 80.57932128, 80.57932128, 81.94422546, 82.62667755,\n",
       "       81.26177337, 78.53196501, 77.84951292, 79.89686919, 80.57932128,\n",
       "       79.2144171 , 80.57932128, 80.57932128, 81.94422546, 82.62667755])"
      ]
     },
     "execution_count": 29,
     "metadata": {},
     "output_type": "execute_result"
    }
   ],
   "source": [
    "y_pred2"
   ]
  },
  {
   "cell_type": "code",
   "execution_count": 30,
   "id": "5f8ab29a-b1e1-4899-82e8-7aa6ceaa63aa",
   "metadata": {},
   "outputs": [
    {
     "data": {
      "text/plain": [
       "array([77, 73, 91, 93, 59, 93, 94, 80, 77, 91, 66, 59, 59, 66, 59, 77, 80,\n",
       "       66, 79, 66, 94, 77, 79, 73, 94, 94, 94, 73, 93, 85, 77, 91, 91, 66,\n",
       "       59, 79])"
      ]
     },
     "execution_count": 30,
     "metadata": {},
     "output_type": "execute_result"
    }
   ],
   "source": [
    "y_test"
   ]
  },
  {
   "cell_type": "code",
   "execution_count": 31,
   "id": "92b614b7-5e29-4841-83a9-aa1c20efc987",
   "metadata": {},
   "outputs": [
    {
     "data": {
      "text/plain": [
       "62.55283705909252"
      ]
     },
     "execution_count": 31,
     "metadata": {},
     "output_type": "execute_result"
    }
   ],
   "source": [
    "RMSE(y_test,y_pred2,36)"
   ]
  },
  {
   "cell_type": "code",
   "execution_count": 32,
   "id": "9fd212c4-2a7e-4f39-b133-b2545a6d7107",
   "metadata": {},
   "outputs": [
    {
     "data": {
      "text/plain": [
       "10.425472843182087"
      ]
     },
     "execution_count": 32,
     "metadata": {},
     "output_type": "execute_result"
    }
   ],
   "source": [
    "MAE(y_test,y_pred2,36)"
   ]
  },
  {
   "cell_type": "code",
   "execution_count": 38,
   "id": "d60cc63b-ff45-48b3-af93-c458a37f2e08",
   "metadata": {},
   "outputs": [
    {
     "data": {
      "image/png": "[encoded data removed]",
      "text/plain": [
       "<Figure size 640x480 with 1 Axes>"
      ]
     },
     "metadata": {},
     "output_type": "display_data"
    }
   ],
   "source": [
    "plt.scatter(x, y, label='Original data')\n",
    "plt.plot(x, y_pred, color='red', label='Regression line')\n",
    "plt.xlabel('X')\n",
    "plt.ylabel('y')\n",
    "plt.title('Simple Linear Regression')\n",
    "plt.legend()\n",
    "plt.show()"
   ]
  },
  {
   "cell_type": "code",
   "execution_count": null,
   "id": "3ce5d529-9edd-432c-ad7c-b00fd1b97082",
   "metadata": {},
   "outputs": [],
   "source": []
  }
 ],
 "metadata": {
  "kernelspec": {
   "display_name": "Python 3 (ipykernel)",
   "language": "python",
   "name": "python3"
  },
  "language_info": {
   "codemirror_mode": {
    "name": "ipython",
    "version": 3
   },
   "file_extension": ".py",
   "mimetype": "text/x-python",
   "name": "python",
   "nbconvert_exporter": "python",
   "pygments_lexer": "ipython3",
   "version": "3.10.9"
  }
 },
 "nbformat": 4,
 "nbformat_minor": 5
}
