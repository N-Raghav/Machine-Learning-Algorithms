{
 "cells": [
  {
   "cell_type": "code",
   "execution_count": 231,
   "id": "4a4b3403-d03b-4e9d-b9e4-1689311ecec2",
   "metadata": {},
   "outputs": [],
   "source": [
    "import pandas as pd \n",
    "import numpy as np\n",
    "import seaborn as sns\n",
    "data=pd.read_csv(\"telecom_customer_churn.csv\")"
   ]
  },
  {
   "cell_type": "code",
   "execution_count": 232,
   "id": "b8c89a5d-a8c6-4b40-a9d5-cc65c70780a3",
   "metadata": {},
   "outputs": [
    {
     "data": {
      "text/plain": [
       "<bound method DataFrame.info of      Customer ID  Gender  Age Married  Number of Dependents          City  \\\n",
       "0     0002-ORFBO  Female   37     Yes                     0  Frazier Park   \n",
       "1     0003-MKNFE    Male   46      No                     0      Glendale   \n",
       "2     0004-TLHLJ    Male   50      No                     0    Costa Mesa   \n",
       "3     0011-IGKFF    Male   78     Yes                     0      Martinez   \n",
       "4     0013-EXCHZ  Female   75     Yes                     0     Camarillo   \n",
       "...          ...     ...  ...     ...                   ...           ...   \n",
       "6584  9986-BONCE  Female   36      No                     0     Fallbrook   \n",
       "6585  9987-LUTYD  Female   20      No                     0       La Mesa   \n",
       "6586  9992-RRAMN    Male   40     Yes                     0     Riverbank   \n",
       "6587  9993-LHIEB    Male   21     Yes                     0  Solana Beach   \n",
       "6588  9995-HOTOH    Male   36     Yes                     0   Sierra City   \n",
       "\n",
       "      Zip Code   Latitude   Longitude  Number of Referrals  ...  \\\n",
       "0        93225  34.827662 -118.999073                    2  ...   \n",
       "1        91206  34.162515 -118.203869                    0  ...   \n",
       "2        92627  33.645672 -117.922613                    0  ...   \n",
       "3        94553  38.014457 -122.115432                    1  ...   \n",
       "4        93010  34.227846 -119.079903                    3  ...   \n",
       "...        ...        ...         ...                  ...  ...   \n",
       "6584     92028  33.362575 -117.299644                    0  ...   \n",
       "6585     91941  32.759327 -116.997260                    0  ...   \n",
       "6586     95367  37.734971 -120.954271                    1  ...   \n",
       "6587     92075  33.001813 -117.263628                    5  ...   \n",
       "6588     96125  39.600599 -120.636358                    1  ...   \n",
       "\n",
       "       Payment Method Monthly Charge Total Charges  Total Refunds  \\\n",
       "0         Credit Card          65.60        593.30           0.00   \n",
       "1         Credit Card          -4.00        542.40          38.33   \n",
       "2     Bank Withdrawal          73.90        280.85           0.00   \n",
       "3     Bank Withdrawal          98.00       1237.85           0.00   \n",
       "4         Credit Card          83.90        267.40           0.00   \n",
       "...               ...            ...           ...            ...   \n",
       "6584  Bank Withdrawal          20.95         85.50           0.00   \n",
       "6585      Credit Card          55.15        742.90           0.00   \n",
       "6586  Bank Withdrawal          85.10       1873.70           0.00   \n",
       "6587      Credit Card          67.85       4627.65           0.00   \n",
       "6588  Bank Withdrawal          59.00       3707.60           0.00   \n",
       "\n",
       "     Total Extra Data Charges Total Long Distance Charges Total Revenue  \\\n",
       "0                           0                      381.51        974.81   \n",
       "1                          10                       96.21        610.28   \n",
       "2                           0                      134.60        415.45   \n",
       "3                           0                      361.66       1599.51   \n",
       "4                           0                       22.14        289.54   \n",
       "...                       ...                         ...           ...   \n",
       "6584                        0                        8.04         93.54   \n",
       "6585                        0                      606.84       1349.74   \n",
       "6586                        0                      356.40       2230.10   \n",
       "6587                        0                      142.04       4769.69   \n",
       "6588                        0                        0.00       3707.60   \n",
       "\n",
       "      Customer Status   Churn Category                   Churn Reason  \n",
       "0                   1              NaN                            NaN  \n",
       "1                   1              NaN                            NaN  \n",
       "2                   0       Competitor  Competitor had better devices  \n",
       "3                   0  Dissatisfaction        Product dissatisfaction  \n",
       "4                   0  Dissatisfaction            Network reliability  \n",
       "...               ...              ...                            ...  \n",
       "6584                0       Competitor   Competitor made better offer  \n",
       "6585                1              NaN                            NaN  \n",
       "6586                0  Dissatisfaction        Product dissatisfaction  \n",
       "6587                1              NaN                            NaN  \n",
       "6588                1              NaN                            NaN  \n",
       "\n",
       "[6589 rows x 38 columns]>"
      ]
     },
     "execution_count": 232,
     "metadata": {},
     "output_type": "execute_result"
    }
   ],
   "source": [
    "data.info"
   ]
  },
  {
   "cell_type": "code",
   "execution_count": 161,
   "id": "a0905d87-088e-4e2a-9954-aaed0c3990c2",
   "metadata": {},
   "outputs": [
    {
     "data": {
      "text/html": [
       "<div>\n",
       "<style scoped>\n",
       "    .dataframe tbody tr th:only-of-type {\n",
       "        vertical-align: middle;\n",
       "    }\n",
       "\n",
       "    .dataframe tbody tr th {\n",
       "        vertical-align: top;\n",
       "    }\n",
       "\n",
       "    .dataframe thead th {\n",
       "        text-align: right;\n",
       "    }\n",
       "</style>\n",
       "<table border=\"1\" class=\"dataframe\">\n",
       "  <thead>\n",
       "    <tr style=\"text-align: right;\">\n",
       "      <th></th>\n",
       "      <th>Customer ID</th>\n",
       "      <th>Gender</th>\n",
       "      <th>Age</th>\n",
       "      <th>Married</th>\n",
       "      <th>Number of Dependents</th>\n",
       "      <th>City</th>\n",
       "      <th>Zip Code</th>\n",
       "      <th>Latitude</th>\n",
       "      <th>Longitude</th>\n",
       "      <th>Number of Referrals</th>\n",
       "      <th>...</th>\n",
       "      <th>Payment Method</th>\n",
       "      <th>Monthly Charge</th>\n",
       "      <th>Total Charges</th>\n",
       "      <th>Total Refunds</th>\n",
       "      <th>Total Extra Data Charges</th>\n",
       "      <th>Total Long Distance Charges</th>\n",
       "      <th>Total Revenue</th>\n",
       "      <th>Customer Status</th>\n",
       "      <th>Churn Category</th>\n",
       "      <th>Churn Reason</th>\n",
       "    </tr>\n",
       "  </thead>\n",
       "  <tbody>\n",
       "    <tr>\n",
       "      <th>0</th>\n",
       "      <td>0002-ORFBO</td>\n",
       "      <td>Female</td>\n",
       "      <td>37</td>\n",
       "      <td>Yes</td>\n",
       "      <td>0</td>\n",
       "      <td>Frazier Park</td>\n",
       "      <td>93225</td>\n",
       "      <td>34.827662</td>\n",
       "      <td>-118.999073</td>\n",
       "      <td>2</td>\n",
       "      <td>...</td>\n",
       "      <td>Credit Card</td>\n",
       "      <td>65.6</td>\n",
       "      <td>593.30</td>\n",
       "      <td>0.00</td>\n",
       "      <td>0</td>\n",
       "      <td>381.51</td>\n",
       "      <td>974.81</td>\n",
       "      <td>1</td>\n",
       "      <td>NaN</td>\n",
       "      <td>NaN</td>\n",
       "    </tr>\n",
       "    <tr>\n",
       "      <th>1</th>\n",
       "      <td>0003-MKNFE</td>\n",
       "      <td>Male</td>\n",
       "      <td>46</td>\n",
       "      <td>No</td>\n",
       "      <td>0</td>\n",
       "      <td>Glendale</td>\n",
       "      <td>91206</td>\n",
       "      <td>34.162515</td>\n",
       "      <td>-118.203869</td>\n",
       "      <td>0</td>\n",
       "      <td>...</td>\n",
       "      <td>Credit Card</td>\n",
       "      <td>-4.0</td>\n",
       "      <td>542.40</td>\n",
       "      <td>38.33</td>\n",
       "      <td>10</td>\n",
       "      <td>96.21</td>\n",
       "      <td>610.28</td>\n",
       "      <td>1</td>\n",
       "      <td>NaN</td>\n",
       "      <td>NaN</td>\n",
       "    </tr>\n",
       "    <tr>\n",
       "      <th>2</th>\n",
       "      <td>0004-TLHLJ</td>\n",
       "      <td>Male</td>\n",
       "      <td>50</td>\n",
       "      <td>No</td>\n",
       "      <td>0</td>\n",
       "      <td>Costa Mesa</td>\n",
       "      <td>92627</td>\n",
       "      <td>33.645672</td>\n",
       "      <td>-117.922613</td>\n",
       "      <td>0</td>\n",
       "      <td>...</td>\n",
       "      <td>Bank Withdrawal</td>\n",
       "      <td>73.9</td>\n",
       "      <td>280.85</td>\n",
       "      <td>0.00</td>\n",
       "      <td>0</td>\n",
       "      <td>134.60</td>\n",
       "      <td>415.45</td>\n",
       "      <td>0</td>\n",
       "      <td>Competitor</td>\n",
       "      <td>Competitor had better devices</td>\n",
       "    </tr>\n",
       "    <tr>\n",
       "      <th>3</th>\n",
       "      <td>0011-IGKFF</td>\n",
       "      <td>Male</td>\n",
       "      <td>78</td>\n",
       "      <td>Yes</td>\n",
       "      <td>0</td>\n",
       "      <td>Martinez</td>\n",
       "      <td>94553</td>\n",
       "      <td>38.014457</td>\n",
       "      <td>-122.115432</td>\n",
       "      <td>1</td>\n",
       "      <td>...</td>\n",
       "      <td>Bank Withdrawal</td>\n",
       "      <td>98.0</td>\n",
       "      <td>1237.85</td>\n",
       "      <td>0.00</td>\n",
       "      <td>0</td>\n",
       "      <td>361.66</td>\n",
       "      <td>1599.51</td>\n",
       "      <td>0</td>\n",
       "      <td>Dissatisfaction</td>\n",
       "      <td>Product dissatisfaction</td>\n",
       "    </tr>\n",
       "    <tr>\n",
       "      <th>4</th>\n",
       "      <td>0013-EXCHZ</td>\n",
       "      <td>Female</td>\n",
       "      <td>75</td>\n",
       "      <td>Yes</td>\n",
       "      <td>0</td>\n",
       "      <td>Camarillo</td>\n",
       "      <td>93010</td>\n",
       "      <td>34.227846</td>\n",
       "      <td>-119.079903</td>\n",
       "      <td>3</td>\n",
       "      <td>...</td>\n",
       "      <td>Credit Card</td>\n",
       "      <td>83.9</td>\n",
       "      <td>267.40</td>\n",
       "      <td>0.00</td>\n",
       "      <td>0</td>\n",
       "      <td>22.14</td>\n",
       "      <td>289.54</td>\n",
       "      <td>0</td>\n",
       "      <td>Dissatisfaction</td>\n",
       "      <td>Network reliability</td>\n",
       "    </tr>\n",
       "  </tbody>\n",
       "</table>\n",
       "<p>5 rows × 38 columns</p>\n",
       "</div>"
      ],
      "text/plain": [
       "  Customer ID  Gender  Age Married  Number of Dependents          City  \\\n",
       "0  0002-ORFBO  Female   37     Yes                     0  Frazier Park   \n",
       "1  0003-MKNFE    Male   46      No                     0      Glendale   \n",
       "2  0004-TLHLJ    Male   50      No                     0    Costa Mesa   \n",
       "3  0011-IGKFF    Male   78     Yes                     0      Martinez   \n",
       "4  0013-EXCHZ  Female   75     Yes                     0     Camarillo   \n",
       "\n",
       "   Zip Code   Latitude   Longitude  Number of Referrals  ...   Payment Method  \\\n",
       "0     93225  34.827662 -118.999073                    2  ...      Credit Card   \n",
       "1     91206  34.162515 -118.203869                    0  ...      Credit Card   \n",
       "2     92627  33.645672 -117.922613                    0  ...  Bank Withdrawal   \n",
       "3     94553  38.014457 -122.115432                    1  ...  Bank Withdrawal   \n",
       "4     93010  34.227846 -119.079903                    3  ...      Credit Card   \n",
       "\n",
       "  Monthly Charge Total Charges  Total Refunds Total Extra Data Charges  \\\n",
       "0           65.6        593.30           0.00                        0   \n",
       "1           -4.0        542.40          38.33                       10   \n",
       "2           73.9        280.85           0.00                        0   \n",
       "3           98.0       1237.85           0.00                        0   \n",
       "4           83.9        267.40           0.00                        0   \n",
       "\n",
       "  Total Long Distance Charges Total Revenue  Customer Status   Churn Category  \\\n",
       "0                      381.51        974.81                1              NaN   \n",
       "1                       96.21        610.28                1              NaN   \n",
       "2                      134.60        415.45                0       Competitor   \n",
       "3                      361.66       1599.51                0  Dissatisfaction   \n",
       "4                       22.14        289.54                0  Dissatisfaction   \n",
       "\n",
       "                    Churn Reason  \n",
       "0                            NaN  \n",
       "1                            NaN  \n",
       "2  Competitor had better devices  \n",
       "3        Product dissatisfaction  \n",
       "4            Network reliability  \n",
       "\n",
       "[5 rows x 38 columns]"
      ]
     },
     "execution_count": 161,
     "metadata": {},
     "output_type": "execute_result"
    }
   ],
   "source": [
    "data.head()"
   ]
  },
  {
   "cell_type": "code",
   "execution_count": 162,
   "id": "326aef56-81b8-480e-8830-f1fecd095bc5",
   "metadata": {},
   "outputs": [
    {
     "data": {
      "text/html": [
       "<div>\n",
       "<style scoped>\n",
       "    .dataframe tbody tr th:only-of-type {\n",
       "        vertical-align: middle;\n",
       "    }\n",
       "\n",
       "    .dataframe tbody tr th {\n",
       "        vertical-align: top;\n",
       "    }\n",
       "\n",
       "    .dataframe thead th {\n",
       "        text-align: right;\n",
       "    }\n",
       "</style>\n",
       "<table border=\"1\" class=\"dataframe\">\n",
       "  <thead>\n",
       "    <tr style=\"text-align: right;\">\n",
       "      <th></th>\n",
       "      <th>Customer ID</th>\n",
       "      <th>Gender</th>\n",
       "      <th>Age</th>\n",
       "      <th>Married</th>\n",
       "      <th>Number of Dependents</th>\n",
       "      <th>City</th>\n",
       "      <th>Zip Code</th>\n",
       "      <th>Latitude</th>\n",
       "      <th>Longitude</th>\n",
       "      <th>Number of Referrals</th>\n",
       "      <th>...</th>\n",
       "      <th>Payment Method</th>\n",
       "      <th>Monthly Charge</th>\n",
       "      <th>Total Charges</th>\n",
       "      <th>Total Refunds</th>\n",
       "      <th>Total Extra Data Charges</th>\n",
       "      <th>Total Long Distance Charges</th>\n",
       "      <th>Total Revenue</th>\n",
       "      <th>Customer Status</th>\n",
       "      <th>Churn Category</th>\n",
       "      <th>Churn Reason</th>\n",
       "    </tr>\n",
       "  </thead>\n",
       "  <tbody>\n",
       "    <tr>\n",
       "      <th>6584</th>\n",
       "      <td>9986-BONCE</td>\n",
       "      <td>Female</td>\n",
       "      <td>36</td>\n",
       "      <td>No</td>\n",
       "      <td>0</td>\n",
       "      <td>Fallbrook</td>\n",
       "      <td>92028</td>\n",
       "      <td>33.362575</td>\n",
       "      <td>-117.299644</td>\n",
       "      <td>0</td>\n",
       "      <td>...</td>\n",
       "      <td>Bank Withdrawal</td>\n",
       "      <td>20.95</td>\n",
       "      <td>85.50</td>\n",
       "      <td>0.0</td>\n",
       "      <td>0</td>\n",
       "      <td>8.04</td>\n",
       "      <td>93.54</td>\n",
       "      <td>0</td>\n",
       "      <td>Competitor</td>\n",
       "      <td>Competitor made better offer</td>\n",
       "    </tr>\n",
       "    <tr>\n",
       "      <th>6585</th>\n",
       "      <td>9987-LUTYD</td>\n",
       "      <td>Female</td>\n",
       "      <td>20</td>\n",
       "      <td>No</td>\n",
       "      <td>0</td>\n",
       "      <td>La Mesa</td>\n",
       "      <td>91941</td>\n",
       "      <td>32.759327</td>\n",
       "      <td>-116.997260</td>\n",
       "      <td>0</td>\n",
       "      <td>...</td>\n",
       "      <td>Credit Card</td>\n",
       "      <td>55.15</td>\n",
       "      <td>742.90</td>\n",
       "      <td>0.0</td>\n",
       "      <td>0</td>\n",
       "      <td>606.84</td>\n",
       "      <td>1349.74</td>\n",
       "      <td>1</td>\n",
       "      <td>NaN</td>\n",
       "      <td>NaN</td>\n",
       "    </tr>\n",
       "    <tr>\n",
       "      <th>6586</th>\n",
       "      <td>9992-RRAMN</td>\n",
       "      <td>Male</td>\n",
       "      <td>40</td>\n",
       "      <td>Yes</td>\n",
       "      <td>0</td>\n",
       "      <td>Riverbank</td>\n",
       "      <td>95367</td>\n",
       "      <td>37.734971</td>\n",
       "      <td>-120.954271</td>\n",
       "      <td>1</td>\n",
       "      <td>...</td>\n",
       "      <td>Bank Withdrawal</td>\n",
       "      <td>85.10</td>\n",
       "      <td>1873.70</td>\n",
       "      <td>0.0</td>\n",
       "      <td>0</td>\n",
       "      <td>356.40</td>\n",
       "      <td>2230.10</td>\n",
       "      <td>0</td>\n",
       "      <td>Dissatisfaction</td>\n",
       "      <td>Product dissatisfaction</td>\n",
       "    </tr>\n",
       "    <tr>\n",
       "      <th>6587</th>\n",
       "      <td>9993-LHIEB</td>\n",
       "      <td>Male</td>\n",
       "      <td>21</td>\n",
       "      <td>Yes</td>\n",
       "      <td>0</td>\n",
       "      <td>Solana Beach</td>\n",
       "      <td>92075</td>\n",
       "      <td>33.001813</td>\n",
       "      <td>-117.263628</td>\n",
       "      <td>5</td>\n",
       "      <td>...</td>\n",
       "      <td>Credit Card</td>\n",
       "      <td>67.85</td>\n",
       "      <td>4627.65</td>\n",
       "      <td>0.0</td>\n",
       "      <td>0</td>\n",
       "      <td>142.04</td>\n",
       "      <td>4769.69</td>\n",
       "      <td>1</td>\n",
       "      <td>NaN</td>\n",
       "      <td>NaN</td>\n",
       "    </tr>\n",
       "    <tr>\n",
       "      <th>6588</th>\n",
       "      <td>9995-HOTOH</td>\n",
       "      <td>Male</td>\n",
       "      <td>36</td>\n",
       "      <td>Yes</td>\n",
       "      <td>0</td>\n",
       "      <td>Sierra City</td>\n",
       "      <td>96125</td>\n",
       "      <td>39.600599</td>\n",
       "      <td>-120.636358</td>\n",
       "      <td>1</td>\n",
       "      <td>...</td>\n",
       "      <td>Bank Withdrawal</td>\n",
       "      <td>59.00</td>\n",
       "      <td>3707.60</td>\n",
       "      <td>0.0</td>\n",
       "      <td>0</td>\n",
       "      <td>0.00</td>\n",
       "      <td>3707.60</td>\n",
       "      <td>1</td>\n",
       "      <td>NaN</td>\n",
       "      <td>NaN</td>\n",
       "    </tr>\n",
       "  </tbody>\n",
       "</table>\n",
       "<p>5 rows × 38 columns</p>\n",
       "</div>"
      ],
      "text/plain": [
       "     Customer ID  Gender  Age Married  Number of Dependents          City  \\\n",
       "6584  9986-BONCE  Female   36      No                     0     Fallbrook   \n",
       "6585  9987-LUTYD  Female   20      No                     0       La Mesa   \n",
       "6586  9992-RRAMN    Male   40     Yes                     0     Riverbank   \n",
       "6587  9993-LHIEB    Male   21     Yes                     0  Solana Beach   \n",
       "6588  9995-HOTOH    Male   36     Yes                     0   Sierra City   \n",
       "\n",
       "      Zip Code   Latitude   Longitude  Number of Referrals  ...  \\\n",
       "6584     92028  33.362575 -117.299644                    0  ...   \n",
       "6585     91941  32.759327 -116.997260                    0  ...   \n",
       "6586     95367  37.734971 -120.954271                    1  ...   \n",
       "6587     92075  33.001813 -117.263628                    5  ...   \n",
       "6588     96125  39.600599 -120.636358                    1  ...   \n",
       "\n",
       "       Payment Method Monthly Charge Total Charges  Total Refunds  \\\n",
       "6584  Bank Withdrawal          20.95         85.50            0.0   \n",
       "6585      Credit Card          55.15        742.90            0.0   \n",
       "6586  Bank Withdrawal          85.10       1873.70            0.0   \n",
       "6587      Credit Card          67.85       4627.65            0.0   \n",
       "6588  Bank Withdrawal          59.00       3707.60            0.0   \n",
       "\n",
       "     Total Extra Data Charges Total Long Distance Charges Total Revenue  \\\n",
       "6584                        0                        8.04         93.54   \n",
       "6585                        0                      606.84       1349.74   \n",
       "6586                        0                      356.40       2230.10   \n",
       "6587                        0                      142.04       4769.69   \n",
       "6588                        0                        0.00       3707.60   \n",
       "\n",
       "      Customer Status   Churn Category                  Churn Reason  \n",
       "6584                0       Competitor  Competitor made better offer  \n",
       "6585                1              NaN                           NaN  \n",
       "6586                0  Dissatisfaction       Product dissatisfaction  \n",
       "6587                1              NaN                           NaN  \n",
       "6588                1              NaN                           NaN  \n",
       "\n",
       "[5 rows x 38 columns]"
      ]
     },
     "execution_count": 162,
     "metadata": {},
     "output_type": "execute_result"
    }
   ],
   "source": [
    "data.tail()"
   ]
  },
  {
   "cell_type": "code",
   "execution_count": 163,
   "id": "cc713839-2594-4980-a84e-7b771a8439a5",
   "metadata": {},
   "outputs": [
    {
     "data": {
      "text/plain": [
       "<bound method NDFrame.describe of      Customer ID  Gender  Age Married  Number of Dependents          City  \\\n",
       "0     0002-ORFBO  Female   37     Yes                     0  Frazier Park   \n",
       "1     0003-MKNFE    Male   46      No                     0      Glendale   \n",
       "2     0004-TLHLJ    Male   50      No                     0    Costa Mesa   \n",
       "3     0011-IGKFF    Male   78     Yes                     0      Martinez   \n",
       "4     0013-EXCHZ  Female   75     Yes                     0     Camarillo   \n",
       "...          ...     ...  ...     ...                   ...           ...   \n",
       "6584  9986-BONCE  Female   36      No                     0     Fallbrook   \n",
       "6585  9987-LUTYD  Female   20      No                     0       La Mesa   \n",
       "6586  9992-RRAMN    Male   40     Yes                     0     Riverbank   \n",
       "6587  9993-LHIEB    Male   21     Yes                     0  Solana Beach   \n",
       "6588  9995-HOTOH    Male   36     Yes                     0   Sierra City   \n",
       "\n",
       "      Zip Code   Latitude   Longitude  Number of Referrals  ...  \\\n",
       "0        93225  34.827662 -118.999073                    2  ...   \n",
       "1        91206  34.162515 -118.203869                    0  ...   \n",
       "2        92627  33.645672 -117.922613                    0  ...   \n",
       "3        94553  38.014457 -122.115432                    1  ...   \n",
       "4        93010  34.227846 -119.079903                    3  ...   \n",
       "...        ...        ...         ...                  ...  ...   \n",
       "6584     92028  33.362575 -117.299644                    0  ...   \n",
       "6585     91941  32.759327 -116.997260                    0  ...   \n",
       "6586     95367  37.734971 -120.954271                    1  ...   \n",
       "6587     92075  33.001813 -117.263628                    5  ...   \n",
       "6588     96125  39.600599 -120.636358                    1  ...   \n",
       "\n",
       "       Payment Method Monthly Charge Total Charges  Total Refunds  \\\n",
       "0         Credit Card          65.60        593.30           0.00   \n",
       "1         Credit Card          -4.00        542.40          38.33   \n",
       "2     Bank Withdrawal          73.90        280.85           0.00   \n",
       "3     Bank Withdrawal          98.00       1237.85           0.00   \n",
       "4         Credit Card          83.90        267.40           0.00   \n",
       "...               ...            ...           ...            ...   \n",
       "6584  Bank Withdrawal          20.95         85.50           0.00   \n",
       "6585      Credit Card          55.15        742.90           0.00   \n",
       "6586  Bank Withdrawal          85.10       1873.70           0.00   \n",
       "6587      Credit Card          67.85       4627.65           0.00   \n",
       "6588  Bank Withdrawal          59.00       3707.60           0.00   \n",
       "\n",
       "     Total Extra Data Charges Total Long Distance Charges Total Revenue  \\\n",
       "0                           0                      381.51        974.81   \n",
       "1                          10                       96.21        610.28   \n",
       "2                           0                      134.60        415.45   \n",
       "3                           0                      361.66       1599.51   \n",
       "4                           0                       22.14        289.54   \n",
       "...                       ...                         ...           ...   \n",
       "6584                        0                        8.04         93.54   \n",
       "6585                        0                      606.84       1349.74   \n",
       "6586                        0                      356.40       2230.10   \n",
       "6587                        0                      142.04       4769.69   \n",
       "6588                        0                        0.00       3707.60   \n",
       "\n",
       "      Customer Status   Churn Category                   Churn Reason  \n",
       "0                   1              NaN                            NaN  \n",
       "1                   1              NaN                            NaN  \n",
       "2                   0       Competitor  Competitor had better devices  \n",
       "3                   0  Dissatisfaction        Product dissatisfaction  \n",
       "4                   0  Dissatisfaction            Network reliability  \n",
       "...               ...              ...                            ...  \n",
       "6584                0       Competitor   Competitor made better offer  \n",
       "6585                1              NaN                            NaN  \n",
       "6586                0  Dissatisfaction        Product dissatisfaction  \n",
       "6587                1              NaN                            NaN  \n",
       "6588                1              NaN                            NaN  \n",
       "\n",
       "[6589 rows x 38 columns]>"
      ]
     },
     "execution_count": 163,
     "metadata": {},
     "output_type": "execute_result"
    }
   ],
   "source": [
    "data.describe"
   ]
  },
  {
   "cell_type": "code",
   "execution_count": 164,
   "id": "78afa60f-efda-4b37-8b2c-a49b8e99ebc6",
   "metadata": {},
   "outputs": [
    {
     "data": {
      "text/plain": [
       "Index(['Customer ID', 'Gender', 'Age', 'Married', 'Number of Dependents',\n",
       "       'City', 'Zip Code', 'Latitude', 'Longitude', 'Number of Referrals',\n",
       "       'Tenure in Months', 'Offer', 'Phone Service',\n",
       "       'Avg Monthly Long Distance Charges', 'Multiple Lines',\n",
       "       'Internet Service', 'Internet Type', 'Avg Monthly GB Download',\n",
       "       'Online Security', 'Online Backup', 'Device Protection Plan',\n",
       "       'Premium Tech Support', 'Streaming TV', 'Streaming Movies',\n",
       "       'Streaming Music', 'Unlimited Data', 'Contract', 'Paperless Billing',\n",
       "       'Payment Method', 'Monthly Charge', 'Total Charges', 'Total Refunds',\n",
       "       'Total Extra Data Charges', 'Total Long Distance Charges',\n",
       "       'Total Revenue', 'Customer Status', 'Churn Category', 'Churn Reason'],\n",
       "      dtype='object')"
      ]
     },
     "execution_count": 164,
     "metadata": {},
     "output_type": "execute_result"
    }
   ],
   "source": [
    "data.columns"
   ]
  },
  {
   "cell_type": "code",
   "execution_count": 165,
   "id": "939127cf-ed28-471a-a0b5-88cb8f2d089f",
   "metadata": {},
   "outputs": [
    {
     "data": {
      "text/plain": [
       "Customer ID                          6589\n",
       "Gender                                  2\n",
       "Age                                    62\n",
       "Married                                 2\n",
       "Number of Dependents                   10\n",
       "City                                 1106\n",
       "Zip Code                             1626\n",
       "Latitude                             1626\n",
       "Longitude                            1625\n",
       "Number of Referrals                    12\n",
       "Tenure in Months                       72\n",
       "Offer                                   6\n",
       "Phone Service                           2\n",
       "Avg Monthly Long Distance Charges    3451\n",
       "Multiple Lines                          2\n",
       "Internet Service                        2\n",
       "Internet Type                           3\n",
       "Avg Monthly GB Download                49\n",
       "Online Security                         2\n",
       "Online Backup                           2\n",
       "Device Protection Plan                  2\n",
       "Premium Tech Support                    2\n",
       "Streaming TV                            2\n",
       "Streaming Movies                        2\n",
       "Streaming Music                         2\n",
       "Unlimited Data                          2\n",
       "Contract                                3\n",
       "Paperless Billing                       2\n",
       "Payment Method                          3\n",
       "Monthly Charge                       1579\n",
       "Total Charges                        6281\n",
       "Total Refunds                         496\n",
       "Total Extra Data Charges               16\n",
       "Total Long Distance Charges          5705\n",
       "Total Revenue                        6546\n",
       "Customer Status                         2\n",
       "Churn Category                          5\n",
       "Churn Reason                           20\n",
       "dtype: int64"
      ]
     },
     "execution_count": 165,
     "metadata": {},
     "output_type": "execute_result"
    }
   ],
   "source": [
    "data.nunique(axis=0)"
   ]
  },
  {
   "cell_type": "code",
   "execution_count": 166,
   "id": "e9a413aa-7af0-4ef6-a763-ac9aed1202cf",
   "metadata": {},
   "outputs": [
    {
     "data": {
      "text/html": [
       "<div>\n",
       "<style scoped>\n",
       "    .dataframe tbody tr th:only-of-type {\n",
       "        vertical-align: middle;\n",
       "    }\n",
       "\n",
       "    .dataframe tbody tr th {\n",
       "        vertical-align: top;\n",
       "    }\n",
       "\n",
       "    .dataframe thead th {\n",
       "        text-align: right;\n",
       "    }\n",
       "</style>\n",
       "<table border=\"1\" class=\"dataframe\">\n",
       "  <thead>\n",
       "    <tr style=\"text-align: right;\">\n",
       "      <th></th>\n",
       "      <th>Age</th>\n",
       "      <th>Number of Dependents</th>\n",
       "      <th>Zip Code</th>\n",
       "      <th>Latitude</th>\n",
       "      <th>Longitude</th>\n",
       "      <th>Number of Referrals</th>\n",
       "      <th>Tenure in Months</th>\n",
       "      <th>Avg Monthly Long Distance Charges</th>\n",
       "      <th>Avg Monthly GB Download</th>\n",
       "      <th>Monthly Charge</th>\n",
       "      <th>Total Charges</th>\n",
       "      <th>Total Refunds</th>\n",
       "      <th>Total Extra Data Charges</th>\n",
       "      <th>Total Long Distance Charges</th>\n",
       "      <th>Total Revenue</th>\n",
       "      <th>Customer Status</th>\n",
       "    </tr>\n",
       "  </thead>\n",
       "  <tbody>\n",
       "    <tr>\n",
       "      <th>count</th>\n",
       "      <td>6589.000000</td>\n",
       "      <td>6589.000000</td>\n",
       "      <td>6589.000000</td>\n",
       "      <td>6589.000000</td>\n",
       "      <td>6589.000000</td>\n",
       "      <td>6589.000000</td>\n",
       "      <td>6589.000000</td>\n",
       "      <td>5945.000000</td>\n",
       "      <td>5245.000000</td>\n",
       "      <td>6589.000000</td>\n",
       "      <td>6589.000000</td>\n",
       "      <td>6589.000000</td>\n",
       "      <td>6589.000000</td>\n",
       "      <td>6589.000000</td>\n",
       "      <td>6589.000000</td>\n",
       "      <td>6589.000000</td>\n",
       "    </tr>\n",
       "    <tr>\n",
       "      <th>mean</th>\n",
       "      <td>46.760510</td>\n",
       "      <td>0.476097</td>\n",
       "      <td>93491.504477</td>\n",
       "      <td>36.199761</td>\n",
       "      <td>-119.757670</td>\n",
       "      <td>2.020944</td>\n",
       "      <td>34.499772</td>\n",
       "      <td>25.496246</td>\n",
       "      <td>26.225929</td>\n",
       "      <td>65.030695</td>\n",
       "      <td>2432.042243</td>\n",
       "      <td>2.080938</td>\n",
       "      <td>7.169525</td>\n",
       "      <td>798.087251</td>\n",
       "      <td>3235.218082</td>\n",
       "      <td>0.716345</td>\n",
       "    </tr>\n",
       "    <tr>\n",
       "      <th>std</th>\n",
       "      <td>16.841362</td>\n",
       "      <td>0.968499</td>\n",
       "      <td>1857.575392</td>\n",
       "      <td>2.472459</td>\n",
       "      <td>2.155696</td>\n",
       "      <td>3.024016</td>\n",
       "      <td>23.968734</td>\n",
       "      <td>14.198424</td>\n",
       "      <td>19.565724</td>\n",
       "      <td>31.100727</td>\n",
       "      <td>2265.500080</td>\n",
       "      <td>8.125054</td>\n",
       "      <td>25.803163</td>\n",
       "      <td>853.767972</td>\n",
       "      <td>2854.600036</td>\n",
       "      <td>0.450805</td>\n",
       "    </tr>\n",
       "    <tr>\n",
       "      <th>min</th>\n",
       "      <td>19.000000</td>\n",
       "      <td>0.000000</td>\n",
       "      <td>90001.000000</td>\n",
       "      <td>32.555828</td>\n",
       "      <td>-124.301372</td>\n",
       "      <td>0.000000</td>\n",
       "      <td>1.000000</td>\n",
       "      <td>1.010000</td>\n",
       "      <td>2.000000</td>\n",
       "      <td>-10.000000</td>\n",
       "      <td>18.850000</td>\n",
       "      <td>0.000000</td>\n",
       "      <td>0.000000</td>\n",
       "      <td>0.000000</td>\n",
       "      <td>21.610000</td>\n",
       "      <td>0.000000</td>\n",
       "    </tr>\n",
       "    <tr>\n",
       "      <th>25%</th>\n",
       "      <td>33.000000</td>\n",
       "      <td>0.000000</td>\n",
       "      <td>92103.000000</td>\n",
       "      <td>33.989524</td>\n",
       "      <td>-121.788090</td>\n",
       "      <td>0.000000</td>\n",
       "      <td>12.000000</td>\n",
       "      <td>13.140000</td>\n",
       "      <td>13.000000</td>\n",
       "      <td>35.800000</td>\n",
       "      <td>544.550000</td>\n",
       "      <td>0.000000</td>\n",
       "      <td>0.000000</td>\n",
       "      <td>106.680000</td>\n",
       "      <td>835.450000</td>\n",
       "      <td>0.000000</td>\n",
       "    </tr>\n",
       "    <tr>\n",
       "      <th>50%</th>\n",
       "      <td>46.000000</td>\n",
       "      <td>0.000000</td>\n",
       "      <td>93526.000000</td>\n",
       "      <td>36.245926</td>\n",
       "      <td>-119.601370</td>\n",
       "      <td>0.000000</td>\n",
       "      <td>32.000000</td>\n",
       "      <td>25.720000</td>\n",
       "      <td>21.000000</td>\n",
       "      <td>71.050000</td>\n",
       "      <td>1563.900000</td>\n",
       "      <td>0.000000</td>\n",
       "      <td>0.000000</td>\n",
       "      <td>472.680000</td>\n",
       "      <td>2376.450000</td>\n",
       "      <td>1.000000</td>\n",
       "    </tr>\n",
       "    <tr>\n",
       "      <th>75%</th>\n",
       "      <td>60.000000</td>\n",
       "      <td>0.000000</td>\n",
       "      <td>95333.000000</td>\n",
       "      <td>38.169605</td>\n",
       "      <td>-117.967399</td>\n",
       "      <td>3.000000</td>\n",
       "      <td>57.000000</td>\n",
       "      <td>37.690000</td>\n",
       "      <td>30.000000</td>\n",
       "      <td>90.400000</td>\n",
       "      <td>4003.000000</td>\n",
       "      <td>0.000000</td>\n",
       "      <td>0.000000</td>\n",
       "      <td>1275.120000</td>\n",
       "      <td>5106.640000</td>\n",
       "      <td>1.000000</td>\n",
       "    </tr>\n",
       "    <tr>\n",
       "      <th>max</th>\n",
       "      <td>80.000000</td>\n",
       "      <td>9.000000</td>\n",
       "      <td>96150.000000</td>\n",
       "      <td>41.962127</td>\n",
       "      <td>-114.192901</td>\n",
       "      <td>11.000000</td>\n",
       "      <td>72.000000</td>\n",
       "      <td>49.990000</td>\n",
       "      <td>85.000000</td>\n",
       "      <td>118.750000</td>\n",
       "      <td>8684.800000</td>\n",
       "      <td>49.790000</td>\n",
       "      <td>150.000000</td>\n",
       "      <td>3564.720000</td>\n",
       "      <td>11979.340000</td>\n",
       "      <td>1.000000</td>\n",
       "    </tr>\n",
       "  </tbody>\n",
       "</table>\n",
       "</div>"
      ],
      "text/plain": [
       "               Age  Number of Dependents      Zip Code     Latitude  \\\n",
       "count  6589.000000           6589.000000   6589.000000  6589.000000   \n",
       "mean     46.760510              0.476097  93491.504477    36.199761   \n",
       "std      16.841362              0.968499   1857.575392     2.472459   \n",
       "min      19.000000              0.000000  90001.000000    32.555828   \n",
       "25%      33.000000              0.000000  92103.000000    33.989524   \n",
       "50%      46.000000              0.000000  93526.000000    36.245926   \n",
       "75%      60.000000              0.000000  95333.000000    38.169605   \n",
       "max      80.000000              9.000000  96150.000000    41.962127   \n",
       "\n",
       "         Longitude  Number of Referrals  Tenure in Months  \\\n",
       "count  6589.000000          6589.000000       6589.000000   \n",
       "mean   -119.757670             2.020944         34.499772   \n",
       "std       2.155696             3.024016         23.968734   \n",
       "min    -124.301372             0.000000          1.000000   \n",
       "25%    -121.788090             0.000000         12.000000   \n",
       "50%    -119.601370             0.000000         32.000000   \n",
       "75%    -117.967399             3.000000         57.000000   \n",
       "max    -114.192901            11.000000         72.000000   \n",
       "\n",
       "       Avg Monthly Long Distance Charges  Avg Monthly GB Download  \\\n",
       "count                        5945.000000              5245.000000   \n",
       "mean                           25.496246                26.225929   \n",
       "std                            14.198424                19.565724   \n",
       "min                             1.010000                 2.000000   \n",
       "25%                            13.140000                13.000000   \n",
       "50%                            25.720000                21.000000   \n",
       "75%                            37.690000                30.000000   \n",
       "max                            49.990000                85.000000   \n",
       "\n",
       "       Monthly Charge  Total Charges  Total Refunds  Total Extra Data Charges  \\\n",
       "count     6589.000000    6589.000000    6589.000000               6589.000000   \n",
       "mean        65.030695    2432.042243       2.080938                  7.169525   \n",
       "std         31.100727    2265.500080       8.125054                 25.803163   \n",
       "min        -10.000000      18.850000       0.000000                  0.000000   \n",
       "25%         35.800000     544.550000       0.000000                  0.000000   \n",
       "50%         71.050000    1563.900000       0.000000                  0.000000   \n",
       "75%         90.400000    4003.000000       0.000000                  0.000000   \n",
       "max        118.750000    8684.800000      49.790000                150.000000   \n",
       "\n",
       "       Total Long Distance Charges  Total Revenue  Customer Status  \n",
       "count                  6589.000000    6589.000000      6589.000000  \n",
       "mean                    798.087251    3235.218082         0.716345  \n",
       "std                     853.767972    2854.600036         0.450805  \n",
       "min                       0.000000      21.610000         0.000000  \n",
       "25%                     106.680000     835.450000         0.000000  \n",
       "50%                     472.680000    2376.450000         1.000000  \n",
       "75%                    1275.120000    5106.640000         1.000000  \n",
       "max                    3564.720000   11979.340000         1.000000  "
      ]
     },
     "execution_count": 166,
     "metadata": {},
     "output_type": "execute_result"
    }
   ],
   "source": [
    "data.describe()"
   ]
  },
  {
   "cell_type": "code",
   "execution_count": 167,
   "id": "49dfa61c-7594-47f0-a54d-c2d4adf2c6ef",
   "metadata": {},
   "outputs": [
    {
     "name": "stdout",
     "output_type": "stream",
     "text": [
      "<class 'pandas.core.frame.DataFrame'>\n",
      "RangeIndex: 6589 entries, 0 to 6588\n",
      "Data columns (total 38 columns):\n",
      " #   Column                             Non-Null Count  Dtype  \n",
      "---  ------                             --------------  -----  \n",
      " 0   Customer ID                        6589 non-null   object \n",
      " 1   Gender                             6589 non-null   object \n",
      " 2   Age                                6589 non-null   int64  \n",
      " 3   Married                            6589 non-null   object \n",
      " 4   Number of Dependents               6589 non-null   int64  \n",
      " 5   City                               6589 non-null   object \n",
      " 6   Zip Code                           6589 non-null   int64  \n",
      " 7   Latitude                           6589 non-null   float64\n",
      " 8   Longitude                          6589 non-null   float64\n",
      " 9   Number of Referrals                6589 non-null   int64  \n",
      " 10  Tenure in Months                   6589 non-null   int64  \n",
      " 11  Offer                              6589 non-null   object \n",
      " 12  Phone Service                      6589 non-null   object \n",
      " 13  Avg Monthly Long Distance Charges  5945 non-null   float64\n",
      " 14  Multiple Lines                     5945 non-null   object \n",
      " 15  Internet Service                   6589 non-null   object \n",
      " 16  Internet Type                      5245 non-null   object \n",
      " 17  Avg Monthly GB Download            5245 non-null   float64\n",
      " 18  Online Security                    5245 non-null   object \n",
      " 19  Online Backup                      5245 non-null   object \n",
      " 20  Device Protection Plan             5245 non-null   object \n",
      " 21  Premium Tech Support               5245 non-null   object \n",
      " 22  Streaming TV                       5245 non-null   object \n",
      " 23  Streaming Movies                   5245 non-null   object \n",
      " 24  Streaming Music                    5245 non-null   object \n",
      " 25  Unlimited Data                     5245 non-null   object \n",
      " 26  Contract                           6589 non-null   object \n",
      " 27  Paperless Billing                  6589 non-null   object \n",
      " 28  Payment Method                     6589 non-null   object \n",
      " 29  Monthly Charge                     6589 non-null   float64\n",
      " 30  Total Charges                      6589 non-null   float64\n",
      " 31  Total Refunds                      6589 non-null   float64\n",
      " 32  Total Extra Data Charges           6589 non-null   int64  \n",
      " 33  Total Long Distance Charges        6589 non-null   float64\n",
      " 34  Total Revenue                      6589 non-null   float64\n",
      " 35  Customer Status                    6589 non-null   int64  \n",
      " 36  Churn Category                     1869 non-null   object \n",
      " 37  Churn Reason                       1869 non-null   object \n",
      "dtypes: float64(9), int64(7), object(22)\n",
      "memory usage: 1.9+ MB\n"
     ]
    }
   ],
   "source": [
    "data.info()"
   ]
  },
  {
   "cell_type": "code",
   "execution_count": 168,
   "id": "dcd87c84-9093-496e-8fe2-817ecd4b90d8",
   "metadata": {},
   "outputs": [
    {
     "data": {
      "text/plain": [
       "Customer ID                           0.000000\n",
       "Gender                                0.000000\n",
       "Age                                   0.000000\n",
       "Married                               0.000000\n",
       "Number of Dependents                  0.000000\n",
       "City                                  0.000000\n",
       "Zip Code                              0.000000\n",
       "Latitude                              0.000000\n",
       "Longitude                             0.000000\n",
       "Number of Referrals                   0.000000\n",
       "Tenure in Months                      0.000000\n",
       "Offer                                 0.000000\n",
       "Phone Service                         0.000000\n",
       "Avg Monthly Long Distance Charges     9.773866\n",
       "Multiple Lines                        9.773866\n",
       "Internet Service                      0.000000\n",
       "Internet Type                        20.397632\n",
       "Avg Monthly GB Download              20.397632\n",
       "Online Security                      20.397632\n",
       "Online Backup                        20.397632\n",
       "Device Protection Plan               20.397632\n",
       "Premium Tech Support                 20.397632\n",
       "Streaming TV                         20.397632\n",
       "Streaming Movies                     20.397632\n",
       "Streaming Music                      20.397632\n",
       "Unlimited Data                       20.397632\n",
       "Contract                              0.000000\n",
       "Paperless Billing                     0.000000\n",
       "Payment Method                        0.000000\n",
       "Monthly Charge                        0.000000\n",
       "Total Charges                         0.000000\n",
       "Total Refunds                         0.000000\n",
       "Total Extra Data Charges              0.000000\n",
       "Total Long Distance Charges           0.000000\n",
       "Total Revenue                         0.000000\n",
       "Customer Status                       0.000000\n",
       "Churn Category                       71.634542\n",
       "Churn Reason                         71.634542\n",
       "dtype: float64"
      ]
     },
     "execution_count": 168,
     "metadata": {},
     "output_type": "execute_result"
    }
   ],
   "source": [
    "data.isnull().sum()*100/data.shape[0]"
   ]
  },
  {
   "cell_type": "code",
   "execution_count": 169,
   "id": "33e3f8c8-975d-451a-a6d0-f05db92d9867",
   "metadata": {},
   "outputs": [],
   "source": [
    "data['Total Long Distance Charges'] = data['Total Long Distance Charges'].replace(' ', np.nan)\n",
    "data['Total Long Distance Charges'] = pd.to_numeric(data['Total Long Distance Charges'])"
   ]
  },
  {
   "cell_type": "code",
   "execution_count": 170,
   "id": "d1d8b6a5-10de-45ef-8b71-cca669584798",
   "metadata": {},
   "outputs": [
    {
     "data": {
      "text/plain": [
       "0       381.51\n",
       "1        96.21\n",
       "2       134.60\n",
       "3       361.66\n",
       "4        22.14\n",
       "         ...  \n",
       "6584      8.04\n",
       "6585    606.84\n",
       "6586    356.40\n",
       "6587    142.04\n",
       "6588      0.00\n",
       "Name: Total Long Distance Charges, Length: 6589, dtype: float64"
      ]
     },
     "execution_count": 170,
     "metadata": {},
     "output_type": "execute_result"
    }
   ],
   "source": [
    "data['Total Long Distance Charges']"
   ]
  },
  {
   "cell_type": "code",
   "execution_count": 171,
   "id": "c6b52ba8-3231-4cf8-b9bc-dba3b2625ded",
   "metadata": {},
   "outputs": [],
   "source": [
    "value = (data['Total Long Distance Charges']/data['Avg Monthly Long Distance Charges']).mean()*data['Avg Monthly Long Distance Charges']"
   ]
  },
  {
   "cell_type": "code",
   "execution_count": 172,
   "id": "47455ab2-96af-4186-9ed8-5ff78a42b5bb",
   "metadata": {},
   "outputs": [],
   "source": [
    "data['Total Long Distance Charges'] = value.where(data['Total Long Distance Charges'] == np.nan, other =data['Total Long Distance Charges'])"
   ]
  },
  {
   "cell_type": "code",
   "execution_count": 173,
   "id": "ba7da925-e85b-4d59-b960-e0a45b75dedc",
   "metadata": {},
   "outputs": [
    {
     "data": {
      "text/plain": [
       "count    6589.000000\n",
       "mean      798.087251\n",
       "std       853.767972\n",
       "min         0.000000\n",
       "25%       106.680000\n",
       "50%       472.680000\n",
       "75%      1275.120000\n",
       "max      3564.720000\n",
       "Name: Total Long Distance Charges, dtype: float64"
      ]
     },
     "execution_count": 173,
     "metadata": {},
     "output_type": "execute_result"
    }
   ],
   "source": [
    "data['Total Long Distance Charges'].describe()"
   ]
  },
  {
   "cell_type": "code",
   "execution_count": 174,
   "id": "16d4d499-478d-4b55-9a11-40bab3b014ba",
   "metadata": {},
   "outputs": [
    {
     "data": {
      "text/plain": [
       "count    6589.000000\n",
       "mean        0.716345\n",
       "std         0.450805\n",
       "min         0.000000\n",
       "25%         0.000000\n",
       "50%         1.000000\n",
       "75%         1.000000\n",
       "max         1.000000\n",
       "Name: Customer Status, dtype: float64"
      ]
     },
     "execution_count": 174,
     "metadata": {},
     "output_type": "execute_result"
    }
   ],
   "source": [
    "data['Customer Status'].describe()"
   ]
  },
  {
   "cell_type": "code",
   "execution_count": 175,
   "id": "2072bec4-9f24-44f4-8ed0-29bd4308301b",
   "metadata": {},
   "outputs": [
    {
     "data": {
      "text/plain": [
       "array([<Axes: ylabel='Customer Status'>], dtype=object)"
      ]
     },
     "execution_count": 175,
     "metadata": {},
     "output_type": "execute_result"
    },
    {
     "data": {
      "image/png": "[encoded data removed]",
      "text/plain": [
       "<Figure size 640x480 with 1 Axes>"
      ]
     },
     "metadata": {},
     "output_type": "display_data"
    }
   ],
   "source": [
    "pie_churn = pd.DataFrame(data['Customer Status'].value_counts())\n",
    "pie_churn.plot.pie( subplots=True,labels = pie_churn.index.values, autopct='%1.1f%%')"
   ]
  },
  {
   "cell_type": "code",
   "execution_count": 176,
   "id": "7551eb6b-4019-4e2f-8a63-0e6100c76ba6",
   "metadata": {},
   "outputs": [
    {
     "data": {
      "text/plain": [
       "array([<Axes: ylabel='Customer Status'>], dtype=object)"
      ]
     },
     "execution_count": 176,
     "metadata": {},
     "output_type": "execute_result"
    },
    {
     "data": {
      "image/png": "[encoded data removed]",
      "text/plain": [
       "<Figure size 640x480 with 1 Axes>"
      ]
     },
     "metadata": {},
     "output_type": "display_data"
    }
   ],
   "source": [
    "pie_churn = pd.DataFrame(data[data['Gender']=='Male']['Customer Status'].value_counts())\n",
    "pie_churn.plot.pie( subplots=True,labels = pie_churn.index.values, autopct='%1.1f%%')"
   ]
  },
  {
   "cell_type": "code",
   "execution_count": 177,
   "id": "68523706-daef-4647-9742-902f600a0db2",
   "metadata": {},
   "outputs": [
    {
     "data": {
      "text/plain": [
       "array([<Axes: ylabel='Customer Status'>], dtype=object)"
      ]
     },
     "execution_count": 177,
     "metadata": {},
     "output_type": "execute_result"
    },
    {
     "data": {
      "image/png": "[encoded data removed]",
      "text/plain": [
       "<Figure size 640x480 with 1 Axes>"
      ]
     },
     "metadata": {},
     "output_type": "display_data"
    }
   ],
   "source": [
    "pie_churn = pd.DataFrame(data[data['Gender']=='Female']['Customer Status'].value_counts())\n",
    "pie_churn.plot.pie( subplots=True,labels = pie_churn.index.values, autopct='%1.1f%%')"
   ]
  },
  {
   "cell_type": "code",
   "execution_count": 178,
   "id": "9f0412bd-e6d1-4ddf-92b2-0b4a645a18e4",
   "metadata": {},
   "outputs": [],
   "source": [
    "##Gender column doesn't affect status"
   ]
  },
  {
   "cell_type": "code",
   "execution_count": 179,
   "id": "350a95b3-5dec-4310-a888-46c84a9b3e28",
   "metadata": {},
   "outputs": [
    {
     "data": {
      "text/plain": [
       "array([<Axes: ylabel='Customer Status'>], dtype=object)"
      ]
     },
     "execution_count": 179,
     "metadata": {},
     "output_type": "execute_result"
    },
    {
     "data": {
      "image/png": "[encoded data removed]",
      "text/plain": [
       "<Figure size 640x480 with 1 Axes>"
      ]
     },
     "metadata": {},
     "output_type": "display_data"
    }
   ],
   "source": [
    "pie_churn = pd.DataFrame(data[data['Married']=='Yes']['Customer Status'].value_counts())\n",
    "pie_churn.plot.pie( subplots=True,labels = pie_churn.index.values, autopct='%1.1f%%')"
   ]
  },
  {
   "cell_type": "code",
   "execution_count": 180,
   "id": "96a84e59-a29d-41c1-93bc-e0f698734a22",
   "metadata": {},
   "outputs": [
    {
     "data": {
      "text/plain": [
       "array([<Axes: ylabel='Customer Status'>], dtype=object)"
      ]
     },
     "execution_count": 180,
     "metadata": {},
     "output_type": "execute_result"
    },
    {
     "data": {
      "image/png": "[encoded data removed]",
      "text/plain": [
       "<Figure size 640x480 with 1 Axes>"
      ]
     },
     "metadata": {},
     "output_type": "display_data"
    }
   ],
   "source": [
    "pie_churn = pd.DataFrame(data[data['Married']=='No']['Customer Status'].value_counts())\n",
    "pie_churn.plot.pie( subplots=True,labels = pie_churn.index.values, autopct='%1.1f%%')"
   ]
  },
  {
   "cell_type": "code",
   "execution_count": 181,
   "id": "1790eb76-a94a-41a3-8ccb-7a87b1da6d76",
   "metadata": {},
   "outputs": [],
   "source": [
    "##Drop married"
   ]
  },
  {
   "cell_type": "code",
   "execution_count": 182,
   "id": "ea670664-6059-4291-b0a8-c423fa69b8b1",
   "metadata": {},
   "outputs": [
    {
     "data": {
      "text/plain": [
       "array([<Axes: ylabel='Customer Status'>], dtype=object)"
      ]
     },
     "execution_count": 182,
     "metadata": {},
     "output_type": "execute_result"
    },
    {
     "data": {
      "image/png": "[encoded data removed]",
      "text/plain": [
       "<Figure size 640x480 with 1 Axes>"
      ]
     },
     "metadata": {},
     "output_type": "display_data"
    }
   ],
   "source": [
    "pie_churn = pd.DataFrame(data[data['Phone Service']=='Yes']['Customer Status'].value_counts())\n",
    "pie_churn.plot.pie( subplots=True,labels = pie_churn.index.values, autopct='%1.1f%%')"
   ]
  },
  {
   "cell_type": "code",
   "execution_count": 183,
   "id": "eb39c5a0-cdef-4599-bbdf-5c79052d31f9",
   "metadata": {},
   "outputs": [
    {
     "data": {
      "text/plain": [
       "array([<Axes: ylabel='Customer Status'>], dtype=object)"
      ]
     },
     "execution_count": 183,
     "metadata": {},
     "output_type": "execute_result"
    },
    {
     "data": {
      "image/png": "[encoded data removed]",
      "text/plain": [
       "<Figure size 640x480 with 1 Axes>"
      ]
     },
     "metadata": {},
     "output_type": "display_data"
    }
   ],
   "source": [
    "pie_churn = pd.DataFrame(data[data['Phone Service']=='No']['Customer Status'].value_counts())\n",
    "pie_churn.plot.pie( subplots=True,labels = pie_churn.index.values, autopct='%1.1f%%')"
   ]
  },
  {
   "cell_type": "code",
   "execution_count": 184,
   "id": "043660af-797e-483b-9bdc-47869ab52210",
   "metadata": {},
   "outputs": [],
   "source": [
    "##phone service doesn't affect"
   ]
  },
  {
   "cell_type": "code",
   "execution_count": 185,
   "id": "02806820-0ec5-4730-84bf-35ada7fca9b0",
   "metadata": {},
   "outputs": [
    {
     "data": {
      "text/plain": [
       "array([<Axes: ylabel='Customer Status'>], dtype=object)"
      ]
     },
     "execution_count": 185,
     "metadata": {},
     "output_type": "execute_result"
    },
    {
     "data": {
      "image/png": "[encoded data removed]",
      "text/plain": [
       "<Figure size 640x480 with 1 Axes>"
      ]
     },
     "metadata": {},
     "output_type": "display_data"
    }
   ],
   "source": [
    "pie_churn = pd.DataFrame(data[data['Multiple Lines']=='Yes']['Customer Status'].value_counts())\n",
    "pie_churn.plot.pie( subplots=True,labels = pie_churn.index.values, autopct='%1.1f%%')"
   ]
  },
  {
   "cell_type": "code",
   "execution_count": 186,
   "id": "c260269d-afe3-4691-b469-23beb827d645",
   "metadata": {},
   "outputs": [
    {
     "data": {
      "text/plain": [
       "array([<Axes: ylabel='Customer Status'>], dtype=object)"
      ]
     },
     "execution_count": 186,
     "metadata": {},
     "output_type": "execute_result"
    },
    {
     "data": {
      "image/png": "[encoded data removed]",
      "text/plain": [
       "<Figure size 640x480 with 1 Axes>"
      ]
     },
     "metadata": {},
     "output_type": "display_data"
    }
   ],
   "source": [
    "pie_churn = pd.DataFrame(data[data['Multiple Lines']=='No']['Customer Status'].value_counts())\n",
    "pie_churn.plot.pie( subplots=True,labels = pie_churn.index.values, autopct='%1.1f%%')"
   ]
  },
  {
   "cell_type": "code",
   "execution_count": 187,
   "id": "5557480d-06e9-484f-a456-958a834915f0",
   "metadata": {},
   "outputs": [],
   "source": [
    "#multiple lines doesn't affect"
   ]
  },
  {
   "cell_type": "code",
   "execution_count": 188,
   "id": "315ec581-8924-4fcb-9d46-47477b1bbfb3",
   "metadata": {},
   "outputs": [
    {
     "data": {
      "text/plain": [
       "array([<Axes: ylabel='Customer Status'>], dtype=object)"
      ]
     },
     "execution_count": 188,
     "metadata": {},
     "output_type": "execute_result"
    },
    {
     "data": {
      "image/png": "[encoded data removed]",
      "text/plain": [
       "<Figure size 640x480 with 1 Axes>"
      ]
     },
     "metadata": {},
     "output_type": "display_data"
    }
   ],
   "source": [
    "pie_churn = pd.DataFrame(data[data['Internet Service']=='Yes']['Customer Status'].value_counts())\n",
    "pie_churn.plot.pie( subplots=True,labels = pie_churn.index.values, autopct='%1.1f%%')"
   ]
  },
  {
   "cell_type": "code",
   "execution_count": 189,
   "id": "16a425b9-88f7-419c-8ffa-ed6fdd09346c",
   "metadata": {},
   "outputs": [
    {
     "data": {
      "text/plain": [
       "array([<Axes: ylabel='Customer Status'>], dtype=object)"
      ]
     },
     "execution_count": 189,
     "metadata": {},
     "output_type": "execute_result"
    },
    {
     "data": {
      "image/png": "[encoded data removed]",
      "text/plain": [
       "<Figure size 640x480 with 1 Axes>"
      ]
     },
     "metadata": {},
     "output_type": "display_data"
    }
   ],
   "source": [
    "pie_churn = pd.DataFrame(data[data['Internet Service']=='No']['Customer Status'].value_counts())\n",
    "pie_churn.plot.pie( subplots=True,labels = pie_churn.index.values, autopct='%1.1f%%')"
   ]
  },
  {
   "cell_type": "code",
   "execution_count": 190,
   "id": "6c840365-c3ed-4cba-b6e1-8a95e17aef70",
   "metadata": {},
   "outputs": [],
   "source": [
    "#drop internet service=no"
   ]
  },
  {
   "cell_type": "code",
   "execution_count": 191,
   "id": "d5f43e01-27d2-40df-8694-82a66df3ea0c",
   "metadata": {},
   "outputs": [
    {
     "data": {
      "text/plain": [
       "array([<Axes: ylabel='Customer Status'>], dtype=object)"
      ]
     },
     "execution_count": 191,
     "metadata": {},
     "output_type": "execute_result"
    },
    {
     "data": {
      "image/png": "[encoded data removed]",
      "text/plain": [
       "<Figure size 640x480 with 1 Axes>"
      ]
     },
     "metadata": {},
     "output_type": "display_data"
    }
   ],
   "source": [
    "pie_churn = pd.DataFrame(data[data['Online Security']=='Yes']['Customer Status'].value_counts())\n",
    "pie_churn.plot.pie( subplots=True,labels = pie_churn.index.values, autopct='%1.1f%%')"
   ]
  },
  {
   "cell_type": "code",
   "execution_count": 192,
   "id": "49355c87-61e8-4211-985c-8e1f170ce0e3",
   "metadata": {},
   "outputs": [
    {
     "data": {
      "text/plain": [
       "array([<Axes: ylabel='Customer Status'>], dtype=object)"
      ]
     },
     "execution_count": 192,
     "metadata": {},
     "output_type": "execute_result"
    },
    {
     "data": {
      "image/png": "[encoded data removed]",
      "text/plain": [
       "<Figure size 640x480 with 1 Axes>"
      ]
     },
     "metadata": {},
     "output_type": "display_data"
    }
   ],
   "source": [
    "pie_churn = pd.DataFrame(data[data['Online Security']=='No']['Customer Status'].value_counts())\n",
    "pie_churn.plot.pie( subplots=True,labels = pie_churn.index.values, autopct='%1.1f%%')"
   ]
  },
  {
   "cell_type": "code",
   "execution_count": 193,
   "id": "2a55cf72-edbe-49f3-a26f-3d1cdd3310ed",
   "metadata": {},
   "outputs": [],
   "source": [
    "#drop online security = yes"
   ]
  },
  {
   "cell_type": "code",
   "execution_count": 194,
   "id": "b77e379f-f811-434f-b255-c69a4a359287",
   "metadata": {},
   "outputs": [
    {
     "data": {
      "text/plain": [
       "array([<Axes: ylabel='Customer Status'>], dtype=object)"
      ]
     },
     "execution_count": 194,
     "metadata": {},
     "output_type": "execute_result"
    },
    {
     "data": {
      "image/png": "[encoded data removed]",
      "text/plain": [
       "<Figure size 640x480 with 1 Axes>"
      ]
     },
     "metadata": {},
     "output_type": "display_data"
    }
   ],
   "source": [
    "pie_churn = pd.DataFrame(data[data['Online Backup']=='Yes']['Customer Status'].value_counts())\n",
    "pie_churn.plot.pie( subplots=True,labels = pie_churn.index.values, autopct='%1.1f%%')"
   ]
  },
  {
   "cell_type": "code",
   "execution_count": 195,
   "id": "62f8f4c5-4560-441e-b895-67dfd2a8bcfc",
   "metadata": {},
   "outputs": [
    {
     "data": {
      "text/plain": [
       "array([<Axes: ylabel='Customer Status'>], dtype=object)"
      ]
     },
     "execution_count": 195,
     "metadata": {},
     "output_type": "execute_result"
    },
    {
     "data": {
      "image/png": "[encoded data removed]",
      "text/plain": [
       "<Figure size 640x480 with 1 Axes>"
      ]
     },
     "metadata": {},
     "output_type": "display_data"
    }
   ],
   "source": [
    "pie_churn = pd.DataFrame(data[data['Online Backup']=='No']['Customer Status'].value_counts())\n",
    "pie_churn.plot.pie( subplots=True,labels = pie_churn.index.values, autopct='%1.1f%%')"
   ]
  },
  {
   "cell_type": "code",
   "execution_count": 196,
   "id": "6234c859-ecc4-42f4-a4c1-6a81d2043f45",
   "metadata": {},
   "outputs": [],
   "source": [
    "#drop online backup= yes"
   ]
  },
  {
   "cell_type": "code",
   "execution_count": 197,
   "id": "ba41985f-bf4f-4219-a051-940d386bfeb5",
   "metadata": {},
   "outputs": [
    {
     "data": {
      "text/plain": [
       "array([<Axes: ylabel='Customer Status'>], dtype=object)"
      ]
     },
     "execution_count": 197,
     "metadata": {},
     "output_type": "execute_result"
    },
    {
     "data": {
      "image/png": "[encoded data removed]",
      "text/plain": [
       "<Figure size 640x480 with 1 Axes>"
      ]
     },
     "metadata": {},
     "output_type": "display_data"
    }
   ],
   "source": [
    "pie_churn = pd.DataFrame(data[data['Device Protection Plan']=='Yes']['Customer Status'].value_counts())\n",
    "pie_churn.plot.pie( subplots=True,labels = pie_churn.index.values, autopct='%1.1f%%')"
   ]
  },
  {
   "cell_type": "code",
   "execution_count": 198,
   "id": "aa168e5a-6c87-4b50-9433-c3038d09d3c9",
   "metadata": {},
   "outputs": [
    {
     "data": {
      "text/plain": [
       "array([<Axes: ylabel='Customer Status'>], dtype=object)"
      ]
     },
     "execution_count": 198,
     "metadata": {},
     "output_type": "execute_result"
    },
    {
     "data": {
      "image/png": "[encoded data removed]",
      "text/plain": [
       "<Figure size 640x480 with 1 Axes>"
      ]
     },
     "metadata": {},
     "output_type": "display_data"
    }
   ],
   "source": [
    "pie_churn = pd.DataFrame(data[data['Device Protection Plan']=='No']['Customer Status'].value_counts())\n",
    "pie_churn.plot.pie( subplots=True,labels = pie_churn.index.values, autopct='%1.1f%%')"
   ]
  },
  {
   "cell_type": "code",
   "execution_count": 199,
   "id": "09352e1d-102e-4b0e-a7af-02e7634c373c",
   "metadata": {},
   "outputs": [],
   "source": [
    "#drop device protection plan = yes"
   ]
  },
  {
   "cell_type": "code",
   "execution_count": 200,
   "id": "6b797263-af07-48c7-ad3d-56aa0b1d3215",
   "metadata": {},
   "outputs": [
    {
     "data": {
      "text/plain": [
       "array([<Axes: ylabel='Customer Status'>], dtype=object)"
      ]
     },
     "execution_count": 200,
     "metadata": {},
     "output_type": "execute_result"
    },
    {
     "data": {
      "image/png": "[encoded data removed]",
      "text/plain": [
       "<Figure size 640x480 with 1 Axes>"
      ]
     },
     "metadata": {},
     "output_type": "display_data"
    }
   ],
   "source": [
    "pie_churn = pd.DataFrame(data[data['Premium Tech Support']=='Yes']['Customer Status'].value_counts())\n",
    "pie_churn.plot.pie( subplots=True,labels = pie_churn.index.values, autopct='%1.1f%%')"
   ]
  },
  {
   "cell_type": "code",
   "execution_count": 201,
   "id": "c1567ae5-326f-4126-a03b-206ea8158ede",
   "metadata": {},
   "outputs": [
    {
     "data": {
      "text/plain": [
       "array([<Axes: ylabel='Customer Status'>], dtype=object)"
      ]
     },
     "execution_count": 201,
     "metadata": {},
     "output_type": "execute_result"
    },
    {
     "data": {
      "image/png": "[encoded data removed]",
      "text/plain": [
       "<Figure size 640x480 with 1 Axes>"
      ]
     },
     "metadata": {},
     "output_type": "display_data"
    }
   ],
   "source": [
    "pie_churn = pd.DataFrame(data[data['Premium Tech Support']=='No']['Customer Status'].value_counts())\n",
    "pie_churn.plot.pie( subplots=True,labels = pie_churn.index.values, autopct='%1.1f%%')"
   ]
  },
  {
   "cell_type": "code",
   "execution_count": 202,
   "id": "6bc10163-2b58-4c9e-814a-cde06fbf946e",
   "metadata": {},
   "outputs": [],
   "source": [
    "#drop premium tech support = yes"
   ]
  },
  {
   "cell_type": "code",
   "execution_count": 203,
   "id": "17de5639-7b1d-4008-8539-1eaaee368f1d",
   "metadata": {},
   "outputs": [
    {
     "data": {
      "text/plain": [
       "array([<Axes: ylabel='Customer Status'>], dtype=object)"
      ]
     },
     "execution_count": 203,
     "metadata": {},
     "output_type": "execute_result"
    },
    {
     "data": {
      "image/png": "[encoded data removed]",
      "text/plain": [
       "<Figure size 640x480 with 1 Axes>"
      ]
     },
     "metadata": {},
     "output_type": "display_data"
    }
   ],
   "source": [
    "pie_churn = pd.DataFrame(data[data['Streaming TV']=='Yes']['Customer Status'].value_counts())\n",
    "pie_churn.plot.pie( subplots=True,labels = pie_churn.index.values, autopct='%1.1f%%')"
   ]
  },
  {
   "cell_type": "code",
   "execution_count": 204,
   "id": "219e29e9-0ba2-4551-b02b-fb904e1b0728",
   "metadata": {},
   "outputs": [
    {
     "data": {
      "text/plain": [
       "array([<Axes: ylabel='Customer Status'>], dtype=object)"
      ]
     },
     "execution_count": 204,
     "metadata": {},
     "output_type": "execute_result"
    },
    {
     "data": {
      "image/png": "[encoded data removed]",
      "text/plain": [
       "<Figure size 640x480 with 1 Axes>"
      ]
     },
     "metadata": {},
     "output_type": "display_data"
    }
   ],
   "source": [
    "pie_churn = pd.DataFrame(data[data['Streaming TV']=='No']['Customer Status'].value_counts())\n",
    "pie_churn.plot.pie( subplots=True,labels = pie_churn.index.values, autopct='%1.1f%%')"
   ]
  },
  {
   "cell_type": "code",
   "execution_count": 205,
   "id": "fbd25eda-e055-46c3-9651-afd529db5529",
   "metadata": {},
   "outputs": [],
   "source": [
    "#Streaming Tv doesn't affect much"
   ]
  },
  {
   "cell_type": "code",
   "execution_count": 206,
   "id": "1b1dde74-3007-4b6f-a753-2ee43e02e0ce",
   "metadata": {},
   "outputs": [
    {
     "data": {
      "text/plain": [
       "array([<Axes: ylabel='Customer Status'>], dtype=object)"
      ]
     },
     "execution_count": 206,
     "metadata": {},
     "output_type": "execute_result"
    },
    {
     "data": {
      "image/png": "[encoded data removed]",
      "text/plain": [
       "<Figure size 640x480 with 1 Axes>"
      ]
     },
     "metadata": {},
     "output_type": "display_data"
    }
   ],
   "source": [
    "pie_churn = pd.DataFrame(data[data['Streaming Music']=='Yes']['Customer Status'].value_counts())\n",
    "pie_churn.plot.pie( subplots=True,labels = pie_churn.index.values, autopct='%1.1f%%')"
   ]
  },
  {
   "cell_type": "code",
   "execution_count": 207,
   "id": "0324a0c9-05cd-4be1-8dd3-80832e80dd8b",
   "metadata": {},
   "outputs": [
    {
     "data": {
      "text/plain": [
       "array([<Axes: ylabel='Customer Status'>], dtype=object)"
      ]
     },
     "execution_count": 207,
     "metadata": {},
     "output_type": "execute_result"
    },
    {
     "data": {
      "image/png": "[encoded data removed]",
      "text/plain": [
       "<Figure size 640x480 with 1 Axes>"
      ]
     },
     "metadata": {},
     "output_type": "display_data"
    }
   ],
   "source": [
    "pie_churn = pd.DataFrame(data[data['Streaming Music']=='No']['Customer Status'].value_counts())\n",
    "pie_churn.plot.pie( subplots=True,labels = pie_churn.index.values, autopct='%1.1f%%')"
   ]
  },
  {
   "cell_type": "code",
   "execution_count": 208,
   "id": "ea8141a7-b32b-40df-8510-dbde42c6978c",
   "metadata": {},
   "outputs": [],
   "source": [
    "#Streaming music doesn't affect"
   ]
  },
  {
   "cell_type": "code",
   "execution_count": 209,
   "id": "5a0fb782-03f2-4a1c-ae61-f80e5c9c881b",
   "metadata": {},
   "outputs": [
    {
     "data": {
      "text/plain": [
       "array([<Axes: ylabel='Customer Status'>], dtype=object)"
      ]
     },
     "execution_count": 209,
     "metadata": {},
     "output_type": "execute_result"
    },
    {
     "data": {
      "image/png": "[encoded data removed]",
      "text/plain": [
       "<Figure size 640x480 with 1 Axes>"
      ]
     },
     "metadata": {},
     "output_type": "display_data"
    }
   ],
   "source": [
    "pie_churn = pd.DataFrame(data[data['Streaming Movies']=='Yes']['Customer Status'].value_counts())\n",
    "pie_churn.plot.pie( subplots=True,labels = pie_churn.index.values, autopct='%1.1f%%')"
   ]
  },
  {
   "cell_type": "code",
   "execution_count": 210,
   "id": "203540c6-a2af-44f9-b4a4-55a4d754b6b2",
   "metadata": {},
   "outputs": [
    {
     "data": {
      "text/plain": [
       "array([<Axes: ylabel='Customer Status'>], dtype=object)"
      ]
     },
     "execution_count": 210,
     "metadata": {},
     "output_type": "execute_result"
    },
    {
     "data": {
      "image/png": "[encoded data removed]",
      "text/plain": [
       "<Figure size 640x480 with 1 Axes>"
      ]
     },
     "metadata": {},
     "output_type": "display_data"
    }
   ],
   "source": [
    "pie_churn = pd.DataFrame(data[data['Streaming Movies']=='No']['Customer Status'].value_counts())\n",
    "pie_churn.plot.pie( subplots=True,labels = pie_churn.index.values, autopct='%1.1f%%')"
   ]
  },
  {
   "cell_type": "code",
   "execution_count": 211,
   "id": "07c418aa-9dd9-451a-8cfb-765d582c46a6",
   "metadata": {},
   "outputs": [],
   "source": [
    "#Streaming Movies doesn't affect much"
   ]
  },
  {
   "cell_type": "code",
   "execution_count": 212,
   "id": "2afa7902-400d-431a-86bc-835b5c351651",
   "metadata": {},
   "outputs": [
    {
     "data": {
      "text/plain": [
       "array([<Axes: ylabel='Customer Status'>], dtype=object)"
      ]
     },
     "execution_count": 212,
     "metadata": {},
     "output_type": "execute_result"
    },
    {
     "data": {
      "image/png": "[encoded data removed]",
      "text/plain": [
       "<Figure size 640x480 with 1 Axes>"
      ]
     },
     "metadata": {},
     "output_type": "display_data"
    }
   ],
   "source": [
    "pie_churn = pd.DataFrame(data[data['Unlimited Data']=='Yes']['Customer Status'].value_counts())\n",
    "pie_churn.plot.pie( subplots=True,labels = pie_churn.index.values, autopct='%1.1f%%')"
   ]
  },
  {
   "cell_type": "code",
   "execution_count": 213,
   "id": "a92d525f-e020-4c77-9a34-85e24ca98811",
   "metadata": {},
   "outputs": [
    {
     "data": {
      "text/plain": [
       "array([<Axes: ylabel='Customer Status'>], dtype=object)"
      ]
     },
     "execution_count": 213,
     "metadata": {},
     "output_type": "execute_result"
    },
    {
     "data": {
      "image/png": "[encoded data removed]",
      "text/plain": [
       "<Figure size 640x480 with 1 Axes>"
      ]
     },
     "metadata": {},
     "output_type": "display_data"
    }
   ],
   "source": [
    "pie_churn = pd.DataFrame(data[data['Unlimited Data']=='No']['Customer Status'].value_counts())\n",
    "pie_churn.plot.pie( subplots=True,labels = pie_churn.index.values, autopct='%1.1f%%')"
   ]
  },
  {
   "cell_type": "code",
   "execution_count": 214,
   "id": "2f67e7c7-9b9a-4827-a421-80d1c6270de0",
   "metadata": {},
   "outputs": [],
   "source": [
    "#unlimited data doesn't affect"
   ]
  },
  {
   "cell_type": "code",
   "execution_count": 215,
   "id": "28aa9e49-9379-4596-9d61-ada94150f851",
   "metadata": {},
   "outputs": [
    {
     "data": {
      "text/plain": [
       "array([<Axes: ylabel='Customer Status'>], dtype=object)"
      ]
     },
     "execution_count": 215,
     "metadata": {},
     "output_type": "execute_result"
    },
    {
     "data": {
      "image/png": "[encoded data removed]",
      "text/plain": [
       "<Figure size 640x480 with 1 Axes>"
      ]
     },
     "metadata": {},
     "output_type": "display_data"
    }
   ],
   "source": [
    "pie_churn = pd.DataFrame(data[data['Paperless Billing']=='Yes']['Customer Status'].value_counts())\n",
    "pie_churn.plot.pie( subplots=True,labels = pie_churn.index.values, autopct='%1.1f%%')"
   ]
  },
  {
   "cell_type": "code",
   "execution_count": 216,
   "id": "3dc6832e-94c3-40d0-b939-244c69cfa0ea",
   "metadata": {},
   "outputs": [
    {
     "data": {
      "text/plain": [
       "array([<Axes: ylabel='Customer Status'>], dtype=object)"
      ]
     },
     "execution_count": 216,
     "metadata": {},
     "output_type": "execute_result"
    },
    {
     "data": {
      "image/png": "[encoded data removed]",
      "text/plain": [
       "<Figure size 640x480 with 1 Axes>"
      ]
     },
     "metadata": {},
     "output_type": "display_data"
    }
   ],
   "source": [
    "pie_churn = pd.DataFrame(data[data['Paperless Billing']=='No']['Customer Status'].value_counts())\n",
    "pie_churn.plot.pie( subplots=True,labels = pie_churn.index.values, autopct='%1.1f%%')"
   ]
  },
  {
   "cell_type": "code",
   "execution_count": 217,
   "id": "59748b4d-158e-4dfb-8e14-5788462e6918",
   "metadata": {},
   "outputs": [],
   "source": [
    "#drop paperless billing =no"
   ]
  },
  {
   "cell_type": "code",
   "execution_count": 233,
   "id": "9073c48f-baea-4a77-925f-652511eb9faf",
   "metadata": {},
   "outputs": [],
   "source": [
    "# Creating a dummy variable for some of the categorical variables and dropping the first one.\n",
    "dummy1 = pd.get_dummies(data[['Gender', 'Internet Type', 'Offer','Contract','Payment Method','Married','Phone Service','Multiple Lines','Streaming TV','Streaming Music','Streaming Movies','Unlimited Data']], drop_first=True)\n",
    "\n",
    "# Adding the results to the master dataframe\n",
    "data = pd.concat([data, dummy1], axis=1)"
   ]
  },
  {
   "cell_type": "code",
   "execution_count": 235,
   "id": "b323f265-3e14-4946-bba6-12405f942b38",
   "metadata": {},
   "outputs": [
    {
     "data": {
      "text/html": [
       "<div>\n",
       "<style scoped>\n",
       "    .dataframe tbody tr th:only-of-type {\n",
       "        vertical-align: middle;\n",
       "    }\n",
       "\n",
       "    .dataframe tbody tr th {\n",
       "        vertical-align: top;\n",
       "    }\n",
       "\n",
       "    .dataframe thead th {\n",
       "        text-align: right;\n",
       "    }\n",
       "</style>\n",
       "<table border=\"1\" class=\"dataframe\">\n",
       "  <thead>\n",
       "    <tr style=\"text-align: right;\">\n",
       "      <th></th>\n",
       "      <th>Customer ID</th>\n",
       "      <th>Gender</th>\n",
       "      <th>Age</th>\n",
       "      <th>Married</th>\n",
       "      <th>Number of Dependents</th>\n",
       "      <th>City</th>\n",
       "      <th>Zip Code</th>\n",
       "      <th>Latitude</th>\n",
       "      <th>Longitude</th>\n",
       "      <th>Number of Referrals</th>\n",
       "      <th>...</th>\n",
       "      <th>Contract_Two Year</th>\n",
       "      <th>Payment Method_Credit Card</th>\n",
       "      <th>Payment Method_Mailed Check</th>\n",
       "      <th>Married_Yes</th>\n",
       "      <th>Phone Service_Yes</th>\n",
       "      <th>Multiple Lines_Yes</th>\n",
       "      <th>Streaming TV_Yes</th>\n",
       "      <th>Streaming Music_Yes</th>\n",
       "      <th>Streaming Movies_Yes</th>\n",
       "      <th>Unlimited Data_Yes</th>\n",
       "    </tr>\n",
       "  </thead>\n",
       "  <tbody>\n",
       "    <tr>\n",
       "      <th>0</th>\n",
       "      <td>0002-ORFBO</td>\n",
       "      <td>Female</td>\n",
       "      <td>37</td>\n",
       "      <td>Yes</td>\n",
       "      <td>0</td>\n",
       "      <td>Frazier Park</td>\n",
       "      <td>93225</td>\n",
       "      <td>34.827662</td>\n",
       "      <td>-118.999073</td>\n",
       "      <td>2</td>\n",
       "      <td>...</td>\n",
       "      <td>0</td>\n",
       "      <td>1</td>\n",
       "      <td>0</td>\n",
       "      <td>1</td>\n",
       "      <td>1</td>\n",
       "      <td>0</td>\n",
       "      <td>1</td>\n",
       "      <td>0</td>\n",
       "      <td>0</td>\n",
       "      <td>1</td>\n",
       "    </tr>\n",
       "    <tr>\n",
       "      <th>1</th>\n",
       "      <td>0003-MKNFE</td>\n",
       "      <td>Male</td>\n",
       "      <td>46</td>\n",
       "      <td>No</td>\n",
       "      <td>0</td>\n",
       "      <td>Glendale</td>\n",
       "      <td>91206</td>\n",
       "      <td>34.162515</td>\n",
       "      <td>-118.203869</td>\n",
       "      <td>0</td>\n",
       "      <td>...</td>\n",
       "      <td>0</td>\n",
       "      <td>1</td>\n",
       "      <td>0</td>\n",
       "      <td>0</td>\n",
       "      <td>1</td>\n",
       "      <td>1</td>\n",
       "      <td>0</td>\n",
       "      <td>1</td>\n",
       "      <td>1</td>\n",
       "      <td>0</td>\n",
       "    </tr>\n",
       "    <tr>\n",
       "      <th>2</th>\n",
       "      <td>0004-TLHLJ</td>\n",
       "      <td>Male</td>\n",
       "      <td>50</td>\n",
       "      <td>No</td>\n",
       "      <td>0</td>\n",
       "      <td>Costa Mesa</td>\n",
       "      <td>92627</td>\n",
       "      <td>33.645672</td>\n",
       "      <td>-117.922613</td>\n",
       "      <td>0</td>\n",
       "      <td>...</td>\n",
       "      <td>0</td>\n",
       "      <td>0</td>\n",
       "      <td>0</td>\n",
       "      <td>0</td>\n",
       "      <td>1</td>\n",
       "      <td>0</td>\n",
       "      <td>0</td>\n",
       "      <td>0</td>\n",
       "      <td>0</td>\n",
       "      <td>1</td>\n",
       "    </tr>\n",
       "    <tr>\n",
       "      <th>3</th>\n",
       "      <td>0011-IGKFF</td>\n",
       "      <td>Male</td>\n",
       "      <td>78</td>\n",
       "      <td>Yes</td>\n",
       "      <td>0</td>\n",
       "      <td>Martinez</td>\n",
       "      <td>94553</td>\n",
       "      <td>38.014457</td>\n",
       "      <td>-122.115432</td>\n",
       "      <td>1</td>\n",
       "      <td>...</td>\n",
       "      <td>0</td>\n",
       "      <td>0</td>\n",
       "      <td>0</td>\n",
       "      <td>1</td>\n",
       "      <td>1</td>\n",
       "      <td>0</td>\n",
       "      <td>1</td>\n",
       "      <td>0</td>\n",
       "      <td>1</td>\n",
       "      <td>1</td>\n",
       "    </tr>\n",
       "    <tr>\n",
       "      <th>4</th>\n",
       "      <td>0013-EXCHZ</td>\n",
       "      <td>Female</td>\n",
       "      <td>75</td>\n",
       "      <td>Yes</td>\n",
       "      <td>0</td>\n",
       "      <td>Camarillo</td>\n",
       "      <td>93010</td>\n",
       "      <td>34.227846</td>\n",
       "      <td>-119.079903</td>\n",
       "      <td>3</td>\n",
       "      <td>...</td>\n",
       "      <td>0</td>\n",
       "      <td>1</td>\n",
       "      <td>0</td>\n",
       "      <td>1</td>\n",
       "      <td>1</td>\n",
       "      <td>0</td>\n",
       "      <td>1</td>\n",
       "      <td>0</td>\n",
       "      <td>0</td>\n",
       "      <td>1</td>\n",
       "    </tr>\n",
       "  </tbody>\n",
       "</table>\n",
       "<p>5 rows × 57 columns</p>\n",
       "</div>"
      ],
      "text/plain": [
       "  Customer ID  Gender  Age Married  Number of Dependents          City  \\\n",
       "0  0002-ORFBO  Female   37     Yes                     0  Frazier Park   \n",
       "1  0003-MKNFE    Male   46      No                     0      Glendale   \n",
       "2  0004-TLHLJ    Male   50      No                     0    Costa Mesa   \n",
       "3  0011-IGKFF    Male   78     Yes                     0      Martinez   \n",
       "4  0013-EXCHZ  Female   75     Yes                     0     Camarillo   \n",
       "\n",
       "   Zip Code   Latitude   Longitude  Number of Referrals  ...  \\\n",
       "0     93225  34.827662 -118.999073                    2  ...   \n",
       "1     91206  34.162515 -118.203869                    0  ...   \n",
       "2     92627  33.645672 -117.922613                    0  ...   \n",
       "3     94553  38.014457 -122.115432                    1  ...   \n",
       "4     93010  34.227846 -119.079903                    3  ...   \n",
       "\n",
       "   Contract_Two Year Payment Method_Credit Card Payment Method_Mailed Check  \\\n",
       "0                  0                          1                           0   \n",
       "1                  0                          1                           0   \n",
       "2                  0                          0                           0   \n",
       "3                  0                          0                           0   \n",
       "4                  0                          1                           0   \n",
       "\n",
       "   Married_Yes Phone Service_Yes Multiple Lines_Yes Streaming TV_Yes  \\\n",
       "0            1                 1                  0                1   \n",
       "1            0                 1                  1                0   \n",
       "2            0                 1                  0                0   \n",
       "3            1                 1                  0                1   \n",
       "4            1                 1                  0                1   \n",
       "\n",
       "   Streaming Music_Yes Streaming Movies_Yes Unlimited Data_Yes  \n",
       "0                    0                    0                  1  \n",
       "1                    1                    1                  0  \n",
       "2                    0                    0                  1  \n",
       "3                    0                    1                  1  \n",
       "4                    0                    0                  1  \n",
       "\n",
       "[5 rows x 57 columns]"
      ]
     },
     "execution_count": 235,
     "metadata": {},
     "output_type": "execute_result"
    }
   ],
   "source": [
    "data.head()"
   ]
  },
  {
   "cell_type": "code",
   "execution_count": 236,
   "id": "5e54c91e-13b8-4e2e-a52c-3b52ff319611",
   "metadata": {},
   "outputs": [],
   "source": [
    "#deleting the appropriate columns which have big difference"
   ]
  },
  {
   "cell_type": "code",
   "execution_count": 237,
   "id": "7b7dc238-f42f-43b6-8a7f-33f4cf400366",
   "metadata": {},
   "outputs": [],
   "source": [
    "ml = pd.get_dummies(data['Internet Service'], prefix='Internet Service')\n",
    "ml1 = ml.drop(['Internet Service_No'],axis=1)\n",
    "data = pd.concat([data,ml1], axis=1)"
   ]
  },
  {
   "cell_type": "code",
   "execution_count": 238,
   "id": "2f7e79f0-a0dd-4f91-9c31-f0af9d437682",
   "metadata": {},
   "outputs": [],
   "source": [
    "ml = pd.get_dummies(data['Online Security'], prefix='Online Security')\n",
    "ml1 = ml.drop(['Online Security_Yes'],axis=1)\n",
    "data = pd.concat([data,ml1], axis=1)"
   ]
  },
  {
   "cell_type": "code",
   "execution_count": 239,
   "id": "9fa218d5-0d5b-4b15-bd37-87679ab2425f",
   "metadata": {},
   "outputs": [],
   "source": [
    "ml = pd.get_dummies(data['Online Backup'], prefix='Online Backup')\n",
    "ml1 = ml.drop(['Online Backup_Yes'],axis=1)\n",
    "data = pd.concat([data,ml1], axis=1)"
   ]
  },
  {
   "cell_type": "code",
   "execution_count": 240,
   "id": "5988fe8e-e16d-4423-b7d7-29cdab4dcad4",
   "metadata": {},
   "outputs": [],
   "source": [
    "ml = pd.get_dummies(data['Device Protection Plan'], prefix='Device Protection Plan')\n",
    "ml1 = ml.drop(['Device Protection Plan_Yes'],axis=1)\n",
    "data= pd.concat([data,ml1], axis=1)"
   ]
  },
  {
   "cell_type": "code",
   "execution_count": 241,
   "id": "55e4ab0d-ceef-49c6-8245-bcd111946231",
   "metadata": {},
   "outputs": [],
   "source": [
    "ml = pd.get_dummies(data['Premium Tech Support'], prefix='Premium Tech Support')\n",
    "ml1 = ml.drop(['Premium Tech Support_Yes'],axis=1)\n",
    "data = pd.concat([data,ml1], axis=1)"
   ]
  },
  {
   "cell_type": "code",
   "execution_count": 242,
   "id": "a5db6f36-f44e-4905-91e7-252f43310eee",
   "metadata": {},
   "outputs": [],
   "source": [
    "ml = pd.get_dummies(data['Paperless Billing'], prefix='Paperless Billing')\n",
    "ml1 = ml.drop(['Paperless Billing_No'],axis=1)\n",
    "data = pd.concat([data,ml1], axis=1)"
   ]
  },
  {
   "cell_type": "code",
   "execution_count": 243,
   "id": "a40b9f8d-3f3f-45d8-8662-2ee2c06586f1",
   "metadata": {},
   "outputs": [
    {
     "data": {
      "text/html": [
       "<div>\n",
       "<style scoped>\n",
       "    .dataframe tbody tr th:only-of-type {\n",
       "        vertical-align: middle;\n",
       "    }\n",
       "\n",
       "    .dataframe tbody tr th {\n",
       "        vertical-align: top;\n",
       "    }\n",
       "\n",
       "    .dataframe thead th {\n",
       "        text-align: right;\n",
       "    }\n",
       "</style>\n",
       "<table border=\"1\" class=\"dataframe\">\n",
       "  <thead>\n",
       "    <tr style=\"text-align: right;\">\n",
       "      <th></th>\n",
       "      <th>Customer ID</th>\n",
       "      <th>Gender</th>\n",
       "      <th>Age</th>\n",
       "      <th>Married</th>\n",
       "      <th>Number of Dependents</th>\n",
       "      <th>City</th>\n",
       "      <th>Zip Code</th>\n",
       "      <th>Latitude</th>\n",
       "      <th>Longitude</th>\n",
       "      <th>Number of Referrals</th>\n",
       "      <th>...</th>\n",
       "      <th>Streaming TV_Yes</th>\n",
       "      <th>Streaming Music_Yes</th>\n",
       "      <th>Streaming Movies_Yes</th>\n",
       "      <th>Unlimited Data_Yes</th>\n",
       "      <th>Internet Service_Yes</th>\n",
       "      <th>Online Security_No</th>\n",
       "      <th>Online Backup_No</th>\n",
       "      <th>Device Protection Plan_No</th>\n",
       "      <th>Premium Tech Support_No</th>\n",
       "      <th>Paperless Billing_Yes</th>\n",
       "    </tr>\n",
       "  </thead>\n",
       "  <tbody>\n",
       "    <tr>\n",
       "      <th>0</th>\n",
       "      <td>0002-ORFBO</td>\n",
       "      <td>Female</td>\n",
       "      <td>37</td>\n",
       "      <td>Yes</td>\n",
       "      <td>0</td>\n",
       "      <td>Frazier Park</td>\n",
       "      <td>93225</td>\n",
       "      <td>34.827662</td>\n",
       "      <td>-118.999073</td>\n",
       "      <td>2</td>\n",
       "      <td>...</td>\n",
       "      <td>1</td>\n",
       "      <td>0</td>\n",
       "      <td>0</td>\n",
       "      <td>1</td>\n",
       "      <td>1</td>\n",
       "      <td>1</td>\n",
       "      <td>0</td>\n",
       "      <td>1</td>\n",
       "      <td>0</td>\n",
       "      <td>1</td>\n",
       "    </tr>\n",
       "    <tr>\n",
       "      <th>1</th>\n",
       "      <td>0003-MKNFE</td>\n",
       "      <td>Male</td>\n",
       "      <td>46</td>\n",
       "      <td>No</td>\n",
       "      <td>0</td>\n",
       "      <td>Glendale</td>\n",
       "      <td>91206</td>\n",
       "      <td>34.162515</td>\n",
       "      <td>-118.203869</td>\n",
       "      <td>0</td>\n",
       "      <td>...</td>\n",
       "      <td>0</td>\n",
       "      <td>1</td>\n",
       "      <td>1</td>\n",
       "      <td>0</td>\n",
       "      <td>1</td>\n",
       "      <td>1</td>\n",
       "      <td>1</td>\n",
       "      <td>1</td>\n",
       "      <td>1</td>\n",
       "      <td>0</td>\n",
       "    </tr>\n",
       "    <tr>\n",
       "      <th>2</th>\n",
       "      <td>0004-TLHLJ</td>\n",
       "      <td>Male</td>\n",
       "      <td>50</td>\n",
       "      <td>No</td>\n",
       "      <td>0</td>\n",
       "      <td>Costa Mesa</td>\n",
       "      <td>92627</td>\n",
       "      <td>33.645672</td>\n",
       "      <td>-117.922613</td>\n",
       "      <td>0</td>\n",
       "      <td>...</td>\n",
       "      <td>0</td>\n",
       "      <td>0</td>\n",
       "      <td>0</td>\n",
       "      <td>1</td>\n",
       "      <td>1</td>\n",
       "      <td>1</td>\n",
       "      <td>1</td>\n",
       "      <td>0</td>\n",
       "      <td>1</td>\n",
       "      <td>1</td>\n",
       "    </tr>\n",
       "    <tr>\n",
       "      <th>3</th>\n",
       "      <td>0011-IGKFF</td>\n",
       "      <td>Male</td>\n",
       "      <td>78</td>\n",
       "      <td>Yes</td>\n",
       "      <td>0</td>\n",
       "      <td>Martinez</td>\n",
       "      <td>94553</td>\n",
       "      <td>38.014457</td>\n",
       "      <td>-122.115432</td>\n",
       "      <td>1</td>\n",
       "      <td>...</td>\n",
       "      <td>1</td>\n",
       "      <td>0</td>\n",
       "      <td>1</td>\n",
       "      <td>1</td>\n",
       "      <td>1</td>\n",
       "      <td>1</td>\n",
       "      <td>0</td>\n",
       "      <td>0</td>\n",
       "      <td>1</td>\n",
       "      <td>1</td>\n",
       "    </tr>\n",
       "    <tr>\n",
       "      <th>4</th>\n",
       "      <td>0013-EXCHZ</td>\n",
       "      <td>Female</td>\n",
       "      <td>75</td>\n",
       "      <td>Yes</td>\n",
       "      <td>0</td>\n",
       "      <td>Camarillo</td>\n",
       "      <td>93010</td>\n",
       "      <td>34.227846</td>\n",
       "      <td>-119.079903</td>\n",
       "      <td>3</td>\n",
       "      <td>...</td>\n",
       "      <td>1</td>\n",
       "      <td>0</td>\n",
       "      <td>0</td>\n",
       "      <td>1</td>\n",
       "      <td>1</td>\n",
       "      <td>1</td>\n",
       "      <td>1</td>\n",
       "      <td>1</td>\n",
       "      <td>0</td>\n",
       "      <td>1</td>\n",
       "    </tr>\n",
       "  </tbody>\n",
       "</table>\n",
       "<p>5 rows × 63 columns</p>\n",
       "</div>"
      ],
      "text/plain": [
       "  Customer ID  Gender  Age Married  Number of Dependents          City  \\\n",
       "0  0002-ORFBO  Female   37     Yes                     0  Frazier Park   \n",
       "1  0003-MKNFE    Male   46      No                     0      Glendale   \n",
       "2  0004-TLHLJ    Male   50      No                     0    Costa Mesa   \n",
       "3  0011-IGKFF    Male   78     Yes                     0      Martinez   \n",
       "4  0013-EXCHZ  Female   75     Yes                     0     Camarillo   \n",
       "\n",
       "   Zip Code   Latitude   Longitude  Number of Referrals  ...  \\\n",
       "0     93225  34.827662 -118.999073                    2  ...   \n",
       "1     91206  34.162515 -118.203869                    0  ...   \n",
       "2     92627  33.645672 -117.922613                    0  ...   \n",
       "3     94553  38.014457 -122.115432                    1  ...   \n",
       "4     93010  34.227846 -119.079903                    3  ...   \n",
       "\n",
       "   Streaming TV_Yes Streaming Music_Yes Streaming Movies_Yes  \\\n",
       "0                 1                   0                    0   \n",
       "1                 0                   1                    1   \n",
       "2                 0                   0                    0   \n",
       "3                 1                   0                    1   \n",
       "4                 1                   0                    0   \n",
       "\n",
       "   Unlimited Data_Yes Internet Service_Yes Online Security_No  \\\n",
       "0                   1                    1                  1   \n",
       "1                   0                    1                  1   \n",
       "2                   1                    1                  1   \n",
       "3                   1                    1                  1   \n",
       "4                   1                    1                  1   \n",
       "\n",
       "  Online Backup_No  Device Protection Plan_No Premium Tech Support_No  \\\n",
       "0                0                          1                       0   \n",
       "1                1                          1                       1   \n",
       "2                1                          0                       1   \n",
       "3                0                          0                       1   \n",
       "4                1                          1                       0   \n",
       "\n",
       "  Paperless Billing_Yes  \n",
       "0                     1  \n",
       "1                     0  \n",
       "2                     1  \n",
       "3                     1  \n",
       "4                     1  \n",
       "\n",
       "[5 rows x 63 columns]"
      ]
     },
     "execution_count": 243,
     "metadata": {},
     "output_type": "execute_result"
    }
   ],
   "source": [
    "data.head()"
   ]
  },
  {
   "cell_type": "code",
   "execution_count": 244,
   "id": "beee0f23-7b44-450c-8975-f54aa96c8daa",
   "metadata": {},
   "outputs": [
    {
     "data": {
      "text/plain": [
       "Index(['Customer ID', 'Gender', 'Age', 'Married', 'Number of Dependents',\n",
       "       'City', 'Zip Code', 'Latitude', 'Longitude', 'Number of Referrals',\n",
       "       'Tenure in Months', 'Offer', 'Phone Service',\n",
       "       'Avg Monthly Long Distance Charges', 'Multiple Lines',\n",
       "       'Internet Service', 'Internet Type', 'Avg Monthly GB Download',\n",
       "       'Online Security', 'Online Backup', 'Device Protection Plan',\n",
       "       'Premium Tech Support', 'Streaming TV', 'Streaming Movies',\n",
       "       'Streaming Music', 'Unlimited Data', 'Contract', 'Paperless Billing',\n",
       "       'Payment Method', 'Monthly Charge', 'Total Charges', 'Total Refunds',\n",
       "       'Total Extra Data Charges', 'Total Long Distance Charges',\n",
       "       'Total Revenue', 'Customer Status', 'Churn Category', 'Churn Reason',\n",
       "       'Gender_Male', 'Internet Type_DSL', 'Internet Type_Fiber Optic',\n",
       "       'Offer_Offer A', 'Offer_Offer B', 'Offer_Offer C', 'Offer_Offer D',\n",
       "       'Offer_Offer E', 'Contract_One Year', 'Contract_Two Year',\n",
       "       'Payment Method_Credit Card', 'Payment Method_Mailed Check',\n",
       "       'Married_Yes', 'Phone Service_Yes', 'Multiple Lines_Yes',\n",
       "       'Streaming TV_Yes', 'Streaming Music_Yes', 'Streaming Movies_Yes',\n",
       "       'Unlimited Data_Yes', 'Internet Service_Yes', 'Online Security_No',\n",
       "       'Online Backup_No', 'Device Protection Plan_No',\n",
       "       'Premium Tech Support_No', 'Paperless Billing_Yes'],\n",
       "      dtype='object')"
      ]
     },
     "execution_count": 244,
     "metadata": {},
     "output_type": "execute_result"
    }
   ],
   "source": [
    "data.columns"
   ]
  },
  {
   "cell_type": "code",
   "execution_count": 245,
   "id": "4caf9ce5-c2cb-4000-b34a-eda14ff6936d",
   "metadata": {},
   "outputs": [],
   "source": [
    "data= data.drop(['Gender', 'Age', 'Married', 'Number of Dependents', 'Offer', 'Phone Service', 'Multiple Lines',\n",
    "       'Internet Service', 'Internet Type',\n",
    "       'Online Security', 'Online Backup', 'Device Protection Plan',\n",
    "       'Premium Tech Support', 'Streaming TV', 'Streaming Movies',\n",
    "       'Streaming Music', 'Unlimited Data', 'Contract', 'Paperless Billing',\n",
    "       'Payment Method'], axis=1)"
   ]
  },
  {
   "cell_type": "code",
   "execution_count": 246,
   "id": "e2304efe-f8a4-4e92-a378-b7ea109a982c",
   "metadata": {},
   "outputs": [
    {
     "name": "stdout",
     "output_type": "stream",
     "text": [
      "<class 'pandas.core.frame.DataFrame'>\n",
      "RangeIndex: 6589 entries, 0 to 6588\n",
      "Data columns (total 43 columns):\n",
      " #   Column                             Non-Null Count  Dtype  \n",
      "---  ------                             --------------  -----  \n",
      " 0   Customer ID                        6589 non-null   object \n",
      " 1   City                               6589 non-null   object \n",
      " 2   Zip Code                           6589 non-null   int64  \n",
      " 3   Latitude                           6589 non-null   float64\n",
      " 4   Longitude                          6589 non-null   float64\n",
      " 5   Number of Referrals                6589 non-null   int64  \n",
      " 6   Tenure in Months                   6589 non-null   int64  \n",
      " 7   Avg Monthly Long Distance Charges  5945 non-null   float64\n",
      " 8   Avg Monthly GB Download            5245 non-null   float64\n",
      " 9   Monthly Charge                     6589 non-null   float64\n",
      " 10  Total Charges                      6589 non-null   float64\n",
      " 11  Total Refunds                      6589 non-null   float64\n",
      " 12  Total Extra Data Charges           6589 non-null   int64  \n",
      " 13  Total Long Distance Charges        6589 non-null   float64\n",
      " 14  Total Revenue                      6589 non-null   float64\n",
      " 15  Customer Status                    6589 non-null   int64  \n",
      " 16  Churn Category                     1869 non-null   object \n",
      " 17  Churn Reason                       1869 non-null   object \n",
      " 18  Gender_Male                        6589 non-null   uint8  \n",
      " 19  Internet Type_DSL                  6589 non-null   uint8  \n",
      " 20  Internet Type_Fiber Optic          6589 non-null   uint8  \n",
      " 21  Offer_Offer A                      6589 non-null   uint8  \n",
      " 22  Offer_Offer B                      6589 non-null   uint8  \n",
      " 23  Offer_Offer C                      6589 non-null   uint8  \n",
      " 24  Offer_Offer D                      6589 non-null   uint8  \n",
      " 25  Offer_Offer E                      6589 non-null   uint8  \n",
      " 26  Contract_One Year                  6589 non-null   uint8  \n",
      " 27  Contract_Two Year                  6589 non-null   uint8  \n",
      " 28  Payment Method_Credit Card         6589 non-null   uint8  \n",
      " 29  Payment Method_Mailed Check        6589 non-null   uint8  \n",
      " 30  Married_Yes                        6589 non-null   uint8  \n",
      " 31  Phone Service_Yes                  6589 non-null   uint8  \n",
      " 32  Multiple Lines_Yes                 6589 non-null   uint8  \n",
      " 33  Streaming TV_Yes                   6589 non-null   uint8  \n",
      " 34  Streaming Music_Yes                6589 non-null   uint8  \n",
      " 35  Streaming Movies_Yes               6589 non-null   uint8  \n",
      " 36  Unlimited Data_Yes                 6589 non-null   uint8  \n",
      " 37  Internet Service_Yes               6589 non-null   uint8  \n",
      " 38  Online Security_No                 6589 non-null   uint8  \n",
      " 39  Online Backup_No                   6589 non-null   uint8  \n",
      " 40  Device Protection Plan_No          6589 non-null   uint8  \n",
      " 41  Premium Tech Support_No            6589 non-null   uint8  \n",
      " 42  Paperless Billing_Yes              6589 non-null   uint8  \n",
      "dtypes: float64(9), int64(5), object(4), uint8(25)\n",
      "memory usage: 1.1+ MB\n"
     ]
    }
   ],
   "source": [
    "data.info()"
   ]
  },
  {
   "cell_type": "code",
   "execution_count": 247,
   "id": "8f78ce20-1bfb-418c-ba64-4f74e093b179",
   "metadata": {},
   "outputs": [],
   "source": [
    "data=data.drop(['Customer ID','City', 'Churn Category','Churn Reason'],axis=1)"
   ]
  },
  {
   "cell_type": "code",
   "execution_count": 248,
   "id": "9809e766-9723-42d0-8855-66c60dcdf106",
   "metadata": {},
   "outputs": [
    {
     "name": "stdout",
     "output_type": "stream",
     "text": [
      "<class 'pandas.core.frame.DataFrame'>\n",
      "RangeIndex: 6589 entries, 0 to 6588\n",
      "Data columns (total 39 columns):\n",
      " #   Column                             Non-Null Count  Dtype  \n",
      "---  ------                             --------------  -----  \n",
      " 0   Zip Code                           6589 non-null   int64  \n",
      " 1   Latitude                           6589 non-null   float64\n",
      " 2   Longitude                          6589 non-null   float64\n",
      " 3   Number of Referrals                6589 non-null   int64  \n",
      " 4   Tenure in Months                   6589 non-null   int64  \n",
      " 5   Avg Monthly Long Distance Charges  5945 non-null   float64\n",
      " 6   Avg Monthly GB Download            5245 non-null   float64\n",
      " 7   Monthly Charge                     6589 non-null   float64\n",
      " 8   Total Charges                      6589 non-null   float64\n",
      " 9   Total Refunds                      6589 non-null   float64\n",
      " 10  Total Extra Data Charges           6589 non-null   int64  \n",
      " 11  Total Long Distance Charges        6589 non-null   float64\n",
      " 12  Total Revenue                      6589 non-null   float64\n",
      " 13  Customer Status                    6589 non-null   int64  \n",
      " 14  Gender_Male                        6589 non-null   uint8  \n",
      " 15  Internet Type_DSL                  6589 non-null   uint8  \n",
      " 16  Internet Type_Fiber Optic          6589 non-null   uint8  \n",
      " 17  Offer_Offer A                      6589 non-null   uint8  \n",
      " 18  Offer_Offer B                      6589 non-null   uint8  \n",
      " 19  Offer_Offer C                      6589 non-null   uint8  \n",
      " 20  Offer_Offer D                      6589 non-null   uint8  \n",
      " 21  Offer_Offer E                      6589 non-null   uint8  \n",
      " 22  Contract_One Year                  6589 non-null   uint8  \n",
      " 23  Contract_Two Year                  6589 non-null   uint8  \n",
      " 24  Payment Method_Credit Card         6589 non-null   uint8  \n",
      " 25  Payment Method_Mailed Check        6589 non-null   uint8  \n",
      " 26  Married_Yes                        6589 non-null   uint8  \n",
      " 27  Phone Service_Yes                  6589 non-null   uint8  \n",
      " 28  Multiple Lines_Yes                 6589 non-null   uint8  \n",
      " 29  Streaming TV_Yes                   6589 non-null   uint8  \n",
      " 30  Streaming Music_Yes                6589 non-null   uint8  \n",
      " 31  Streaming Movies_Yes               6589 non-null   uint8  \n",
      " 32  Unlimited Data_Yes                 6589 non-null   uint8  \n",
      " 33  Internet Service_Yes               6589 non-null   uint8  \n",
      " 34  Online Security_No                 6589 non-null   uint8  \n",
      " 35  Online Backup_No                   6589 non-null   uint8  \n",
      " 36  Device Protection Plan_No          6589 non-null   uint8  \n",
      " 37  Premium Tech Support_No            6589 non-null   uint8  \n",
      " 38  Paperless Billing_Yes              6589 non-null   uint8  \n",
      "dtypes: float64(9), int64(5), uint8(25)\n",
      "memory usage: 881.7 KB\n"
     ]
    }
   ],
   "source": [
    "data.info()"
   ]
  },
  {
   "cell_type": "code",
   "execution_count": 252,
   "id": "d695420d-2fb0-41fe-a02f-71f0a021f2dc",
   "metadata": {},
   "outputs": [],
   "source": [
    "data['Avg Monthly Long Distance Charges']=data['Avg Monthly Long Distance Charges'].fillna(data['Avg Monthly Long Distance Charges'].mean())\n",
    "data['Avg Monthly GB Download']=data['Avg Monthly GB Download'].fillna(data['Avg Monthly GB Download'].mean())"
   ]
  },
  {
   "cell_type": "code",
   "execution_count": 253,
   "id": "ca69aade-f48b-4eae-bdf8-938d04eb114d",
   "metadata": {},
   "outputs": [
    {
     "name": "stdout",
     "output_type": "stream",
     "text": [
      "<class 'pandas.core.frame.DataFrame'>\n",
      "RangeIndex: 6589 entries, 0 to 6588\n",
      "Data columns (total 39 columns):\n",
      " #   Column                             Non-Null Count  Dtype  \n",
      "---  ------                             --------------  -----  \n",
      " 0   Zip Code                           6589 non-null   int64  \n",
      " 1   Latitude                           6589 non-null   float64\n",
      " 2   Longitude                          6589 non-null   float64\n",
      " 3   Number of Referrals                6589 non-null   int64  \n",
      " 4   Tenure in Months                   6589 non-null   int64  \n",
      " 5   Avg Monthly Long Distance Charges  6589 non-null   float64\n",
      " 6   Avg Monthly GB Download            6589 non-null   float64\n",
      " 7   Monthly Charge                     6589 non-null   float64\n",
      " 8   Total Charges                      6589 non-null   float64\n",
      " 9   Total Refunds                      6589 non-null   float64\n",
      " 10  Total Extra Data Charges           6589 non-null   int64  \n",
      " 11  Total Long Distance Charges        6589 non-null   float64\n",
      " 12  Total Revenue                      6589 non-null   float64\n",
      " 13  Customer Status                    6589 non-null   int64  \n",
      " 14  Gender_Male                        6589 non-null   uint8  \n",
      " 15  Internet Type_DSL                  6589 non-null   uint8  \n",
      " 16  Internet Type_Fiber Optic          6589 non-null   uint8  \n",
      " 17  Offer_Offer A                      6589 non-null   uint8  \n",
      " 18  Offer_Offer B                      6589 non-null   uint8  \n",
      " 19  Offer_Offer C                      6589 non-null   uint8  \n",
      " 20  Offer_Offer D                      6589 non-null   uint8  \n",
      " 21  Offer_Offer E                      6589 non-null   uint8  \n",
      " 22  Contract_One Year                  6589 non-null   uint8  \n",
      " 23  Contract_Two Year                  6589 non-null   uint8  \n",
      " 24  Payment Method_Credit Card         6589 non-null   uint8  \n",
      " 25  Payment Method_Mailed Check        6589 non-null   uint8  \n",
      " 26  Married_Yes                        6589 non-null   uint8  \n",
      " 27  Phone Service_Yes                  6589 non-null   uint8  \n",
      " 28  Multiple Lines_Yes                 6589 non-null   uint8  \n",
      " 29  Streaming TV_Yes                   6589 non-null   uint8  \n",
      " 30  Streaming Music_Yes                6589 non-null   uint8  \n",
      " 31  Streaming Movies_Yes               6589 non-null   uint8  \n",
      " 32  Unlimited Data_Yes                 6589 non-null   uint8  \n",
      " 33  Internet Service_Yes               6589 non-null   uint8  \n",
      " 34  Online Security_No                 6589 non-null   uint8  \n",
      " 35  Online Backup_No                   6589 non-null   uint8  \n",
      " 36  Device Protection Plan_No          6589 non-null   uint8  \n",
      " 37  Premium Tech Support_No            6589 non-null   uint8  \n",
      " 38  Paperless Billing_Yes              6589 non-null   uint8  \n",
      "dtypes: float64(9), int64(5), uint8(25)\n",
      "memory usage: 881.7 KB\n"
     ]
    }
   ],
   "source": [
    "data.info()"
   ]
  },
  {
   "cell_type": "code",
   "execution_count": 256,
   "id": "be5a5153-0135-41ed-ba09-5076d841878b",
   "metadata": {},
   "outputs": [],
   "source": [
    "num_telecom = data[['Tenure in Months','Monthly Charge','Total Revenue']]"
   ]
  },
  {
   "cell_type": "code",
   "execution_count": 257,
   "id": "b0b844b0-0809-47a4-90b6-9d0a59849d5c",
   "metadata": {},
   "outputs": [
    {
     "data": {
      "text/html": [
       "<div>\n",
       "<style scoped>\n",
       "    .dataframe tbody tr th:only-of-type {\n",
       "        vertical-align: middle;\n",
       "    }\n",
       "\n",
       "    .dataframe tbody tr th {\n",
       "        vertical-align: top;\n",
       "    }\n",
       "\n",
       "    .dataframe thead th {\n",
       "        text-align: right;\n",
       "    }\n",
       "</style>\n",
       "<table border=\"1\" class=\"dataframe\">\n",
       "  <thead>\n",
       "    <tr style=\"text-align: right;\">\n",
       "      <th></th>\n",
       "      <th>Tenure in Months</th>\n",
       "      <th>Monthly Charge</th>\n",
       "      <th>Total Revenue</th>\n",
       "    </tr>\n",
       "  </thead>\n",
       "  <tbody>\n",
       "    <tr>\n",
       "      <th>count</th>\n",
       "      <td>6589.000000</td>\n",
       "      <td>6589.000000</td>\n",
       "      <td>6589.000000</td>\n",
       "    </tr>\n",
       "    <tr>\n",
       "      <th>mean</th>\n",
       "      <td>34.499772</td>\n",
       "      <td>65.030695</td>\n",
       "      <td>3235.218082</td>\n",
       "    </tr>\n",
       "    <tr>\n",
       "      <th>std</th>\n",
       "      <td>23.968734</td>\n",
       "      <td>31.100727</td>\n",
       "      <td>2854.600036</td>\n",
       "    </tr>\n",
       "    <tr>\n",
       "      <th>min</th>\n",
       "      <td>1.000000</td>\n",
       "      <td>-10.000000</td>\n",
       "      <td>21.610000</td>\n",
       "    </tr>\n",
       "    <tr>\n",
       "      <th>25%</th>\n",
       "      <td>12.000000</td>\n",
       "      <td>35.800000</td>\n",
       "      <td>835.450000</td>\n",
       "    </tr>\n",
       "    <tr>\n",
       "      <th>50%</th>\n",
       "      <td>32.000000</td>\n",
       "      <td>71.050000</td>\n",
       "      <td>2376.450000</td>\n",
       "    </tr>\n",
       "    <tr>\n",
       "      <th>75%</th>\n",
       "      <td>57.000000</td>\n",
       "      <td>90.400000</td>\n",
       "      <td>5106.640000</td>\n",
       "    </tr>\n",
       "    <tr>\n",
       "      <th>90%</th>\n",
       "      <td>69.000000</td>\n",
       "      <td>103.410000</td>\n",
       "      <td>7769.116000</td>\n",
       "    </tr>\n",
       "    <tr>\n",
       "      <th>95%</th>\n",
       "      <td>72.000000</td>\n",
       "      <td>107.750000</td>\n",
       "      <td>8849.800000</td>\n",
       "    </tr>\n",
       "    <tr>\n",
       "      <th>99%</th>\n",
       "      <td>72.000000</td>\n",
       "      <td>114.900000</td>\n",
       "      <td>10461.536000</td>\n",
       "    </tr>\n",
       "    <tr>\n",
       "      <th>max</th>\n",
       "      <td>72.000000</td>\n",
       "      <td>118.750000</td>\n",
       "      <td>11979.340000</td>\n",
       "    </tr>\n",
       "  </tbody>\n",
       "</table>\n",
       "</div>"
      ],
      "text/plain": [
       "       Tenure in Months  Monthly Charge  Total Revenue\n",
       "count       6589.000000     6589.000000    6589.000000\n",
       "mean          34.499772       65.030695    3235.218082\n",
       "std           23.968734       31.100727    2854.600036\n",
       "min            1.000000      -10.000000      21.610000\n",
       "25%           12.000000       35.800000     835.450000\n",
       "50%           32.000000       71.050000    2376.450000\n",
       "75%           57.000000       90.400000    5106.640000\n",
       "90%           69.000000      103.410000    7769.116000\n",
       "95%           72.000000      107.750000    8849.800000\n",
       "99%           72.000000      114.900000   10461.536000\n",
       "max           72.000000      118.750000   11979.340000"
      ]
     },
     "execution_count": 257,
     "metadata": {},
     "output_type": "execute_result"
    }
   ],
   "source": [
    "num_telecom.describe(percentiles=[.25, .5, .75, .90, .95, .99])"
   ]
  },
  {
   "cell_type": "code",
   "execution_count": 258,
   "id": "639a9e01-f868-447c-9697-72286bd526f7",
   "metadata": {},
   "outputs": [
    {
     "data": {
      "text/plain": [
       "Zip Code                             0\n",
       "Latitude                             0\n",
       "Longitude                            0\n",
       "Number of Referrals                  0\n",
       "Tenure in Months                     0\n",
       "Avg Monthly Long Distance Charges    0\n",
       "Avg Monthly GB Download              0\n",
       "Monthly Charge                       0\n",
       "Total Charges                        0\n",
       "Total Refunds                        0\n",
       "Total Extra Data Charges             0\n",
       "Total Long Distance Charges          0\n",
       "Total Revenue                        0\n",
       "Customer Status                      0\n",
       "Gender_Male                          0\n",
       "Internet Type_DSL                    0\n",
       "Internet Type_Fiber Optic            0\n",
       "Offer_Offer A                        0\n",
       "Offer_Offer B                        0\n",
       "Offer_Offer C                        0\n",
       "Offer_Offer D                        0\n",
       "Offer_Offer E                        0\n",
       "Contract_One Year                    0\n",
       "Contract_Two Year                    0\n",
       "Payment Method_Credit Card           0\n",
       "Payment Method_Mailed Check          0\n",
       "Married_Yes                          0\n",
       "Phone Service_Yes                    0\n",
       "Multiple Lines_Yes                   0\n",
       "Streaming TV_Yes                     0\n",
       "Streaming Music_Yes                  0\n",
       "Streaming Movies_Yes                 0\n",
       "Unlimited Data_Yes                   0\n",
       "Internet Service_Yes                 0\n",
       "Online Security_No                   0\n",
       "Online Backup_No                     0\n",
       "Device Protection Plan_No            0\n",
       "Premium Tech Support_No              0\n",
       "Paperless Billing_Yes                0\n",
       "dtype: int64"
      ]
     },
     "execution_count": 258,
     "metadata": {},
     "output_type": "execute_result"
    }
   ],
   "source": [
    "data.isnull().sum()"
   ]
  },
  {
   "cell_type": "code",
   "execution_count": 260,
   "id": "f05ed894-c9f6-4159-a58d-40ae440a4dfc",
   "metadata": {},
   "outputs": [
    {
     "data": {
      "text/plain": [
       "Index(['Zip Code', 'Latitude', 'Longitude', 'Number of Referrals',\n",
       "       'Tenure in Months', 'Avg Monthly Long Distance Charges',\n",
       "       'Avg Monthly GB Download', 'Monthly Charge', 'Total Charges',\n",
       "       'Total Refunds', 'Total Extra Data Charges',\n",
       "       'Total Long Distance Charges', 'Total Revenue', 'Customer Status',\n",
       "       'Gender_Male', 'Internet Type_DSL', 'Internet Type_Fiber Optic',\n",
       "       'Offer_Offer A', 'Offer_Offer B', 'Offer_Offer C', 'Offer_Offer D',\n",
       "       'Offer_Offer E', 'Contract_One Year', 'Contract_Two Year',\n",
       "       'Payment Method_Credit Card', 'Payment Method_Mailed Check',\n",
       "       'Married_Yes', 'Phone Service_Yes', 'Multiple Lines_Yes',\n",
       "       'Streaming TV_Yes', 'Streaming Music_Yes', 'Streaming Movies_Yes',\n",
       "       'Unlimited Data_Yes', 'Internet Service_Yes', 'Online Security_No',\n",
       "       'Online Backup_No', 'Device Protection Plan_No',\n",
       "       'Premium Tech Support_No', 'Paperless Billing_Yes'],\n",
       "      dtype='object')"
      ]
     },
     "execution_count": 260,
     "metadata": {},
     "output_type": "execute_result"
    }
   ],
   "source": [
    "data.columns"
   ]
  },
  {
   "cell_type": "code",
   "execution_count": 262,
   "id": "cc3639bb-df3e-45b0-9c01-4ca4de05a3a7",
   "metadata": {},
   "outputs": [],
   "source": [
    "data.columns=['Zip Code', 'Latitude', 'Longitude', 'Number of Referrals',\n",
    "       'Tenure in Months', 'Avg Monthly Long Distance Charges',\n",
    "       'Avg Monthly GB Download', 'Monthly Charge', 'Total Charges',\n",
    "       'Total Refunds', 'Total Extra Data Charges',\n",
    "       'Total Long Distance Charges', 'Total Revenue',\n",
    "       'Gender_Male', 'Internet Type_DSL', 'Internet Type_Fiber Optic',\n",
    "       'Offer_Offer A', 'Offer_Offer B', 'Offer_Offer C', 'Offer_Offer D',\n",
    "       'Offer_Offer E', 'Contract_One Year', 'Contract_Two Year',\n",
    "       'Payment Method_Credit Card', 'Payment Method_Mailed Check',\n",
    "       'Married_Yes', 'Phone Service_Yes', 'Multiple Lines_Yes',\n",
    "       'Streaming TV_Yes', 'Streaming Music_Yes', 'Streaming Movies_Yes',\n",
    "       'Unlimited Data_Yes', 'Internet Service_Yes', 'Online Security_No',\n",
    "       'Online Backup_No', 'Device Protection Plan_No',\n",
    "       'Premium Tech Support_No', 'Paperless Billing_Yes','Customer Status']"
   ]
  },
  {
   "cell_type": "code",
   "execution_count": 259,
   "id": "45bcc2a3-9a7c-4dee-96f4-df31d3eee876",
   "metadata": {},
   "outputs": [],
   "source": [
    "##splitting train and test data"
   ]
  },
  {
   "cell_type": "code",
   "execution_count": 264,
   "id": "b0d1410a-6ee3-4735-9670-fc523f2407f4",
   "metadata": {},
   "outputs": [],
   "source": [
    "x = data.iloc[:,:-1].values\n",
    "y = data.iloc[:,-1].values"
   ]
  },
  {
   "cell_type": "code",
   "execution_count": 265,
   "id": "8ff026af-47ed-4366-bbdf-7479dd999687",
   "metadata": {},
   "outputs": [],
   "source": [
    "x = pd.DataFrame(x)\n",
    "x.columns=['Zip Code', 'Latitude', 'Longitude', 'Number of Referrals',\n",
    "       'Tenure in Months', 'Avg Monthly Long Distance Charges',\n",
    "       'Avg Monthly GB Download', 'Monthly Charge', 'Total Charges',\n",
    "       'Total Refunds', 'Total Extra Data Charges',\n",
    "       'Total Long Distance Charges', 'Total Revenue',\n",
    "       'Gender_Male', 'Internet Type_DSL', 'Internet Type_Fiber Optic',\n",
    "       'Offer_Offer A', 'Offer_Offer B', 'Offer_Offer C', 'Offer_Offer D',\n",
    "       'Offer_Offer E', 'Contract_One Year', 'Contract_Two Year',\n",
    "       'Payment Method_Credit Card', 'Payment Method_Mailed Check',\n",
    "       'Married_Yes', 'Phone Service_Yes', 'Multiple Lines_Yes',\n",
    "       'Streaming TV_Yes', 'Streaming Music_Yes', 'Streaming Movies_Yes',\n",
    "       'Unlimited Data_Yes', 'Internet Service_Yes', 'Online Security_No',\n",
    "       'Online Backup_No', 'Device Protection Plan_No',\n",
    "       'Premium Tech Support_No', 'Paperless Billing_Yes']"
   ]
  },
  {
   "cell_type": "code",
   "execution_count": 266,
   "id": "f4fcb2b1-0cdc-476c-9d3a-01b710bcdcc0",
   "metadata": {},
   "outputs": [
    {
     "data": {
      "text/html": [
       "<div>\n",
       "<style scoped>\n",
       "    .dataframe tbody tr th:only-of-type {\n",
       "        vertical-align: middle;\n",
       "    }\n",
       "\n",
       "    .dataframe tbody tr th {\n",
       "        vertical-align: top;\n",
       "    }\n",
       "\n",
       "    .dataframe thead th {\n",
       "        text-align: right;\n",
       "    }\n",
       "</style>\n",
       "<table border=\"1\" class=\"dataframe\">\n",
       "  <thead>\n",
       "    <tr style=\"text-align: right;\">\n",
       "      <th></th>\n",
       "      <th>Zip Code</th>\n",
       "      <th>Latitude</th>\n",
       "      <th>Longitude</th>\n",
       "      <th>Number of Referrals</th>\n",
       "      <th>Tenure in Months</th>\n",
       "      <th>Avg Monthly Long Distance Charges</th>\n",
       "      <th>Avg Monthly GB Download</th>\n",
       "      <th>Monthly Charge</th>\n",
       "      <th>Total Charges</th>\n",
       "      <th>Total Refunds</th>\n",
       "      <th>...</th>\n",
       "      <th>Streaming TV_Yes</th>\n",
       "      <th>Streaming Music_Yes</th>\n",
       "      <th>Streaming Movies_Yes</th>\n",
       "      <th>Unlimited Data_Yes</th>\n",
       "      <th>Internet Service_Yes</th>\n",
       "      <th>Online Security_No</th>\n",
       "      <th>Online Backup_No</th>\n",
       "      <th>Device Protection Plan_No</th>\n",
       "      <th>Premium Tech Support_No</th>\n",
       "      <th>Paperless Billing_Yes</th>\n",
       "    </tr>\n",
       "  </thead>\n",
       "  <tbody>\n",
       "    <tr>\n",
       "      <th>0</th>\n",
       "      <td>93225.0</td>\n",
       "      <td>34.827662</td>\n",
       "      <td>-118.999073</td>\n",
       "      <td>2.0</td>\n",
       "      <td>9.0</td>\n",
       "      <td>42.39</td>\n",
       "      <td>16.0</td>\n",
       "      <td>65.6</td>\n",
       "      <td>593.30</td>\n",
       "      <td>0.00</td>\n",
       "      <td>...</td>\n",
       "      <td>0.0</td>\n",
       "      <td>1.0</td>\n",
       "      <td>0.0</td>\n",
       "      <td>0.0</td>\n",
       "      <td>1.0</td>\n",
       "      <td>1.0</td>\n",
       "      <td>1.0</td>\n",
       "      <td>0.0</td>\n",
       "      <td>1.0</td>\n",
       "      <td>0.0</td>\n",
       "    </tr>\n",
       "    <tr>\n",
       "      <th>1</th>\n",
       "      <td>91206.0</td>\n",
       "      <td>34.162515</td>\n",
       "      <td>-118.203869</td>\n",
       "      <td>0.0</td>\n",
       "      <td>9.0</td>\n",
       "      <td>10.69</td>\n",
       "      <td>10.0</td>\n",
       "      <td>-4.0</td>\n",
       "      <td>542.40</td>\n",
       "      <td>38.33</td>\n",
       "      <td>...</td>\n",
       "      <td>1.0</td>\n",
       "      <td>0.0</td>\n",
       "      <td>1.0</td>\n",
       "      <td>1.0</td>\n",
       "      <td>0.0</td>\n",
       "      <td>1.0</td>\n",
       "      <td>1.0</td>\n",
       "      <td>1.0</td>\n",
       "      <td>1.0</td>\n",
       "      <td>1.0</td>\n",
       "    </tr>\n",
       "    <tr>\n",
       "      <th>2</th>\n",
       "      <td>92627.0</td>\n",
       "      <td>33.645672</td>\n",
       "      <td>-117.922613</td>\n",
       "      <td>0.0</td>\n",
       "      <td>4.0</td>\n",
       "      <td>33.65</td>\n",
       "      <td>30.0</td>\n",
       "      <td>73.9</td>\n",
       "      <td>280.85</td>\n",
       "      <td>0.00</td>\n",
       "      <td>...</td>\n",
       "      <td>0.0</td>\n",
       "      <td>0.0</td>\n",
       "      <td>0.0</td>\n",
       "      <td>0.0</td>\n",
       "      <td>1.0</td>\n",
       "      <td>1.0</td>\n",
       "      <td>1.0</td>\n",
       "      <td>1.0</td>\n",
       "      <td>0.0</td>\n",
       "      <td>1.0</td>\n",
       "    </tr>\n",
       "    <tr>\n",
       "      <th>3</th>\n",
       "      <td>94553.0</td>\n",
       "      <td>38.014457</td>\n",
       "      <td>-122.115432</td>\n",
       "      <td>1.0</td>\n",
       "      <td>13.0</td>\n",
       "      <td>27.82</td>\n",
       "      <td>4.0</td>\n",
       "      <td>98.0</td>\n",
       "      <td>1237.85</td>\n",
       "      <td>0.00</td>\n",
       "      <td>...</td>\n",
       "      <td>0.0</td>\n",
       "      <td>1.0</td>\n",
       "      <td>0.0</td>\n",
       "      <td>1.0</td>\n",
       "      <td>1.0</td>\n",
       "      <td>1.0</td>\n",
       "      <td>1.0</td>\n",
       "      <td>0.0</td>\n",
       "      <td>0.0</td>\n",
       "      <td>1.0</td>\n",
       "    </tr>\n",
       "    <tr>\n",
       "      <th>4</th>\n",
       "      <td>93010.0</td>\n",
       "      <td>34.227846</td>\n",
       "      <td>-119.079903</td>\n",
       "      <td>3.0</td>\n",
       "      <td>3.0</td>\n",
       "      <td>7.38</td>\n",
       "      <td>11.0</td>\n",
       "      <td>83.9</td>\n",
       "      <td>267.40</td>\n",
       "      <td>0.00</td>\n",
       "      <td>...</td>\n",
       "      <td>0.0</td>\n",
       "      <td>1.0</td>\n",
       "      <td>0.0</td>\n",
       "      <td>0.0</td>\n",
       "      <td>1.0</td>\n",
       "      <td>1.0</td>\n",
       "      <td>1.0</td>\n",
       "      <td>1.0</td>\n",
       "      <td>1.0</td>\n",
       "      <td>0.0</td>\n",
       "    </tr>\n",
       "  </tbody>\n",
       "</table>\n",
       "<p>5 rows × 38 columns</p>\n",
       "</div>"
      ],
      "text/plain": [
       "   Zip Code   Latitude   Longitude  Number of Referrals  Tenure in Months  \\\n",
       "0   93225.0  34.827662 -118.999073                  2.0               9.0   \n",
       "1   91206.0  34.162515 -118.203869                  0.0               9.0   \n",
       "2   92627.0  33.645672 -117.922613                  0.0               4.0   \n",
       "3   94553.0  38.014457 -122.115432                  1.0              13.0   \n",
       "4   93010.0  34.227846 -119.079903                  3.0               3.0   \n",
       "\n",
       "   Avg Monthly Long Distance Charges  Avg Monthly GB Download  Monthly Charge  \\\n",
       "0                              42.39                     16.0            65.6   \n",
       "1                              10.69                     10.0            -4.0   \n",
       "2                              33.65                     30.0            73.9   \n",
       "3                              27.82                      4.0            98.0   \n",
       "4                               7.38                     11.0            83.9   \n",
       "\n",
       "   Total Charges  Total Refunds  ...  Streaming TV_Yes  Streaming Music_Yes  \\\n",
       "0         593.30           0.00  ...               0.0                  1.0   \n",
       "1         542.40          38.33  ...               1.0                  0.0   \n",
       "2         280.85           0.00  ...               0.0                  0.0   \n",
       "3        1237.85           0.00  ...               0.0                  1.0   \n",
       "4         267.40           0.00  ...               0.0                  1.0   \n",
       "\n",
       "   Streaming Movies_Yes  Unlimited Data_Yes  Internet Service_Yes  \\\n",
       "0                   0.0                 0.0                   1.0   \n",
       "1                   1.0                 1.0                   0.0   \n",
       "2                   0.0                 0.0                   1.0   \n",
       "3                   0.0                 1.0                   1.0   \n",
       "4                   0.0                 0.0                   1.0   \n",
       "\n",
       "   Online Security_No  Online Backup_No  Device Protection Plan_No  \\\n",
       "0                 1.0               1.0                        0.0   \n",
       "1                 1.0               1.0                        1.0   \n",
       "2                 1.0               1.0                        1.0   \n",
       "3                 1.0               1.0                        0.0   \n",
       "4                 1.0               1.0                        1.0   \n",
       "\n",
       "   Premium Tech Support_No  Paperless Billing_Yes  \n",
       "0                      1.0                    0.0  \n",
       "1                      1.0                    1.0  \n",
       "2                      0.0                    1.0  \n",
       "3                      0.0                    1.0  \n",
       "4                      1.0                    0.0  \n",
       "\n",
       "[5 rows x 38 columns]"
      ]
     },
     "execution_count": 266,
     "metadata": {},
     "output_type": "execute_result"
    }
   ],
   "source": [
    "x.head()"
   ]
  },
  {
   "cell_type": "code",
   "execution_count": 267,
   "id": "56befa70-c032-4cbd-805a-4ba7659f7c37",
   "metadata": {},
   "outputs": [],
   "source": [
    "x['intercept']=1"
   ]
  },
  {
   "cell_type": "code",
   "execution_count": 268,
   "id": "b5a6ae2d-6271-49e9-b0cd-73bc30ad651f",
   "metadata": {},
   "outputs": [],
   "source": [
    "vif = pd.DataFrame()\n",
    "vif['variable']= x.columns"
   ]
  },
  {
   "cell_type": "code",
   "execution_count": 269,
   "id": "c14781c8-1d73-4e69-8dc9-6369379ed268",
   "metadata": {},
   "outputs": [
    {
     "name": "stderr",
     "output_type": "stream",
     "text": [
      "/home/solvedcandle10/anaconda3/lib/python3.10/site-packages/statsmodels/stats/outliers_influence.py:195: RuntimeWarning: divide by zero encountered in scalar divide\n",
      "  vif = 1. / (1. - r_squared_i)\n"
     ]
    }
   ],
   "source": [
    "from statsmodels.stats.outliers_influence import \\\n",
    "variance_inflation_factor\n",
    "vif['vif'] = [variance_inflation_factor(x.values,i)\n",
    "for i in range(x.shape[1])]"
   ]
  },
  {
   "cell_type": "code",
   "execution_count": 270,
   "id": "6c01c9ba-61ca-4ef5-a211-e56d0dd2afcd",
   "metadata": {},
   "outputs": [
    {
     "data": {
      "text/html": [
       "<div>\n",
       "<style scoped>\n",
       "    .dataframe tbody tr th:only-of-type {\n",
       "        vertical-align: middle;\n",
       "    }\n",
       "\n",
       "    .dataframe tbody tr th {\n",
       "        vertical-align: top;\n",
       "    }\n",
       "\n",
       "    .dataframe thead th {\n",
       "        text-align: right;\n",
       "    }\n",
       "</style>\n",
       "<table border=\"1\" class=\"dataframe\">\n",
       "  <thead>\n",
       "    <tr style=\"text-align: right;\">\n",
       "      <th></th>\n",
       "      <th>variable</th>\n",
       "      <th>vif</th>\n",
       "    </tr>\n",
       "  </thead>\n",
       "  <tbody>\n",
       "    <tr>\n",
       "      <th>0</th>\n",
       "      <td>Zip Code</td>\n",
       "      <td>5.081130e+00</td>\n",
       "    </tr>\n",
       "    <tr>\n",
       "      <th>1</th>\n",
       "      <td>Latitude</td>\n",
       "      <td>8.856811e+00</td>\n",
       "    </tr>\n",
       "    <tr>\n",
       "      <th>2</th>\n",
       "      <td>Longitude</td>\n",
       "      <td>4.698447e+00</td>\n",
       "    </tr>\n",
       "    <tr>\n",
       "      <th>3</th>\n",
       "      <td>Number of Referrals</td>\n",
       "      <td>1.933437e+00</td>\n",
       "    </tr>\n",
       "    <tr>\n",
       "      <th>4</th>\n",
       "      <td>Tenure in Months</td>\n",
       "      <td>9.615715e+00</td>\n",
       "    </tr>\n",
       "    <tr>\n",
       "      <th>5</th>\n",
       "      <td>Avg Monthly Long Distance Charges</td>\n",
       "      <td>2.662079e+00</td>\n",
       "    </tr>\n",
       "    <tr>\n",
       "      <th>6</th>\n",
       "      <td>Avg Monthly GB Download</td>\n",
       "      <td>1.085418e+00</td>\n",
       "    </tr>\n",
       "    <tr>\n",
       "      <th>7</th>\n",
       "      <td>Monthly Charge</td>\n",
       "      <td>9.506058e+00</td>\n",
       "    </tr>\n",
       "    <tr>\n",
       "      <th>8</th>\n",
       "      <td>Total Charges</td>\n",
       "      <td>inf</td>\n",
       "    </tr>\n",
       "    <tr>\n",
       "      <th>9</th>\n",
       "      <td>Total Refunds</td>\n",
       "      <td>inf</td>\n",
       "    </tr>\n",
       "    <tr>\n",
       "      <th>10</th>\n",
       "      <td>Total Extra Data Charges</td>\n",
       "      <td>inf</td>\n",
       "    </tr>\n",
       "    <tr>\n",
       "      <th>11</th>\n",
       "      <td>Total Long Distance Charges</td>\n",
       "      <td>inf</td>\n",
       "    </tr>\n",
       "    <tr>\n",
       "      <th>12</th>\n",
       "      <td>Total Revenue</td>\n",
       "      <td>inf</td>\n",
       "    </tr>\n",
       "    <tr>\n",
       "      <th>13</th>\n",
       "      <td>Gender_Male</td>\n",
       "      <td>1.674402e+00</td>\n",
       "    </tr>\n",
       "    <tr>\n",
       "      <th>14</th>\n",
       "      <td>Internet Type_DSL</td>\n",
       "      <td>1.005055e+00</td>\n",
       "    </tr>\n",
       "    <tr>\n",
       "      <th>15</th>\n",
       "      <td>Internet Type_Fiber Optic</td>\n",
       "      <td>2.313357e+00</td>\n",
       "    </tr>\n",
       "    <tr>\n",
       "      <th>16</th>\n",
       "      <td>Offer_Offer A</td>\n",
       "      <td>4.804187e+00</td>\n",
       "    </tr>\n",
       "    <tr>\n",
       "      <th>17</th>\n",
       "      <td>Offer_Offer B</td>\n",
       "      <td>1.399177e+00</td>\n",
       "    </tr>\n",
       "    <tr>\n",
       "      <th>18</th>\n",
       "      <td>Offer_Offer C</td>\n",
       "      <td>1.229094e+00</td>\n",
       "    </tr>\n",
       "    <tr>\n",
       "      <th>19</th>\n",
       "      <td>Offer_Offer D</td>\n",
       "      <td>1.066728e+00</td>\n",
       "    </tr>\n",
       "    <tr>\n",
       "      <th>20</th>\n",
       "      <td>Offer_Offer E</td>\n",
       "      <td>1.176048e+00</td>\n",
       "    </tr>\n",
       "    <tr>\n",
       "      <th>21</th>\n",
       "      <td>Contract_One Year</td>\n",
       "      <td>1.336944e+00</td>\n",
       "    </tr>\n",
       "    <tr>\n",
       "      <th>22</th>\n",
       "      <td>Contract_Two Year</td>\n",
       "      <td>1.653657e+00</td>\n",
       "    </tr>\n",
       "    <tr>\n",
       "      <th>23</th>\n",
       "      <td>Payment Method_Credit Card</td>\n",
       "      <td>2.445699e+00</td>\n",
       "    </tr>\n",
       "    <tr>\n",
       "      <th>24</th>\n",
       "      <td>Payment Method_Mailed Check</td>\n",
       "      <td>1.192571e+00</td>\n",
       "    </tr>\n",
       "    <tr>\n",
       "      <th>25</th>\n",
       "      <td>Married_Yes</td>\n",
       "      <td>1.107766e+00</td>\n",
       "    </tr>\n",
       "    <tr>\n",
       "      <th>26</th>\n",
       "      <td>Phone Service_Yes</td>\n",
       "      <td>1.912481e+00</td>\n",
       "    </tr>\n",
       "    <tr>\n",
       "      <th>27</th>\n",
       "      <td>Multiple Lines_Yes</td>\n",
       "      <td>2.218055e+00</td>\n",
       "    </tr>\n",
       "    <tr>\n",
       "      <th>28</th>\n",
       "      <td>Streaming TV_Yes</td>\n",
       "      <td>1.498669e+00</td>\n",
       "    </tr>\n",
       "    <tr>\n",
       "      <th>29</th>\n",
       "      <td>Streaming Music_Yes</td>\n",
       "      <td>1.933851e+00</td>\n",
       "    </tr>\n",
       "    <tr>\n",
       "      <th>30</th>\n",
       "      <td>Streaming Movies_Yes</td>\n",
       "      <td>3.774701e+00</td>\n",
       "    </tr>\n",
       "    <tr>\n",
       "      <th>31</th>\n",
       "      <td>Unlimited Data_Yes</td>\n",
       "      <td>4.618725e+00</td>\n",
       "    </tr>\n",
       "    <tr>\n",
       "      <th>32</th>\n",
       "      <td>Internet Service_Yes</td>\n",
       "      <td>6.037904e+00</td>\n",
       "    </tr>\n",
       "    <tr>\n",
       "      <th>33</th>\n",
       "      <td>Online Security_No</td>\n",
       "      <td>1.251198e+01</td>\n",
       "    </tr>\n",
       "    <tr>\n",
       "      <th>34</th>\n",
       "      <td>Online Backup_No</td>\n",
       "      <td>1.812010e+00</td>\n",
       "    </tr>\n",
       "    <tr>\n",
       "      <th>35</th>\n",
       "      <td>Device Protection Plan_No</td>\n",
       "      <td>1.621519e+00</td>\n",
       "    </tr>\n",
       "    <tr>\n",
       "      <th>36</th>\n",
       "      <td>Premium Tech Support_No</td>\n",
       "      <td>1.683462e+00</td>\n",
       "    </tr>\n",
       "    <tr>\n",
       "      <th>37</th>\n",
       "      <td>Paperless Billing_Yes</td>\n",
       "      <td>1.844877e+00</td>\n",
       "    </tr>\n",
       "    <tr>\n",
       "      <th>38</th>\n",
       "      <td>intercept</td>\n",
       "      <td>1.596968e+04</td>\n",
       "    </tr>\n",
       "  </tbody>\n",
       "</table>\n",
       "</div>"
      ],
      "text/plain": [
       "                             variable           vif\n",
       "0                            Zip Code  5.081130e+00\n",
       "1                            Latitude  8.856811e+00\n",
       "2                           Longitude  4.698447e+00\n",
       "3                 Number of Referrals  1.933437e+00\n",
       "4                    Tenure in Months  9.615715e+00\n",
       "5   Avg Monthly Long Distance Charges  2.662079e+00\n",
       "6             Avg Monthly GB Download  1.085418e+00\n",
       "7                      Monthly Charge  9.506058e+00\n",
       "8                       Total Charges           inf\n",
       "9                       Total Refunds           inf\n",
       "10           Total Extra Data Charges           inf\n",
       "11        Total Long Distance Charges           inf\n",
       "12                      Total Revenue           inf\n",
       "13                        Gender_Male  1.674402e+00\n",
       "14                  Internet Type_DSL  1.005055e+00\n",
       "15          Internet Type_Fiber Optic  2.313357e+00\n",
       "16                      Offer_Offer A  4.804187e+00\n",
       "17                      Offer_Offer B  1.399177e+00\n",
       "18                      Offer_Offer C  1.229094e+00\n",
       "19                      Offer_Offer D  1.066728e+00\n",
       "20                      Offer_Offer E  1.176048e+00\n",
       "21                  Contract_One Year  1.336944e+00\n",
       "22                  Contract_Two Year  1.653657e+00\n",
       "23         Payment Method_Credit Card  2.445699e+00\n",
       "24        Payment Method_Mailed Check  1.192571e+00\n",
       "25                        Married_Yes  1.107766e+00\n",
       "26                  Phone Service_Yes  1.912481e+00\n",
       "27                 Multiple Lines_Yes  2.218055e+00\n",
       "28                   Streaming TV_Yes  1.498669e+00\n",
       "29                Streaming Music_Yes  1.933851e+00\n",
       "30               Streaming Movies_Yes  3.774701e+00\n",
       "31                 Unlimited Data_Yes  4.618725e+00\n",
       "32               Internet Service_Yes  6.037904e+00\n",
       "33                 Online Security_No  1.251198e+01\n",
       "34                   Online Backup_No  1.812010e+00\n",
       "35          Device Protection Plan_No  1.621519e+00\n",
       "36            Premium Tech Support_No  1.683462e+00\n",
       "37              Paperless Billing_Yes  1.844877e+00\n",
       "38                          intercept  1.596968e+04"
      ]
     },
     "execution_count": 270,
     "metadata": {},
     "output_type": "execute_result"
    }
   ],
   "source": [
    "vif"
   ]
  },
  {
   "cell_type": "code",
   "execution_count": 272,
   "id": "888b59a1-2562-44c2-a8ea-37a1b5b23d57",
   "metadata": {},
   "outputs": [],
   "source": [
    "x = x.drop(['Monthly Charge'], axis=1)"
   ]
  },
  {
   "cell_type": "code",
   "execution_count": 273,
   "id": "0fe0418c-84c9-4e86-8138-f37a1dc5656a",
   "metadata": {},
   "outputs": [],
   "source": [
    "vif = pd.DataFrame()\n",
    "vif['variable']= x.columns"
   ]
  },
  {
   "cell_type": "code",
   "execution_count": 274,
   "id": "c7cae4d2-7bd6-4569-8329-edc569237d19",
   "metadata": {},
   "outputs": [
    {
     "name": "stderr",
     "output_type": "stream",
     "text": [
      "/home/solvedcandle10/anaconda3/lib/python3.10/site-packages/statsmodels/stats/outliers_influence.py:195: RuntimeWarning: divide by zero encountered in scalar divide\n",
      "  vif = 1. / (1. - r_squared_i)\n"
     ]
    }
   ],
   "source": [
    "from statsmodels.stats.outliers_influence import \\\n",
    "variance_inflation_factor\n",
    "vif['vif'] = [variance_inflation_factor(x.values,i)\n",
    "for i in range(x.shape[1])]"
   ]
  },
  {
   "cell_type": "code",
   "execution_count": 275,
   "id": "69381286-bbf3-4657-b40b-f8261cb17bf9",
   "metadata": {},
   "outputs": [
    {
     "data": {
      "text/html": [
       "<div>\n",
       "<style scoped>\n",
       "    .dataframe tbody tr th:only-of-type {\n",
       "        vertical-align: middle;\n",
       "    }\n",
       "\n",
       "    .dataframe tbody tr th {\n",
       "        vertical-align: top;\n",
       "    }\n",
       "\n",
       "    .dataframe thead th {\n",
       "        text-align: right;\n",
       "    }\n",
       "</style>\n",
       "<table border=\"1\" class=\"dataframe\">\n",
       "  <thead>\n",
       "    <tr style=\"text-align: right;\">\n",
       "      <th></th>\n",
       "      <th>variable</th>\n",
       "      <th>vif</th>\n",
       "    </tr>\n",
       "  </thead>\n",
       "  <tbody>\n",
       "    <tr>\n",
       "      <th>0</th>\n",
       "      <td>Zip Code</td>\n",
       "      <td>5.080424e+00</td>\n",
       "    </tr>\n",
       "    <tr>\n",
       "      <th>1</th>\n",
       "      <td>Latitude</td>\n",
       "      <td>8.856806e+00</td>\n",
       "    </tr>\n",
       "    <tr>\n",
       "      <th>2</th>\n",
       "      <td>Longitude</td>\n",
       "      <td>4.698428e+00</td>\n",
       "    </tr>\n",
       "    <tr>\n",
       "      <th>3</th>\n",
       "      <td>Number of Referrals</td>\n",
       "      <td>1.933220e+00</td>\n",
       "    </tr>\n",
       "    <tr>\n",
       "      <th>4</th>\n",
       "      <td>Tenure in Months</td>\n",
       "      <td>9.613910e+00</td>\n",
       "    </tr>\n",
       "    <tr>\n",
       "      <th>5</th>\n",
       "      <td>Avg Monthly Long Distance Charges</td>\n",
       "      <td>2.661888e+00</td>\n",
       "    </tr>\n",
       "    <tr>\n",
       "      <th>6</th>\n",
       "      <td>Avg Monthly GB Download</td>\n",
       "      <td>1.085416e+00</td>\n",
       "    </tr>\n",
       "    <tr>\n",
       "      <th>7</th>\n",
       "      <td>Total Charges</td>\n",
       "      <td>inf</td>\n",
       "    </tr>\n",
       "    <tr>\n",
       "      <th>8</th>\n",
       "      <td>Total Refunds</td>\n",
       "      <td>inf</td>\n",
       "    </tr>\n",
       "    <tr>\n",
       "      <th>9</th>\n",
       "      <td>Total Extra Data Charges</td>\n",
       "      <td>inf</td>\n",
       "    </tr>\n",
       "    <tr>\n",
       "      <th>10</th>\n",
       "      <td>Total Long Distance Charges</td>\n",
       "      <td>inf</td>\n",
       "    </tr>\n",
       "    <tr>\n",
       "      <th>11</th>\n",
       "      <td>Total Revenue</td>\n",
       "      <td>inf</td>\n",
       "    </tr>\n",
       "    <tr>\n",
       "      <th>12</th>\n",
       "      <td>Gender_Male</td>\n",
       "      <td>1.670344e+00</td>\n",
       "    </tr>\n",
       "    <tr>\n",
       "      <th>13</th>\n",
       "      <td>Internet Type_DSL</td>\n",
       "      <td>1.004755e+00</td>\n",
       "    </tr>\n",
       "    <tr>\n",
       "      <th>14</th>\n",
       "      <td>Internet Type_Fiber Optic</td>\n",
       "      <td>2.304343e+00</td>\n",
       "    </tr>\n",
       "    <tr>\n",
       "      <th>15</th>\n",
       "      <td>Offer_Offer A</td>\n",
       "      <td>3.706072e+00</td>\n",
       "    </tr>\n",
       "    <tr>\n",
       "      <th>16</th>\n",
       "      <td>Offer_Offer B</td>\n",
       "      <td>1.399142e+00</td>\n",
       "    </tr>\n",
       "    <tr>\n",
       "      <th>17</th>\n",
       "      <td>Offer_Offer C</td>\n",
       "      <td>1.228822e+00</td>\n",
       "    </tr>\n",
       "    <tr>\n",
       "      <th>18</th>\n",
       "      <td>Offer_Offer D</td>\n",
       "      <td>1.065997e+00</td>\n",
       "    </tr>\n",
       "    <tr>\n",
       "      <th>19</th>\n",
       "      <td>Offer_Offer E</td>\n",
       "      <td>1.175741e+00</td>\n",
       "    </tr>\n",
       "    <tr>\n",
       "      <th>20</th>\n",
       "      <td>Contract_One Year</td>\n",
       "      <td>1.336902e+00</td>\n",
       "    </tr>\n",
       "    <tr>\n",
       "      <th>21</th>\n",
       "      <td>Contract_Two Year</td>\n",
       "      <td>1.653580e+00</td>\n",
       "    </tr>\n",
       "    <tr>\n",
       "      <th>22</th>\n",
       "      <td>Payment Method_Credit Card</td>\n",
       "      <td>2.445690e+00</td>\n",
       "    </tr>\n",
       "    <tr>\n",
       "      <th>23</th>\n",
       "      <td>Payment Method_Mailed Check</td>\n",
       "      <td>1.191870e+00</td>\n",
       "    </tr>\n",
       "    <tr>\n",
       "      <th>24</th>\n",
       "      <td>Married_Yes</td>\n",
       "      <td>1.107559e+00</td>\n",
       "    </tr>\n",
       "    <tr>\n",
       "      <th>25</th>\n",
       "      <td>Phone Service_Yes</td>\n",
       "      <td>1.912134e+00</td>\n",
       "    </tr>\n",
       "    <tr>\n",
       "      <th>26</th>\n",
       "      <td>Multiple Lines_Yes</td>\n",
       "      <td>1.860877e+00</td>\n",
       "    </tr>\n",
       "    <tr>\n",
       "      <th>27</th>\n",
       "      <td>Streaming TV_Yes</td>\n",
       "      <td>1.438425e+00</td>\n",
       "    </tr>\n",
       "    <tr>\n",
       "      <th>28</th>\n",
       "      <td>Streaming Music_Yes</td>\n",
       "      <td>1.704666e+00</td>\n",
       "    </tr>\n",
       "    <tr>\n",
       "      <th>29</th>\n",
       "      <td>Streaming Movies_Yes</td>\n",
       "      <td>3.774261e+00</td>\n",
       "    </tr>\n",
       "    <tr>\n",
       "      <th>30</th>\n",
       "      <td>Unlimited Data_Yes</td>\n",
       "      <td>4.385285e+00</td>\n",
       "    </tr>\n",
       "    <tr>\n",
       "      <th>31</th>\n",
       "      <td>Internet Service_Yes</td>\n",
       "      <td>6.037862e+00</td>\n",
       "    </tr>\n",
       "    <tr>\n",
       "      <th>32</th>\n",
       "      <td>Online Security_No</td>\n",
       "      <td>9.293606e+00</td>\n",
       "    </tr>\n",
       "    <tr>\n",
       "      <th>33</th>\n",
       "      <td>Online Backup_No</td>\n",
       "      <td>1.760071e+00</td>\n",
       "    </tr>\n",
       "    <tr>\n",
       "      <th>34</th>\n",
       "      <td>Device Protection Plan_No</td>\n",
       "      <td>1.569841e+00</td>\n",
       "    </tr>\n",
       "    <tr>\n",
       "      <th>35</th>\n",
       "      <td>Premium Tech Support_No</td>\n",
       "      <td>1.625599e+00</td>\n",
       "    </tr>\n",
       "    <tr>\n",
       "      <th>36</th>\n",
       "      <td>Paperless Billing_Yes</td>\n",
       "      <td>1.799480e+00</td>\n",
       "    </tr>\n",
       "    <tr>\n",
       "      <th>37</th>\n",
       "      <td>intercept</td>\n",
       "      <td>1.596759e+04</td>\n",
       "    </tr>\n",
       "  </tbody>\n",
       "</table>\n",
       "</div>"
      ],
      "text/plain": [
       "                             variable           vif\n",
       "0                            Zip Code  5.080424e+00\n",
       "1                            Latitude  8.856806e+00\n",
       "2                           Longitude  4.698428e+00\n",
       "3                 Number of Referrals  1.933220e+00\n",
       "4                    Tenure in Months  9.613910e+00\n",
       "5   Avg Monthly Long Distance Charges  2.661888e+00\n",
       "6             Avg Monthly GB Download  1.085416e+00\n",
       "7                       Total Charges           inf\n",
       "8                       Total Refunds           inf\n",
       "9            Total Extra Data Charges           inf\n",
       "10        Total Long Distance Charges           inf\n",
       "11                      Total Revenue           inf\n",
       "12                        Gender_Male  1.670344e+00\n",
       "13                  Internet Type_DSL  1.004755e+00\n",
       "14          Internet Type_Fiber Optic  2.304343e+00\n",
       "15                      Offer_Offer A  3.706072e+00\n",
       "16                      Offer_Offer B  1.399142e+00\n",
       "17                      Offer_Offer C  1.228822e+00\n",
       "18                      Offer_Offer D  1.065997e+00\n",
       "19                      Offer_Offer E  1.175741e+00\n",
       "20                  Contract_One Year  1.336902e+00\n",
       "21                  Contract_Two Year  1.653580e+00\n",
       "22         Payment Method_Credit Card  2.445690e+00\n",
       "23        Payment Method_Mailed Check  1.191870e+00\n",
       "24                        Married_Yes  1.107559e+00\n",
       "25                  Phone Service_Yes  1.912134e+00\n",
       "26                 Multiple Lines_Yes  1.860877e+00\n",
       "27                   Streaming TV_Yes  1.438425e+00\n",
       "28                Streaming Music_Yes  1.704666e+00\n",
       "29               Streaming Movies_Yes  3.774261e+00\n",
       "30                 Unlimited Data_Yes  4.385285e+00\n",
       "31               Internet Service_Yes  6.037862e+00\n",
       "32                 Online Security_No  9.293606e+00\n",
       "33                   Online Backup_No  1.760071e+00\n",
       "34          Device Protection Plan_No  1.569841e+00\n",
       "35            Premium Tech Support_No  1.625599e+00\n",
       "36              Paperless Billing_Yes  1.799480e+00\n",
       "37                          intercept  1.596759e+04"
      ]
     },
     "execution_count": 275,
     "metadata": {},
     "output_type": "execute_result"
    }
   ],
   "source": [
    "vif"
   ]
  },
  {
   "cell_type": "code",
   "execution_count": 277,
   "id": "862322ba-217b-456d-9909-8fd25045ea9e",
   "metadata": {},
   "outputs": [],
   "source": [
    "x=x.drop(['Zip Code'],axis=1)"
   ]
  },
  {
   "cell_type": "code",
   "execution_count": 279,
   "id": "98736bc1-6310-4bff-aa98-2c765ef9cee2",
   "metadata": {},
   "outputs": [],
   "source": [
    "vif = pd.DataFrame()\n",
    "vif['variable']= x.columns"
   ]
  },
  {
   "cell_type": "code",
   "execution_count": 280,
   "id": "1004d30d-7f62-4c65-8ce2-6182c69dd843",
   "metadata": {},
   "outputs": [],
   "source": [
    "from statsmodels.stats.outliers_influence import \\\n",
    "variance_inflation_factor\n",
    "vif['vif'] = [variance_inflation_factor(x.values,i)\n",
    "for i in range(x.shape[1])]"
   ]
  },
  {
   "cell_type": "code",
   "execution_count": 281,
   "id": "dcbbfd16-c389-430d-96fd-ae6996284adf",
   "metadata": {},
   "outputs": [
    {
     "data": {
      "text/html": [
       "<div>\n",
       "<style scoped>\n",
       "    .dataframe tbody tr th:only-of-type {\n",
       "        vertical-align: middle;\n",
       "    }\n",
       "\n",
       "    .dataframe tbody tr th {\n",
       "        vertical-align: top;\n",
       "    }\n",
       "\n",
       "    .dataframe thead th {\n",
       "        text-align: right;\n",
       "    }\n",
       "</style>\n",
       "<table border=\"1\" class=\"dataframe\">\n",
       "  <thead>\n",
       "    <tr style=\"text-align: right;\">\n",
       "      <th></th>\n",
       "      <th>variable</th>\n",
       "      <th>vif</th>\n",
       "    </tr>\n",
       "  </thead>\n",
       "  <tbody>\n",
       "    <tr>\n",
       "      <th>0</th>\n",
       "      <td>Latitude</td>\n",
       "      <td>4.705242</td>\n",
       "    </tr>\n",
       "    <tr>\n",
       "      <th>1</th>\n",
       "      <td>Longitude</td>\n",
       "      <td>4.698067</td>\n",
       "    </tr>\n",
       "    <tr>\n",
       "      <th>2</th>\n",
       "      <td>Number of Referrals</td>\n",
       "      <td>1.930898</td>\n",
       "    </tr>\n",
       "    <tr>\n",
       "      <th>3</th>\n",
       "      <td>Tenure in Months</td>\n",
       "      <td>9.613887</td>\n",
       "    </tr>\n",
       "    <tr>\n",
       "      <th>4</th>\n",
       "      <td>Avg Monthly Long Distance Charges</td>\n",
       "      <td>2.661564</td>\n",
       "    </tr>\n",
       "    <tr>\n",
       "      <th>5</th>\n",
       "      <td>Avg Monthly GB Download</td>\n",
       "      <td>1.084886</td>\n",
       "    </tr>\n",
       "    <tr>\n",
       "      <th>6</th>\n",
       "      <td>Total Charges</td>\n",
       "      <td>inf</td>\n",
       "    </tr>\n",
       "    <tr>\n",
       "      <th>7</th>\n",
       "      <td>Total Refunds</td>\n",
       "      <td>inf</td>\n",
       "    </tr>\n",
       "    <tr>\n",
       "      <th>8</th>\n",
       "      <td>Total Extra Data Charges</td>\n",
       "      <td>inf</td>\n",
       "    </tr>\n",
       "    <tr>\n",
       "      <th>9</th>\n",
       "      <td>Total Long Distance Charges</td>\n",
       "      <td>inf</td>\n",
       "    </tr>\n",
       "    <tr>\n",
       "      <th>10</th>\n",
       "      <td>Total Revenue</td>\n",
       "      <td>inf</td>\n",
       "    </tr>\n",
       "    <tr>\n",
       "      <th>11</th>\n",
       "      <td>Gender_Male</td>\n",
       "      <td>1.669733</td>\n",
       "    </tr>\n",
       "    <tr>\n",
       "      <th>12</th>\n",
       "      <td>Internet Type_DSL</td>\n",
       "      <td>1.004389</td>\n",
       "    </tr>\n",
       "    <tr>\n",
       "      <th>13</th>\n",
       "      <td>Internet Type_Fiber Optic</td>\n",
       "      <td>2.304339</td>\n",
       "    </tr>\n",
       "    <tr>\n",
       "      <th>14</th>\n",
       "      <td>Offer_Offer A</td>\n",
       "      <td>3.704954</td>\n",
       "    </tr>\n",
       "    <tr>\n",
       "      <th>15</th>\n",
       "      <td>Offer_Offer B</td>\n",
       "      <td>1.398359</td>\n",
       "    </tr>\n",
       "    <tr>\n",
       "      <th>16</th>\n",
       "      <td>Offer_Offer C</td>\n",
       "      <td>1.228815</td>\n",
       "    </tr>\n",
       "    <tr>\n",
       "      <th>17</th>\n",
       "      <td>Offer_Offer D</td>\n",
       "      <td>1.065984</td>\n",
       "    </tr>\n",
       "    <tr>\n",
       "      <th>18</th>\n",
       "      <td>Offer_Offer E</td>\n",
       "      <td>1.174408</td>\n",
       "    </tr>\n",
       "    <tr>\n",
       "      <th>19</th>\n",
       "      <td>Contract_One Year</td>\n",
       "      <td>1.336514</td>\n",
       "    </tr>\n",
       "    <tr>\n",
       "      <th>20</th>\n",
       "      <td>Contract_Two Year</td>\n",
       "      <td>1.653482</td>\n",
       "    </tr>\n",
       "    <tr>\n",
       "      <th>21</th>\n",
       "      <td>Payment Method_Credit Card</td>\n",
       "      <td>2.445689</td>\n",
       "    </tr>\n",
       "    <tr>\n",
       "      <th>22</th>\n",
       "      <td>Payment Method_Mailed Check</td>\n",
       "      <td>1.191587</td>\n",
       "    </tr>\n",
       "    <tr>\n",
       "      <th>23</th>\n",
       "      <td>Married_Yes</td>\n",
       "      <td>1.104521</td>\n",
       "    </tr>\n",
       "    <tr>\n",
       "      <th>24</th>\n",
       "      <td>Phone Service_Yes</td>\n",
       "      <td>1.911077</td>\n",
       "    </tr>\n",
       "    <tr>\n",
       "      <th>25</th>\n",
       "      <td>Multiple Lines_Yes</td>\n",
       "      <td>1.860103</td>\n",
       "    </tr>\n",
       "    <tr>\n",
       "      <th>26</th>\n",
       "      <td>Streaming TV_Yes</td>\n",
       "      <td>1.438270</td>\n",
       "    </tr>\n",
       "    <tr>\n",
       "      <th>27</th>\n",
       "      <td>Streaming Music_Yes</td>\n",
       "      <td>1.704659</td>\n",
       "    </tr>\n",
       "    <tr>\n",
       "      <th>28</th>\n",
       "      <td>Streaming Movies_Yes</td>\n",
       "      <td>3.774234</td>\n",
       "    </tr>\n",
       "    <tr>\n",
       "      <th>29</th>\n",
       "      <td>Unlimited Data_Yes</td>\n",
       "      <td>4.385216</td>\n",
       "    </tr>\n",
       "    <tr>\n",
       "      <th>30</th>\n",
       "      <td>Internet Service_Yes</td>\n",
       "      <td>6.037795</td>\n",
       "    </tr>\n",
       "    <tr>\n",
       "      <th>31</th>\n",
       "      <td>Online Security_No</td>\n",
       "      <td>9.293383</td>\n",
       "    </tr>\n",
       "    <tr>\n",
       "      <th>32</th>\n",
       "      <td>Online Backup_No</td>\n",
       "      <td>1.759990</td>\n",
       "    </tr>\n",
       "    <tr>\n",
       "      <th>33</th>\n",
       "      <td>Device Protection Plan_No</td>\n",
       "      <td>1.569718</td>\n",
       "    </tr>\n",
       "    <tr>\n",
       "      <th>34</th>\n",
       "      <td>Premium Tech Support_No</td>\n",
       "      <td>1.625523</td>\n",
       "    </tr>\n",
       "    <tr>\n",
       "      <th>35</th>\n",
       "      <td>Paperless Billing_Yes</td>\n",
       "      <td>1.799028</td>\n",
       "    </tr>\n",
       "    <tr>\n",
       "      <th>36</th>\n",
       "      <td>intercept</td>\n",
       "      <td>8822.976416</td>\n",
       "    </tr>\n",
       "  </tbody>\n",
       "</table>\n",
       "</div>"
      ],
      "text/plain": [
       "                             variable          vif\n",
       "0                            Latitude     4.705242\n",
       "1                           Longitude     4.698067\n",
       "2                 Number of Referrals     1.930898\n",
       "3                    Tenure in Months     9.613887\n",
       "4   Avg Monthly Long Distance Charges     2.661564\n",
       "5             Avg Monthly GB Download     1.084886\n",
       "6                       Total Charges          inf\n",
       "7                       Total Refunds          inf\n",
       "8            Total Extra Data Charges          inf\n",
       "9         Total Long Distance Charges          inf\n",
       "10                      Total Revenue          inf\n",
       "11                        Gender_Male     1.669733\n",
       "12                  Internet Type_DSL     1.004389\n",
       "13          Internet Type_Fiber Optic     2.304339\n",
       "14                      Offer_Offer A     3.704954\n",
       "15                      Offer_Offer B     1.398359\n",
       "16                      Offer_Offer C     1.228815\n",
       "17                      Offer_Offer D     1.065984\n",
       "18                      Offer_Offer E     1.174408\n",
       "19                  Contract_One Year     1.336514\n",
       "20                  Contract_Two Year     1.653482\n",
       "21         Payment Method_Credit Card     2.445689\n",
       "22        Payment Method_Mailed Check     1.191587\n",
       "23                        Married_Yes     1.104521\n",
       "24                  Phone Service_Yes     1.911077\n",
       "25                 Multiple Lines_Yes     1.860103\n",
       "26                   Streaming TV_Yes     1.438270\n",
       "27                Streaming Music_Yes     1.704659\n",
       "28               Streaming Movies_Yes     3.774234\n",
       "29                 Unlimited Data_Yes     4.385216\n",
       "30               Internet Service_Yes     6.037795\n",
       "31                 Online Security_No     9.293383\n",
       "32                   Online Backup_No     1.759990\n",
       "33          Device Protection Plan_No     1.569718\n",
       "34            Premium Tech Support_No     1.625523\n",
       "35              Paperless Billing_Yes     1.799028\n",
       "36                          intercept  8822.976416"
      ]
     },
     "execution_count": 281,
     "metadata": {},
     "output_type": "execute_result"
    }
   ],
   "source": [
    "vif"
   ]
  },
  {
   "cell_type": "code",
   "execution_count": 282,
   "id": "4aa1285f-19b6-4bc1-baea-d5f1497d470d",
   "metadata": {},
   "outputs": [],
   "source": [
    "x = x.drop(['Latitude','Longitude','Tenure in Months'],axis=1)"
   ]
  },
  {
   "cell_type": "code",
   "execution_count": 283,
   "id": "973fe033-2c10-4458-bb29-8c2f5260104b",
   "metadata": {},
   "outputs": [],
   "source": [
    "vif = pd.DataFrame()\n",
    "vif['variable']= x.columns"
   ]
  },
  {
   "cell_type": "code",
   "execution_count": 284,
   "id": "21321e9c-ed24-49b8-9697-71ca48fa3757",
   "metadata": {},
   "outputs": [
    {
     "name": "stderr",
     "output_type": "stream",
     "text": [
      "/home/solvedcandle10/anaconda3/lib/python3.10/site-packages/statsmodels/stats/outliers_influence.py:195: RuntimeWarning: divide by zero encountered in scalar divide\n",
      "  vif = 1. / (1. - r_squared_i)\n"
     ]
    }
   ],
   "source": [
    "from statsmodels.stats.outliers_influence import \\\n",
    "variance_inflation_factor\n",
    "vif['vif'] = [variance_inflation_factor(x.values,i)\n",
    "for i in range(x.shape[1])]"
   ]
  },
  {
   "cell_type": "code",
   "execution_count": 285,
   "id": "9f3a94ee-6269-40f0-91ef-810ffa9f4f51",
   "metadata": {},
   "outputs": [
    {
     "data": {
      "text/html": [
       "<div>\n",
       "<style scoped>\n",
       "    .dataframe tbody tr th:only-of-type {\n",
       "        vertical-align: middle;\n",
       "    }\n",
       "\n",
       "    .dataframe tbody tr th {\n",
       "        vertical-align: top;\n",
       "    }\n",
       "\n",
       "    .dataframe thead th {\n",
       "        text-align: right;\n",
       "    }\n",
       "</style>\n",
       "<table border=\"1\" class=\"dataframe\">\n",
       "  <thead>\n",
       "    <tr style=\"text-align: right;\">\n",
       "      <th></th>\n",
       "      <th>variable</th>\n",
       "      <th>vif</th>\n",
       "    </tr>\n",
       "  </thead>\n",
       "  <tbody>\n",
       "    <tr>\n",
       "      <th>0</th>\n",
       "      <td>Number of Referrals</td>\n",
       "      <td>1.929684</td>\n",
       "    </tr>\n",
       "    <tr>\n",
       "      <th>1</th>\n",
       "      <td>Avg Monthly Long Distance Charges</td>\n",
       "      <td>2.429131</td>\n",
       "    </tr>\n",
       "    <tr>\n",
       "      <th>2</th>\n",
       "      <td>Avg Monthly GB Download</td>\n",
       "      <td>1.084218</td>\n",
       "    </tr>\n",
       "    <tr>\n",
       "      <th>3</th>\n",
       "      <td>Total Charges</td>\n",
       "      <td>inf</td>\n",
       "    </tr>\n",
       "    <tr>\n",
       "      <th>4</th>\n",
       "      <td>Total Refunds</td>\n",
       "      <td>inf</td>\n",
       "    </tr>\n",
       "    <tr>\n",
       "      <th>5</th>\n",
       "      <td>Total Extra Data Charges</td>\n",
       "      <td>inf</td>\n",
       "    </tr>\n",
       "    <tr>\n",
       "      <th>6</th>\n",
       "      <td>Total Long Distance Charges</td>\n",
       "      <td>inf</td>\n",
       "    </tr>\n",
       "    <tr>\n",
       "      <th>7</th>\n",
       "      <td>Total Revenue</td>\n",
       "      <td>inf</td>\n",
       "    </tr>\n",
       "    <tr>\n",
       "      <th>8</th>\n",
       "      <td>Gender_Male</td>\n",
       "      <td>1.659594</td>\n",
       "    </tr>\n",
       "    <tr>\n",
       "      <th>9</th>\n",
       "      <td>Internet Type_DSL</td>\n",
       "      <td>1.004109</td>\n",
       "    </tr>\n",
       "    <tr>\n",
       "      <th>10</th>\n",
       "      <td>Internet Type_Fiber Optic</td>\n",
       "      <td>2.304106</td>\n",
       "    </tr>\n",
       "    <tr>\n",
       "      <th>11</th>\n",
       "      <td>Offer_Offer A</td>\n",
       "      <td>3.544614</td>\n",
       "    </tr>\n",
       "    <tr>\n",
       "      <th>12</th>\n",
       "      <td>Offer_Offer B</td>\n",
       "      <td>1.366190</td>\n",
       "    </tr>\n",
       "    <tr>\n",
       "      <th>13</th>\n",
       "      <td>Offer_Offer C</td>\n",
       "      <td>1.189546</td>\n",
       "    </tr>\n",
       "    <tr>\n",
       "      <th>14</th>\n",
       "      <td>Offer_Offer D</td>\n",
       "      <td>1.064113</td>\n",
       "    </tr>\n",
       "    <tr>\n",
       "      <th>15</th>\n",
       "      <td>Offer_Offer E</td>\n",
       "      <td>1.152350</td>\n",
       "    </tr>\n",
       "    <tr>\n",
       "      <th>16</th>\n",
       "      <td>Contract_One Year</td>\n",
       "      <td>1.273489</td>\n",
       "    </tr>\n",
       "    <tr>\n",
       "      <th>17</th>\n",
       "      <td>Contract_Two Year</td>\n",
       "      <td>1.627738</td>\n",
       "    </tr>\n",
       "    <tr>\n",
       "      <th>18</th>\n",
       "      <td>Payment Method_Credit Card</td>\n",
       "      <td>2.279164</td>\n",
       "    </tr>\n",
       "    <tr>\n",
       "      <th>19</th>\n",
       "      <td>Payment Method_Mailed Check</td>\n",
       "      <td>1.184527</td>\n",
       "    </tr>\n",
       "    <tr>\n",
       "      <th>20</th>\n",
       "      <td>Married_Yes</td>\n",
       "      <td>1.093728</td>\n",
       "    </tr>\n",
       "    <tr>\n",
       "      <th>21</th>\n",
       "      <td>Phone Service_Yes</td>\n",
       "      <td>1.905156</td>\n",
       "    </tr>\n",
       "    <tr>\n",
       "      <th>22</th>\n",
       "      <td>Multiple Lines_Yes</td>\n",
       "      <td>1.614190</td>\n",
       "    </tr>\n",
       "    <tr>\n",
       "      <th>23</th>\n",
       "      <td>Streaming TV_Yes</td>\n",
       "      <td>1.437540</td>\n",
       "    </tr>\n",
       "    <tr>\n",
       "      <th>24</th>\n",
       "      <td>Streaming Music_Yes</td>\n",
       "      <td>1.675932</td>\n",
       "    </tr>\n",
       "    <tr>\n",
       "      <th>25</th>\n",
       "      <td>Streaming Movies_Yes</td>\n",
       "      <td>3.771108</td>\n",
       "    </tr>\n",
       "    <tr>\n",
       "      <th>26</th>\n",
       "      <td>Unlimited Data_Yes</td>\n",
       "      <td>4.338461</td>\n",
       "    </tr>\n",
       "    <tr>\n",
       "      <th>27</th>\n",
       "      <td>Internet Service_Yes</td>\n",
       "      <td>6.035078</td>\n",
       "    </tr>\n",
       "    <tr>\n",
       "      <th>28</th>\n",
       "      <td>Online Security_No</td>\n",
       "      <td>8.840839</td>\n",
       "    </tr>\n",
       "    <tr>\n",
       "      <th>29</th>\n",
       "      <td>Online Backup_No</td>\n",
       "      <td>1.749233</td>\n",
       "    </tr>\n",
       "    <tr>\n",
       "      <th>30</th>\n",
       "      <td>Device Protection Plan_No</td>\n",
       "      <td>1.560865</td>\n",
       "    </tr>\n",
       "    <tr>\n",
       "      <th>31</th>\n",
       "      <td>Premium Tech Support_No</td>\n",
       "      <td>1.618730</td>\n",
       "    </tr>\n",
       "    <tr>\n",
       "      <th>32</th>\n",
       "      <td>Paperless Billing_Yes</td>\n",
       "      <td>1.783932</td>\n",
       "    </tr>\n",
       "    <tr>\n",
       "      <th>33</th>\n",
       "      <td>intercept</td>\n",
       "      <td>42.948244</td>\n",
       "    </tr>\n",
       "  </tbody>\n",
       "</table>\n",
       "</div>"
      ],
      "text/plain": [
       "                             variable        vif\n",
       "0                 Number of Referrals   1.929684\n",
       "1   Avg Monthly Long Distance Charges   2.429131\n",
       "2             Avg Monthly GB Download   1.084218\n",
       "3                       Total Charges        inf\n",
       "4                       Total Refunds        inf\n",
       "5            Total Extra Data Charges        inf\n",
       "6         Total Long Distance Charges        inf\n",
       "7                       Total Revenue        inf\n",
       "8                         Gender_Male   1.659594\n",
       "9                   Internet Type_DSL   1.004109\n",
       "10          Internet Type_Fiber Optic   2.304106\n",
       "11                      Offer_Offer A   3.544614\n",
       "12                      Offer_Offer B   1.366190\n",
       "13                      Offer_Offer C   1.189546\n",
       "14                      Offer_Offer D   1.064113\n",
       "15                      Offer_Offer E   1.152350\n",
       "16                  Contract_One Year   1.273489\n",
       "17                  Contract_Two Year   1.627738\n",
       "18         Payment Method_Credit Card   2.279164\n",
       "19        Payment Method_Mailed Check   1.184527\n",
       "20                        Married_Yes   1.093728\n",
       "21                  Phone Service_Yes   1.905156\n",
       "22                 Multiple Lines_Yes   1.614190\n",
       "23                   Streaming TV_Yes   1.437540\n",
       "24                Streaming Music_Yes   1.675932\n",
       "25               Streaming Movies_Yes   3.771108\n",
       "26                 Unlimited Data_Yes   4.338461\n",
       "27               Internet Service_Yes   6.035078\n",
       "28                 Online Security_No   8.840839\n",
       "29                   Online Backup_No   1.749233\n",
       "30          Device Protection Plan_No   1.560865\n",
       "31            Premium Tech Support_No   1.618730\n",
       "32              Paperless Billing_Yes   1.783932\n",
       "33                          intercept  42.948244"
      ]
     },
     "execution_count": 285,
     "metadata": {},
     "output_type": "execute_result"
    }
   ],
   "source": [
    "vif"
   ]
  },
  {
   "cell_type": "code",
   "execution_count": 286,
   "id": "18018298-504b-4e72-b318-5b8e55ea835f",
   "metadata": {},
   "outputs": [],
   "source": [
    "x = x.drop(['Online Security_No'],axis=1)"
   ]
  },
  {
   "cell_type": "code",
   "execution_count": 287,
   "id": "80387495-dace-4071-8a50-9491d928cd23",
   "metadata": {},
   "outputs": [
    {
     "name": "stderr",
     "output_type": "stream",
     "text": [
      "/home/solvedcandle10/anaconda3/lib/python3.10/site-packages/statsmodels/stats/outliers_influence.py:195: RuntimeWarning: divide by zero encountered in scalar divide\n",
      "  vif = 1. / (1. - r_squared_i)\n"
     ]
    }
   ],
   "source": [
    "vif = pd.DataFrame()\n",
    "vif['variable']= x.columns\n",
    "from statsmodels.stats.outliers_influence import \\\n",
    "variance_inflation_factor\n",
    "vif['vif'] = [variance_inflation_factor(x.values,i)\n",
    "for i in range(x.shape[1])]"
   ]
  },
  {
   "cell_type": "code",
   "execution_count": 288,
   "id": "eecb52e6-10ca-4f83-9ad4-fc78917a03e8",
   "metadata": {},
   "outputs": [
    {
     "data": {
      "text/html": [
       "<div>\n",
       "<style scoped>\n",
       "    .dataframe tbody tr th:only-of-type {\n",
       "        vertical-align: middle;\n",
       "    }\n",
       "\n",
       "    .dataframe tbody tr th {\n",
       "        vertical-align: top;\n",
       "    }\n",
       "\n",
       "    .dataframe thead th {\n",
       "        text-align: right;\n",
       "    }\n",
       "</style>\n",
       "<table border=\"1\" class=\"dataframe\">\n",
       "  <thead>\n",
       "    <tr style=\"text-align: right;\">\n",
       "      <th></th>\n",
       "      <th>variable</th>\n",
       "      <th>vif</th>\n",
       "    </tr>\n",
       "  </thead>\n",
       "  <tbody>\n",
       "    <tr>\n",
       "      <th>0</th>\n",
       "      <td>Number of Referrals</td>\n",
       "      <td>1.929681</td>\n",
       "    </tr>\n",
       "    <tr>\n",
       "      <th>1</th>\n",
       "      <td>Avg Monthly Long Distance Charges</td>\n",
       "      <td>2.388427</td>\n",
       "    </tr>\n",
       "    <tr>\n",
       "      <th>2</th>\n",
       "      <td>Avg Monthly GB Download</td>\n",
       "      <td>1.084052</td>\n",
       "    </tr>\n",
       "    <tr>\n",
       "      <th>3</th>\n",
       "      <td>Total Charges</td>\n",
       "      <td>inf</td>\n",
       "    </tr>\n",
       "    <tr>\n",
       "      <th>4</th>\n",
       "      <td>Total Refunds</td>\n",
       "      <td>inf</td>\n",
       "    </tr>\n",
       "    <tr>\n",
       "      <th>5</th>\n",
       "      <td>Total Extra Data Charges</td>\n",
       "      <td>inf</td>\n",
       "    </tr>\n",
       "    <tr>\n",
       "      <th>6</th>\n",
       "      <td>Total Long Distance Charges</td>\n",
       "      <td>inf</td>\n",
       "    </tr>\n",
       "    <tr>\n",
       "      <th>7</th>\n",
       "      <td>Total Revenue</td>\n",
       "      <td>inf</td>\n",
       "    </tr>\n",
       "    <tr>\n",
       "      <th>8</th>\n",
       "      <td>Gender_Male</td>\n",
       "      <td>1.656902</td>\n",
       "    </tr>\n",
       "    <tr>\n",
       "      <th>9</th>\n",
       "      <td>Internet Type_DSL</td>\n",
       "      <td>1.003635</td>\n",
       "    </tr>\n",
       "    <tr>\n",
       "      <th>10</th>\n",
       "      <td>Internet Type_Fiber Optic</td>\n",
       "      <td>2.066301</td>\n",
       "    </tr>\n",
       "    <tr>\n",
       "      <th>11</th>\n",
       "      <td>Offer_Offer A</td>\n",
       "      <td>3.454229</td>\n",
       "    </tr>\n",
       "    <tr>\n",
       "      <th>12</th>\n",
       "      <td>Offer_Offer B</td>\n",
       "      <td>1.365057</td>\n",
       "    </tr>\n",
       "    <tr>\n",
       "      <th>13</th>\n",
       "      <td>Offer_Offer C</td>\n",
       "      <td>1.188192</td>\n",
       "    </tr>\n",
       "    <tr>\n",
       "      <th>14</th>\n",
       "      <td>Offer_Offer D</td>\n",
       "      <td>1.063943</td>\n",
       "    </tr>\n",
       "    <tr>\n",
       "      <th>15</th>\n",
       "      <td>Offer_Offer E</td>\n",
       "      <td>1.152309</td>\n",
       "    </tr>\n",
       "    <tr>\n",
       "      <th>16</th>\n",
       "      <td>Contract_One Year</td>\n",
       "      <td>1.270249</td>\n",
       "    </tr>\n",
       "    <tr>\n",
       "      <th>17</th>\n",
       "      <td>Contract_Two Year</td>\n",
       "      <td>1.624102</td>\n",
       "    </tr>\n",
       "    <tr>\n",
       "      <th>18</th>\n",
       "      <td>Payment Method_Credit Card</td>\n",
       "      <td>2.267262</td>\n",
       "    </tr>\n",
       "    <tr>\n",
       "      <th>19</th>\n",
       "      <td>Payment Method_Mailed Check</td>\n",
       "      <td>1.183989</td>\n",
       "    </tr>\n",
       "    <tr>\n",
       "      <th>20</th>\n",
       "      <td>Married_Yes</td>\n",
       "      <td>1.093727</td>\n",
       "    </tr>\n",
       "    <tr>\n",
       "      <th>21</th>\n",
       "      <td>Phone Service_Yes</td>\n",
       "      <td>1.903382</td>\n",
       "    </tr>\n",
       "    <tr>\n",
       "      <th>22</th>\n",
       "      <td>Multiple Lines_Yes</td>\n",
       "      <td>1.601414</td>\n",
       "    </tr>\n",
       "    <tr>\n",
       "      <th>23</th>\n",
       "      <td>Streaming TV_Yes</td>\n",
       "      <td>1.436601</td>\n",
       "    </tr>\n",
       "    <tr>\n",
       "      <th>24</th>\n",
       "      <td>Streaming Music_Yes</td>\n",
       "      <td>1.672097</td>\n",
       "    </tr>\n",
       "    <tr>\n",
       "      <th>25</th>\n",
       "      <td>Streaming Movies_Yes</td>\n",
       "      <td>3.762405</td>\n",
       "    </tr>\n",
       "    <tr>\n",
       "      <th>26</th>\n",
       "      <td>Unlimited Data_Yes</td>\n",
       "      <td>4.337498</td>\n",
       "    </tr>\n",
       "    <tr>\n",
       "      <th>27</th>\n",
       "      <td>Internet Service_Yes</td>\n",
       "      <td>3.334445</td>\n",
       "    </tr>\n",
       "    <tr>\n",
       "      <th>28</th>\n",
       "      <td>Online Backup_No</td>\n",
       "      <td>1.685403</td>\n",
       "    </tr>\n",
       "    <tr>\n",
       "      <th>29</th>\n",
       "      <td>Device Protection Plan_No</td>\n",
       "      <td>1.470057</td>\n",
       "    </tr>\n",
       "    <tr>\n",
       "      <th>30</th>\n",
       "      <td>Premium Tech Support_No</td>\n",
       "      <td>1.506767</td>\n",
       "    </tr>\n",
       "    <tr>\n",
       "      <th>31</th>\n",
       "      <td>Paperless Billing_Yes</td>\n",
       "      <td>1.717218</td>\n",
       "    </tr>\n",
       "    <tr>\n",
       "      <th>32</th>\n",
       "      <td>intercept</td>\n",
       "      <td>41.743241</td>\n",
       "    </tr>\n",
       "  </tbody>\n",
       "</table>\n",
       "</div>"
      ],
      "text/plain": [
       "                             variable        vif\n",
       "0                 Number of Referrals   1.929681\n",
       "1   Avg Monthly Long Distance Charges   2.388427\n",
       "2             Avg Monthly GB Download   1.084052\n",
       "3                       Total Charges        inf\n",
       "4                       Total Refunds        inf\n",
       "5            Total Extra Data Charges        inf\n",
       "6         Total Long Distance Charges        inf\n",
       "7                       Total Revenue        inf\n",
       "8                         Gender_Male   1.656902\n",
       "9                   Internet Type_DSL   1.003635\n",
       "10          Internet Type_Fiber Optic   2.066301\n",
       "11                      Offer_Offer A   3.454229\n",
       "12                      Offer_Offer B   1.365057\n",
       "13                      Offer_Offer C   1.188192\n",
       "14                      Offer_Offer D   1.063943\n",
       "15                      Offer_Offer E   1.152309\n",
       "16                  Contract_One Year   1.270249\n",
       "17                  Contract_Two Year   1.624102\n",
       "18         Payment Method_Credit Card   2.267262\n",
       "19        Payment Method_Mailed Check   1.183989\n",
       "20                        Married_Yes   1.093727\n",
       "21                  Phone Service_Yes   1.903382\n",
       "22                 Multiple Lines_Yes   1.601414\n",
       "23                   Streaming TV_Yes   1.436601\n",
       "24                Streaming Music_Yes   1.672097\n",
       "25               Streaming Movies_Yes   3.762405\n",
       "26                 Unlimited Data_Yes   4.337498\n",
       "27               Internet Service_Yes   3.334445\n",
       "28                   Online Backup_No   1.685403\n",
       "29          Device Protection Plan_No   1.470057\n",
       "30            Premium Tech Support_No   1.506767\n",
       "31              Paperless Billing_Yes   1.717218\n",
       "32                          intercept  41.743241"
      ]
     },
     "execution_count": 288,
     "metadata": {},
     "output_type": "execute_result"
    }
   ],
   "source": [
    "vif"
   ]
  },
  {
   "cell_type": "code",
   "execution_count": 289,
   "id": "13460030-ea58-4fa8-87d3-6649389fb5fd",
   "metadata": {},
   "outputs": [],
   "source": [
    "x=x.drop(['Unlimited Data_Yes'],axis=1)"
   ]
  },
  {
   "cell_type": "code",
   "execution_count": 290,
   "id": "2cdb686b-f448-4c5b-a2b1-9511c4317e92",
   "metadata": {},
   "outputs": [
    {
     "name": "stderr",
     "output_type": "stream",
     "text": [
      "/home/solvedcandle10/anaconda3/lib/python3.10/site-packages/statsmodels/stats/outliers_influence.py:195: RuntimeWarning: divide by zero encountered in scalar divide\n",
      "  vif = 1. / (1. - r_squared_i)\n"
     ]
    }
   ],
   "source": [
    "vif = pd.DataFrame()\n",
    "vif['variable']= x.columns\n",
    "from statsmodels.stats.outliers_influence import \\\n",
    "variance_inflation_factor\n",
    "vif['vif'] = [variance_inflation_factor(x.values,i)\n",
    "for i in range(x.shape[1])]"
   ]
  },
  {
   "cell_type": "code",
   "execution_count": 291,
   "id": "ed7dd246-a134-4501-8f53-4f061f2362f6",
   "metadata": {},
   "outputs": [
    {
     "data": {
      "text/html": [
       "<div>\n",
       "<style scoped>\n",
       "    .dataframe tbody tr th:only-of-type {\n",
       "        vertical-align: middle;\n",
       "    }\n",
       "\n",
       "    .dataframe tbody tr th {\n",
       "        vertical-align: top;\n",
       "    }\n",
       "\n",
       "    .dataframe thead th {\n",
       "        text-align: right;\n",
       "    }\n",
       "</style>\n",
       "<table border=\"1\" class=\"dataframe\">\n",
       "  <thead>\n",
       "    <tr style=\"text-align: right;\">\n",
       "      <th></th>\n",
       "      <th>variable</th>\n",
       "      <th>vif</th>\n",
       "    </tr>\n",
       "  </thead>\n",
       "  <tbody>\n",
       "    <tr>\n",
       "      <th>0</th>\n",
       "      <td>Number of Referrals</td>\n",
       "      <td>1.928337</td>\n",
       "    </tr>\n",
       "    <tr>\n",
       "      <th>1</th>\n",
       "      <td>Avg Monthly Long Distance Charges</td>\n",
       "      <td>2.385406</td>\n",
       "    </tr>\n",
       "    <tr>\n",
       "      <th>2</th>\n",
       "      <td>Avg Monthly GB Download</td>\n",
       "      <td>1.047800</td>\n",
       "    </tr>\n",
       "    <tr>\n",
       "      <th>3</th>\n",
       "      <td>Total Charges</td>\n",
       "      <td>inf</td>\n",
       "    </tr>\n",
       "    <tr>\n",
       "      <th>4</th>\n",
       "      <td>Total Refunds</td>\n",
       "      <td>inf</td>\n",
       "    </tr>\n",
       "    <tr>\n",
       "      <th>5</th>\n",
       "      <td>Total Extra Data Charges</td>\n",
       "      <td>inf</td>\n",
       "    </tr>\n",
       "    <tr>\n",
       "      <th>6</th>\n",
       "      <td>Total Long Distance Charges</td>\n",
       "      <td>inf</td>\n",
       "    </tr>\n",
       "    <tr>\n",
       "      <th>7</th>\n",
       "      <td>Total Revenue</td>\n",
       "      <td>inf</td>\n",
       "    </tr>\n",
       "    <tr>\n",
       "      <th>8</th>\n",
       "      <td>Gender_Male</td>\n",
       "      <td>1.653821</td>\n",
       "    </tr>\n",
       "    <tr>\n",
       "      <th>9</th>\n",
       "      <td>Internet Type_DSL</td>\n",
       "      <td>1.003404</td>\n",
       "    </tr>\n",
       "    <tr>\n",
       "      <th>10</th>\n",
       "      <td>Internet Type_Fiber Optic</td>\n",
       "      <td>2.066232</td>\n",
       "    </tr>\n",
       "    <tr>\n",
       "      <th>11</th>\n",
       "      <td>Offer_Offer A</td>\n",
       "      <td>3.451604</td>\n",
       "    </tr>\n",
       "    <tr>\n",
       "      <th>12</th>\n",
       "      <td>Offer_Offer B</td>\n",
       "      <td>1.362203</td>\n",
       "    </tr>\n",
       "    <tr>\n",
       "      <th>13</th>\n",
       "      <td>Offer_Offer C</td>\n",
       "      <td>1.187049</td>\n",
       "    </tr>\n",
       "    <tr>\n",
       "      <th>14</th>\n",
       "      <td>Offer_Offer D</td>\n",
       "      <td>1.063018</td>\n",
       "    </tr>\n",
       "    <tr>\n",
       "      <th>15</th>\n",
       "      <td>Offer_Offer E</td>\n",
       "      <td>1.152308</td>\n",
       "    </tr>\n",
       "    <tr>\n",
       "      <th>16</th>\n",
       "      <td>Contract_One Year</td>\n",
       "      <td>1.270002</td>\n",
       "    </tr>\n",
       "    <tr>\n",
       "      <th>17</th>\n",
       "      <td>Contract_Two Year</td>\n",
       "      <td>1.620428</td>\n",
       "    </tr>\n",
       "    <tr>\n",
       "      <th>18</th>\n",
       "      <td>Payment Method_Credit Card</td>\n",
       "      <td>2.263206</td>\n",
       "    </tr>\n",
       "    <tr>\n",
       "      <th>19</th>\n",
       "      <td>Payment Method_Mailed Check</td>\n",
       "      <td>1.182167</td>\n",
       "    </tr>\n",
       "    <tr>\n",
       "      <th>20</th>\n",
       "      <td>Married_Yes</td>\n",
       "      <td>1.092604</td>\n",
       "    </tr>\n",
       "    <tr>\n",
       "      <th>21</th>\n",
       "      <td>Phone Service_Yes</td>\n",
       "      <td>1.901586</td>\n",
       "    </tr>\n",
       "    <tr>\n",
       "      <th>22</th>\n",
       "      <td>Multiple Lines_Yes</td>\n",
       "      <td>1.599390</td>\n",
       "    </tr>\n",
       "    <tr>\n",
       "      <th>23</th>\n",
       "      <td>Streaming TV_Yes</td>\n",
       "      <td>1.434945</td>\n",
       "    </tr>\n",
       "    <tr>\n",
       "      <th>24</th>\n",
       "      <td>Streaming Music_Yes</td>\n",
       "      <td>1.630799</td>\n",
       "    </tr>\n",
       "    <tr>\n",
       "      <th>25</th>\n",
       "      <td>Streaming Movies_Yes</td>\n",
       "      <td>1.470719</td>\n",
       "    </tr>\n",
       "    <tr>\n",
       "      <th>26</th>\n",
       "      <td>Internet Service_Yes</td>\n",
       "      <td>3.334442</td>\n",
       "    </tr>\n",
       "    <tr>\n",
       "      <th>27</th>\n",
       "      <td>Online Backup_No</td>\n",
       "      <td>1.680341</td>\n",
       "    </tr>\n",
       "    <tr>\n",
       "      <th>28</th>\n",
       "      <td>Device Protection Plan_No</td>\n",
       "      <td>1.469031</td>\n",
       "    </tr>\n",
       "    <tr>\n",
       "      <th>29</th>\n",
       "      <td>Premium Tech Support_No</td>\n",
       "      <td>1.500440</td>\n",
       "    </tr>\n",
       "    <tr>\n",
       "      <th>30</th>\n",
       "      <td>Paperless Billing_Yes</td>\n",
       "      <td>1.716701</td>\n",
       "    </tr>\n",
       "    <tr>\n",
       "      <th>31</th>\n",
       "      <td>intercept</td>\n",
       "      <td>41.581236</td>\n",
       "    </tr>\n",
       "  </tbody>\n",
       "</table>\n",
       "</div>"
      ],
      "text/plain": [
       "                             variable        vif\n",
       "0                 Number of Referrals   1.928337\n",
       "1   Avg Monthly Long Distance Charges   2.385406\n",
       "2             Avg Monthly GB Download   1.047800\n",
       "3                       Total Charges        inf\n",
       "4                       Total Refunds        inf\n",
       "5            Total Extra Data Charges        inf\n",
       "6         Total Long Distance Charges        inf\n",
       "7                       Total Revenue        inf\n",
       "8                         Gender_Male   1.653821\n",
       "9                   Internet Type_DSL   1.003404\n",
       "10          Internet Type_Fiber Optic   2.066232\n",
       "11                      Offer_Offer A   3.451604\n",
       "12                      Offer_Offer B   1.362203\n",
       "13                      Offer_Offer C   1.187049\n",
       "14                      Offer_Offer D   1.063018\n",
       "15                      Offer_Offer E   1.152308\n",
       "16                  Contract_One Year   1.270002\n",
       "17                  Contract_Two Year   1.620428\n",
       "18         Payment Method_Credit Card   2.263206\n",
       "19        Payment Method_Mailed Check   1.182167\n",
       "20                        Married_Yes   1.092604\n",
       "21                  Phone Service_Yes   1.901586\n",
       "22                 Multiple Lines_Yes   1.599390\n",
       "23                   Streaming TV_Yes   1.434945\n",
       "24                Streaming Music_Yes   1.630799\n",
       "25               Streaming Movies_Yes   1.470719\n",
       "26               Internet Service_Yes   3.334442\n",
       "27                   Online Backup_No   1.680341\n",
       "28          Device Protection Plan_No   1.469031\n",
       "29            Premium Tech Support_No   1.500440\n",
       "30              Paperless Billing_Yes   1.716701\n",
       "31                          intercept  41.581236"
      ]
     },
     "execution_count": 291,
     "metadata": {},
     "output_type": "execute_result"
    }
   ],
   "source": [
    "vif"
   ]
  },
  {
   "cell_type": "code",
   "execution_count": 292,
   "id": "c9f8e912-634f-45df-ba6b-0f216c396f87",
   "metadata": {},
   "outputs": [],
   "source": [
    "x=x.drop(['Internet Service_Yes'],axis=1)"
   ]
  },
  {
   "cell_type": "code",
   "execution_count": 293,
   "id": "855ae9c3-9c36-4701-ba53-8c9fd6d05e81",
   "metadata": {},
   "outputs": [
    {
     "name": "stderr",
     "output_type": "stream",
     "text": [
      "/home/solvedcandle10/anaconda3/lib/python3.10/site-packages/statsmodels/stats/outliers_influence.py:195: RuntimeWarning: divide by zero encountered in scalar divide\n",
      "  vif = 1. / (1. - r_squared_i)\n"
     ]
    }
   ],
   "source": [
    "vif = pd.DataFrame()\n",
    "vif['variable']= x.columns\n",
    "from statsmodels.stats.outliers_influence import \\\n",
    "variance_inflation_factor\n",
    "vif['vif'] = [variance_inflation_factor(x.values,i)\n",
    "for i in range(x.shape[1])]"
   ]
  },
  {
   "cell_type": "code",
   "execution_count": 294,
   "id": "b1650e2a-9acf-4e8f-8a6e-baa0a6d5373f",
   "metadata": {},
   "outputs": [
    {
     "data": {
      "text/html": [
       "<div>\n",
       "<style scoped>\n",
       "    .dataframe tbody tr th:only-of-type {\n",
       "        vertical-align: middle;\n",
       "    }\n",
       "\n",
       "    .dataframe tbody tr th {\n",
       "        vertical-align: top;\n",
       "    }\n",
       "\n",
       "    .dataframe thead th {\n",
       "        text-align: right;\n",
       "    }\n",
       "</style>\n",
       "<table border=\"1\" class=\"dataframe\">\n",
       "  <thead>\n",
       "    <tr style=\"text-align: right;\">\n",
       "      <th></th>\n",
       "      <th>variable</th>\n",
       "      <th>vif</th>\n",
       "    </tr>\n",
       "  </thead>\n",
       "  <tbody>\n",
       "    <tr>\n",
       "      <th>0</th>\n",
       "      <td>Number of Referrals</td>\n",
       "      <td>1.927623</td>\n",
       "    </tr>\n",
       "    <tr>\n",
       "      <th>1</th>\n",
       "      <td>Avg Monthly Long Distance Charges</td>\n",
       "      <td>2.356115</td>\n",
       "    </tr>\n",
       "    <tr>\n",
       "      <th>2</th>\n",
       "      <td>Avg Monthly GB Download</td>\n",
       "      <td>1.047514</td>\n",
       "    </tr>\n",
       "    <tr>\n",
       "      <th>3</th>\n",
       "      <td>Total Charges</td>\n",
       "      <td>inf</td>\n",
       "    </tr>\n",
       "    <tr>\n",
       "      <th>4</th>\n",
       "      <td>Total Refunds</td>\n",
       "      <td>inf</td>\n",
       "    </tr>\n",
       "    <tr>\n",
       "      <th>5</th>\n",
       "      <td>Total Extra Data Charges</td>\n",
       "      <td>inf</td>\n",
       "    </tr>\n",
       "    <tr>\n",
       "      <th>6</th>\n",
       "      <td>Total Long Distance Charges</td>\n",
       "      <td>inf</td>\n",
       "    </tr>\n",
       "    <tr>\n",
       "      <th>7</th>\n",
       "      <td>Total Revenue</td>\n",
       "      <td>inf</td>\n",
       "    </tr>\n",
       "    <tr>\n",
       "      <th>8</th>\n",
       "      <td>Gender_Male</td>\n",
       "      <td>1.653036</td>\n",
       "    </tr>\n",
       "    <tr>\n",
       "      <th>9</th>\n",
       "      <td>Internet Type_DSL</td>\n",
       "      <td>1.003275</td>\n",
       "    </tr>\n",
       "    <tr>\n",
       "      <th>10</th>\n",
       "      <td>Internet Type_Fiber Optic</td>\n",
       "      <td>1.837801</td>\n",
       "    </tr>\n",
       "    <tr>\n",
       "      <th>11</th>\n",
       "      <td>Offer_Offer A</td>\n",
       "      <td>3.363119</td>\n",
       "    </tr>\n",
       "    <tr>\n",
       "      <th>12</th>\n",
       "      <td>Offer_Offer B</td>\n",
       "      <td>1.359907</td>\n",
       "    </tr>\n",
       "    <tr>\n",
       "      <th>13</th>\n",
       "      <td>Offer_Offer C</td>\n",
       "      <td>1.185790</td>\n",
       "    </tr>\n",
       "    <tr>\n",
       "      <th>14</th>\n",
       "      <td>Offer_Offer D</td>\n",
       "      <td>1.061634</td>\n",
       "    </tr>\n",
       "    <tr>\n",
       "      <th>15</th>\n",
       "      <td>Offer_Offer E</td>\n",
       "      <td>1.150527</td>\n",
       "    </tr>\n",
       "    <tr>\n",
       "      <th>16</th>\n",
       "      <td>Contract_One Year</td>\n",
       "      <td>1.269913</td>\n",
       "    </tr>\n",
       "    <tr>\n",
       "      <th>17</th>\n",
       "      <td>Contract_Two Year</td>\n",
       "      <td>1.618099</td>\n",
       "    </tr>\n",
       "    <tr>\n",
       "      <th>18</th>\n",
       "      <td>Payment Method_Credit Card</td>\n",
       "      <td>2.255003</td>\n",
       "    </tr>\n",
       "    <tr>\n",
       "      <th>19</th>\n",
       "      <td>Payment Method_Mailed Check</td>\n",
       "      <td>1.181943</td>\n",
       "    </tr>\n",
       "    <tr>\n",
       "      <th>20</th>\n",
       "      <td>Married_Yes</td>\n",
       "      <td>1.092410</td>\n",
       "    </tr>\n",
       "    <tr>\n",
       "      <th>21</th>\n",
       "      <td>Phone Service_Yes</td>\n",
       "      <td>1.901459</td>\n",
       "    </tr>\n",
       "    <tr>\n",
       "      <th>22</th>\n",
       "      <td>Multiple Lines_Yes</td>\n",
       "      <td>1.587296</td>\n",
       "    </tr>\n",
       "    <tr>\n",
       "      <th>23</th>\n",
       "      <td>Streaming TV_Yes</td>\n",
       "      <td>1.434280</td>\n",
       "    </tr>\n",
       "    <tr>\n",
       "      <th>24</th>\n",
       "      <td>Streaming Music_Yes</td>\n",
       "      <td>1.627971</td>\n",
       "    </tr>\n",
       "    <tr>\n",
       "      <th>25</th>\n",
       "      <td>Streaming Movies_Yes</td>\n",
       "      <td>1.465889</td>\n",
       "    </tr>\n",
       "    <tr>\n",
       "      <th>26</th>\n",
       "      <td>Online Backup_No</td>\n",
       "      <td>1.630694</td>\n",
       "    </tr>\n",
       "    <tr>\n",
       "      <th>27</th>\n",
       "      <td>Device Protection Plan_No</td>\n",
       "      <td>1.393500</td>\n",
       "    </tr>\n",
       "    <tr>\n",
       "      <th>28</th>\n",
       "      <td>Premium Tech Support_No</td>\n",
       "      <td>1.409408</td>\n",
       "    </tr>\n",
       "    <tr>\n",
       "      <th>29</th>\n",
       "      <td>Paperless Billing_Yes</td>\n",
       "      <td>1.662934</td>\n",
       "    </tr>\n",
       "    <tr>\n",
       "      <th>30</th>\n",
       "      <td>intercept</td>\n",
       "      <td>40.855946</td>\n",
       "    </tr>\n",
       "  </tbody>\n",
       "</table>\n",
       "</div>"
      ],
      "text/plain": [
       "                             variable        vif\n",
       "0                 Number of Referrals   1.927623\n",
       "1   Avg Monthly Long Distance Charges   2.356115\n",
       "2             Avg Monthly GB Download   1.047514\n",
       "3                       Total Charges        inf\n",
       "4                       Total Refunds        inf\n",
       "5            Total Extra Data Charges        inf\n",
       "6         Total Long Distance Charges        inf\n",
       "7                       Total Revenue        inf\n",
       "8                         Gender_Male   1.653036\n",
       "9                   Internet Type_DSL   1.003275\n",
       "10          Internet Type_Fiber Optic   1.837801\n",
       "11                      Offer_Offer A   3.363119\n",
       "12                      Offer_Offer B   1.359907\n",
       "13                      Offer_Offer C   1.185790\n",
       "14                      Offer_Offer D   1.061634\n",
       "15                      Offer_Offer E   1.150527\n",
       "16                  Contract_One Year   1.269913\n",
       "17                  Contract_Two Year   1.618099\n",
       "18         Payment Method_Credit Card   2.255003\n",
       "19        Payment Method_Mailed Check   1.181943\n",
       "20                        Married_Yes   1.092410\n",
       "21                  Phone Service_Yes   1.901459\n",
       "22                 Multiple Lines_Yes   1.587296\n",
       "23                   Streaming TV_Yes   1.434280\n",
       "24                Streaming Music_Yes   1.627971\n",
       "25               Streaming Movies_Yes   1.465889\n",
       "26                   Online Backup_No   1.630694\n",
       "27          Device Protection Plan_No   1.393500\n",
       "28            Premium Tech Support_No   1.409408\n",
       "29              Paperless Billing_Yes   1.662934\n",
       "30                          intercept  40.855946"
      ]
     },
     "execution_count": 294,
     "metadata": {},
     "output_type": "execute_result"
    }
   ],
   "source": [
    "vif"
   ]
  },
  {
   "cell_type": "code",
   "execution_count": 295,
   "id": "b48ef865-e741-491f-91aa-95ddb6f77095",
   "metadata": {},
   "outputs": [],
   "source": [
    "x=x.drop(['Offer_Offer A'],axis=1)"
   ]
  },
  {
   "cell_type": "code",
   "execution_count": 296,
   "id": "264aa47a-341e-4de3-9806-5de883446ee4",
   "metadata": {},
   "outputs": [
    {
     "name": "stderr",
     "output_type": "stream",
     "text": [
      "/home/solvedcandle10/anaconda3/lib/python3.10/site-packages/statsmodels/stats/outliers_influence.py:195: RuntimeWarning: divide by zero encountered in scalar divide\n",
      "  vif = 1. / (1. - r_squared_i)\n"
     ]
    }
   ],
   "source": [
    "vif = pd.DataFrame()\n",
    "vif['variable']= x.columns\n",
    "from statsmodels.stats.outliers_influence import \\\n",
    "variance_inflation_factor\n",
    "vif['vif'] = [variance_inflation_factor(x.values,i)\n",
    "for i in range(x.shape[1])]"
   ]
  },
  {
   "cell_type": "code",
   "execution_count": 297,
   "id": "a4b9ee9e-e1fd-49c8-9861-15cad31cf770",
   "metadata": {},
   "outputs": [
    {
     "data": {
      "text/html": [
       "<div>\n",
       "<style scoped>\n",
       "    .dataframe tbody tr th:only-of-type {\n",
       "        vertical-align: middle;\n",
       "    }\n",
       "\n",
       "    .dataframe tbody tr th {\n",
       "        vertical-align: top;\n",
       "    }\n",
       "\n",
       "    .dataframe thead th {\n",
       "        text-align: right;\n",
       "    }\n",
       "</style>\n",
       "<table border=\"1\" class=\"dataframe\">\n",
       "  <thead>\n",
       "    <tr style=\"text-align: right;\">\n",
       "      <th></th>\n",
       "      <th>variable</th>\n",
       "      <th>vif</th>\n",
       "    </tr>\n",
       "  </thead>\n",
       "  <tbody>\n",
       "    <tr>\n",
       "      <th>0</th>\n",
       "      <td>Number of Referrals</td>\n",
       "      <td>1.927578</td>\n",
       "    </tr>\n",
       "    <tr>\n",
       "      <th>1</th>\n",
       "      <td>Avg Monthly Long Distance Charges</td>\n",
       "      <td>2.306901</td>\n",
       "    </tr>\n",
       "    <tr>\n",
       "      <th>2</th>\n",
       "      <td>Avg Monthly GB Download</td>\n",
       "      <td>1.046971</td>\n",
       "    </tr>\n",
       "    <tr>\n",
       "      <th>3</th>\n",
       "      <td>Total Charges</td>\n",
       "      <td>inf</td>\n",
       "    </tr>\n",
       "    <tr>\n",
       "      <th>4</th>\n",
       "      <td>Total Refunds</td>\n",
       "      <td>inf</td>\n",
       "    </tr>\n",
       "    <tr>\n",
       "      <th>5</th>\n",
       "      <td>Total Extra Data Charges</td>\n",
       "      <td>inf</td>\n",
       "    </tr>\n",
       "    <tr>\n",
       "      <th>6</th>\n",
       "      <td>Total Long Distance Charges</td>\n",
       "      <td>inf</td>\n",
       "    </tr>\n",
       "    <tr>\n",
       "      <th>7</th>\n",
       "      <td>Total Revenue</td>\n",
       "      <td>inf</td>\n",
       "    </tr>\n",
       "    <tr>\n",
       "      <th>8</th>\n",
       "      <td>Gender_Male</td>\n",
       "      <td>1.638432</td>\n",
       "    </tr>\n",
       "    <tr>\n",
       "      <th>9</th>\n",
       "      <td>Internet Type_DSL</td>\n",
       "      <td>1.003199</td>\n",
       "    </tr>\n",
       "    <tr>\n",
       "      <th>10</th>\n",
       "      <td>Internet Type_Fiber Optic</td>\n",
       "      <td>1.189588</td>\n",
       "    </tr>\n",
       "    <tr>\n",
       "      <th>11</th>\n",
       "      <td>Offer_Offer B</td>\n",
       "      <td>1.352202</td>\n",
       "    </tr>\n",
       "    <tr>\n",
       "      <th>12</th>\n",
       "      <td>Offer_Offer C</td>\n",
       "      <td>1.184303</td>\n",
       "    </tr>\n",
       "    <tr>\n",
       "      <th>13</th>\n",
       "      <td>Offer_Offer D</td>\n",
       "      <td>1.060562</td>\n",
       "    </tr>\n",
       "    <tr>\n",
       "      <th>14</th>\n",
       "      <td>Offer_Offer E</td>\n",
       "      <td>1.148921</td>\n",
       "    </tr>\n",
       "    <tr>\n",
       "      <th>15</th>\n",
       "      <td>Contract_One Year</td>\n",
       "      <td>1.269328</td>\n",
       "    </tr>\n",
       "    <tr>\n",
       "      <th>16</th>\n",
       "      <td>Contract_Two Year</td>\n",
       "      <td>1.604225</td>\n",
       "    </tr>\n",
       "    <tr>\n",
       "      <th>17</th>\n",
       "      <td>Payment Method_Credit Card</td>\n",
       "      <td>2.228365</td>\n",
       "    </tr>\n",
       "    <tr>\n",
       "      <th>18</th>\n",
       "      <td>Payment Method_Mailed Check</td>\n",
       "      <td>1.173923</td>\n",
       "    </tr>\n",
       "    <tr>\n",
       "      <th>19</th>\n",
       "      <td>Married_Yes</td>\n",
       "      <td>1.084713</td>\n",
       "    </tr>\n",
       "    <tr>\n",
       "      <th>20</th>\n",
       "      <td>Phone Service_Yes</td>\n",
       "      <td>1.897892</td>\n",
       "    </tr>\n",
       "    <tr>\n",
       "      <th>21</th>\n",
       "      <td>Multiple Lines_Yes</td>\n",
       "      <td>1.492927</td>\n",
       "    </tr>\n",
       "    <tr>\n",
       "      <th>22</th>\n",
       "      <td>Streaming TV_Yes</td>\n",
       "      <td>1.431063</td>\n",
       "    </tr>\n",
       "    <tr>\n",
       "      <th>23</th>\n",
       "      <td>Streaming Music_Yes</td>\n",
       "      <td>1.627491</td>\n",
       "    </tr>\n",
       "    <tr>\n",
       "      <th>24</th>\n",
       "      <td>Streaming Movies_Yes</td>\n",
       "      <td>1.465889</td>\n",
       "    </tr>\n",
       "    <tr>\n",
       "      <th>25</th>\n",
       "      <td>Online Backup_No</td>\n",
       "      <td>1.543755</td>\n",
       "    </tr>\n",
       "    <tr>\n",
       "      <th>26</th>\n",
       "      <td>Device Protection Plan_No</td>\n",
       "      <td>1.356858</td>\n",
       "    </tr>\n",
       "    <tr>\n",
       "      <th>27</th>\n",
       "      <td>Premium Tech Support_No</td>\n",
       "      <td>1.378595</td>\n",
       "    </tr>\n",
       "    <tr>\n",
       "      <th>28</th>\n",
       "      <td>Paperless Billing_Yes</td>\n",
       "      <td>1.567244</td>\n",
       "    </tr>\n",
       "    <tr>\n",
       "      <th>29</th>\n",
       "      <td>intercept</td>\n",
       "      <td>40.644505</td>\n",
       "    </tr>\n",
       "  </tbody>\n",
       "</table>\n",
       "</div>"
      ],
      "text/plain": [
       "                             variable        vif\n",
       "0                 Number of Referrals   1.927578\n",
       "1   Avg Monthly Long Distance Charges   2.306901\n",
       "2             Avg Monthly GB Download   1.046971\n",
       "3                       Total Charges        inf\n",
       "4                       Total Refunds        inf\n",
       "5            Total Extra Data Charges        inf\n",
       "6         Total Long Distance Charges        inf\n",
       "7                       Total Revenue        inf\n",
       "8                         Gender_Male   1.638432\n",
       "9                   Internet Type_DSL   1.003199\n",
       "10          Internet Type_Fiber Optic   1.189588\n",
       "11                      Offer_Offer B   1.352202\n",
       "12                      Offer_Offer C   1.184303\n",
       "13                      Offer_Offer D   1.060562\n",
       "14                      Offer_Offer E   1.148921\n",
       "15                  Contract_One Year   1.269328\n",
       "16                  Contract_Two Year   1.604225\n",
       "17         Payment Method_Credit Card   2.228365\n",
       "18        Payment Method_Mailed Check   1.173923\n",
       "19                        Married_Yes   1.084713\n",
       "20                  Phone Service_Yes   1.897892\n",
       "21                 Multiple Lines_Yes   1.492927\n",
       "22                   Streaming TV_Yes   1.431063\n",
       "23                Streaming Music_Yes   1.627491\n",
       "24               Streaming Movies_Yes   1.465889\n",
       "25                   Online Backup_No   1.543755\n",
       "26          Device Protection Plan_No   1.356858\n",
       "27            Premium Tech Support_No   1.378595\n",
       "28              Paperless Billing_Yes   1.567244\n",
       "29                          intercept  40.644505"
      ]
     },
     "execution_count": 297,
     "metadata": {},
     "output_type": "execute_result"
    }
   ],
   "source": [
    "vif"
   ]
  },
  {
   "cell_type": "code",
   "execution_count": 299,
   "id": "6684f18d-2e10-4376-ba21-e4142837e3b3",
   "metadata": {},
   "outputs": [],
   "source": [
    "x=x.drop(['Total Charges', 'Total Refunds', 'Total Extra Data Charges', 'Total Long Distance Charges', 'Total Revenue'],axis=1)"
   ]
  },
  {
   "cell_type": "code",
   "execution_count": 300,
   "id": "f0f8377b-45ca-4834-a975-a71cb5c20958",
   "metadata": {},
   "outputs": [],
   "source": [
    "vif = pd.DataFrame()\n",
    "vif['variable']= x.columns\n",
    "from statsmodels.stats.outliers_influence import \\\n",
    "variance_inflation_factor\n",
    "vif['vif'] = [variance_inflation_factor(x.values,i)\n",
    "for i in range(x.shape[1])]"
   ]
  },
  {
   "cell_type": "code",
   "execution_count": 301,
   "id": "5b3fe52c-bb0b-401b-beff-548c91120944",
   "metadata": {},
   "outputs": [
    {
     "data": {
      "text/html": [
       "<div>\n",
       "<style scoped>\n",
       "    .dataframe tbody tr th:only-of-type {\n",
       "        vertical-align: middle;\n",
       "    }\n",
       "\n",
       "    .dataframe tbody tr th {\n",
       "        vertical-align: top;\n",
       "    }\n",
       "\n",
       "    .dataframe thead th {\n",
       "        text-align: right;\n",
       "    }\n",
       "</style>\n",
       "<table border=\"1\" class=\"dataframe\">\n",
       "  <thead>\n",
       "    <tr style=\"text-align: right;\">\n",
       "      <th></th>\n",
       "      <th>variable</th>\n",
       "      <th>vif</th>\n",
       "    </tr>\n",
       "  </thead>\n",
       "  <tbody>\n",
       "    <tr>\n",
       "      <th>0</th>\n",
       "      <td>Number of Referrals</td>\n",
       "      <td>1.926674</td>\n",
       "    </tr>\n",
       "    <tr>\n",
       "      <th>1</th>\n",
       "      <td>Avg Monthly Long Distance Charges</td>\n",
       "      <td>1.003790</td>\n",
       "    </tr>\n",
       "    <tr>\n",
       "      <th>2</th>\n",
       "      <td>Avg Monthly GB Download</td>\n",
       "      <td>1.045674</td>\n",
       "    </tr>\n",
       "    <tr>\n",
       "      <th>3</th>\n",
       "      <td>Gender_Male</td>\n",
       "      <td>1.611018</td>\n",
       "    </tr>\n",
       "    <tr>\n",
       "      <th>4</th>\n",
       "      <td>Internet Type_DSL</td>\n",
       "      <td>1.002897</td>\n",
       "    </tr>\n",
       "    <tr>\n",
       "      <th>5</th>\n",
       "      <td>Internet Type_Fiber Optic</td>\n",
       "      <td>1.184735</td>\n",
       "    </tr>\n",
       "    <tr>\n",
       "      <th>6</th>\n",
       "      <td>Offer_Offer B</td>\n",
       "      <td>1.226363</td>\n",
       "    </tr>\n",
       "    <tr>\n",
       "      <th>7</th>\n",
       "      <td>Offer_Offer C</td>\n",
       "      <td>1.129650</td>\n",
       "    </tr>\n",
       "    <tr>\n",
       "      <th>8</th>\n",
       "      <td>Offer_Offer D</td>\n",
       "      <td>1.057509</td>\n",
       "    </tr>\n",
       "    <tr>\n",
       "      <th>9</th>\n",
       "      <td>Offer_Offer E</td>\n",
       "      <td>1.105979</td>\n",
       "    </tr>\n",
       "    <tr>\n",
       "      <th>10</th>\n",
       "      <td>Contract_One Year</td>\n",
       "      <td>1.201530</td>\n",
       "    </tr>\n",
       "    <tr>\n",
       "      <th>11</th>\n",
       "      <td>Contract_Two Year</td>\n",
       "      <td>1.540613</td>\n",
       "    </tr>\n",
       "    <tr>\n",
       "      <th>12</th>\n",
       "      <td>Payment Method_Credit Card</td>\n",
       "      <td>2.081583</td>\n",
       "    </tr>\n",
       "    <tr>\n",
       "      <th>13</th>\n",
       "      <td>Payment Method_Mailed Check</td>\n",
       "      <td>1.171645</td>\n",
       "    </tr>\n",
       "    <tr>\n",
       "      <th>14</th>\n",
       "      <td>Married_Yes</td>\n",
       "      <td>1.080092</td>\n",
       "    </tr>\n",
       "    <tr>\n",
       "      <th>15</th>\n",
       "      <td>Phone Service_Yes</td>\n",
       "      <td>1.868912</td>\n",
       "    </tr>\n",
       "    <tr>\n",
       "      <th>16</th>\n",
       "      <td>Multiple Lines_Yes</td>\n",
       "      <td>1.236932</td>\n",
       "    </tr>\n",
       "    <tr>\n",
       "      <th>17</th>\n",
       "      <td>Streaming TV_Yes</td>\n",
       "      <td>1.279877</td>\n",
       "    </tr>\n",
       "    <tr>\n",
       "      <th>18</th>\n",
       "      <td>Streaming Music_Yes</td>\n",
       "      <td>1.372049</td>\n",
       "    </tr>\n",
       "    <tr>\n",
       "      <th>19</th>\n",
       "      <td>Streaming Movies_Yes</td>\n",
       "      <td>1.325273</td>\n",
       "    </tr>\n",
       "    <tr>\n",
       "      <th>20</th>\n",
       "      <td>Online Backup_No</td>\n",
       "      <td>1.536236</td>\n",
       "    </tr>\n",
       "    <tr>\n",
       "      <th>21</th>\n",
       "      <td>Device Protection Plan_No</td>\n",
       "      <td>1.336995</td>\n",
       "    </tr>\n",
       "    <tr>\n",
       "      <th>22</th>\n",
       "      <td>Premium Tech Support_No</td>\n",
       "      <td>1.376596</td>\n",
       "    </tr>\n",
       "    <tr>\n",
       "      <th>23</th>\n",
       "      <td>Paperless Billing_Yes</td>\n",
       "      <td>1.560319</td>\n",
       "    </tr>\n",
       "    <tr>\n",
       "      <th>24</th>\n",
       "      <td>intercept</td>\n",
       "      <td>32.869591</td>\n",
       "    </tr>\n",
       "  </tbody>\n",
       "</table>\n",
       "</div>"
      ],
      "text/plain": [
       "                             variable        vif\n",
       "0                 Number of Referrals   1.926674\n",
       "1   Avg Monthly Long Distance Charges   1.003790\n",
       "2             Avg Monthly GB Download   1.045674\n",
       "3                         Gender_Male   1.611018\n",
       "4                   Internet Type_DSL   1.002897\n",
       "5           Internet Type_Fiber Optic   1.184735\n",
       "6                       Offer_Offer B   1.226363\n",
       "7                       Offer_Offer C   1.129650\n",
       "8                       Offer_Offer D   1.057509\n",
       "9                       Offer_Offer E   1.105979\n",
       "10                  Contract_One Year   1.201530\n",
       "11                  Contract_Two Year   1.540613\n",
       "12         Payment Method_Credit Card   2.081583\n",
       "13        Payment Method_Mailed Check   1.171645\n",
       "14                        Married_Yes   1.080092\n",
       "15                  Phone Service_Yes   1.868912\n",
       "16                 Multiple Lines_Yes   1.236932\n",
       "17                   Streaming TV_Yes   1.279877\n",
       "18                Streaming Music_Yes   1.372049\n",
       "19               Streaming Movies_Yes   1.325273\n",
       "20                   Online Backup_No   1.536236\n",
       "21          Device Protection Plan_No   1.336995\n",
       "22            Premium Tech Support_No   1.376596\n",
       "23              Paperless Billing_Yes   1.560319\n",
       "24                          intercept  32.869591"
      ]
     },
     "execution_count": 301,
     "metadata": {},
     "output_type": "execute_result"
    }
   ],
   "source": [
    "vif"
   ]
  },
  {
   "cell_type": "code",
   "execution_count": 302,
   "id": "6fc1abca-bb52-4d61-acbc-c66a64ae0ed9",
   "metadata": {},
   "outputs": [],
   "source": [
    "x = x.drop(['intercept'], axis=1)"
   ]
  },
  {
   "cell_type": "code",
   "execution_count": 395,
   "id": "ced99e0e-3b6d-43f3-9696-6244539a7f52",
   "metadata": {},
   "outputs": [],
   "source": [
    "from sklearn.model_selection import train_test_split\n",
    "x_train,x_test,y_train,y_test = train_test_split(x,y,test_size=0.3, random_state=0)\n"
   ]
  },
  {
   "cell_type": "code",
   "execution_count": 396,
   "id": "d91aa167-d4ef-40d9-9269-93fef9da1833",
   "metadata": {},
   "outputs": [],
   "source": [
    "from sklearn.linear_model import LogisticRegression\n",
    "logreg = LogisticRegression()"
   ]
  },
  {
   "cell_type": "code",
   "execution_count": 397,
   "id": "cdd957ba-7ebc-45c2-9c2c-bb43d2308a3c",
   "metadata": {},
   "outputs": [
    {
     "name": "stderr",
     "output_type": "stream",
     "text": [
      "/home/solvedcandle10/anaconda3/lib/python3.10/site-packages/sklearn/linear_model/_logistic.py:458: ConvergenceWarning: lbfgs failed to converge (status=1):\n",
      "STOP: TOTAL NO. of ITERATIONS REACHED LIMIT.\n",
      "\n",
      "Increase the number of iterations (max_iter) or scale the data as shown in:\n",
      "    https://scikit-learn.org/stable/modules/preprocessing.html\n",
      "Please also refer to the documentation for alternative solver options:\n",
      "    https://scikit-learn.org/stable/modules/linear_model.html#logistic-regression\n",
      "  n_iter_i = _check_optimize_result(\n"
     ]
    },
    {
     "data": {
      "text/html": [
       "<style>#sk-container-id-7 {color: black;background-color: white;}#sk-container-id-7 pre{padding: 0;}#sk-container-id-7 div.sk-toggleable {background-color: white;}#sk-container-id-7 label.sk-toggleable__label {cursor: pointer;display: block;width: 100%;margin-bottom: 0;padding: 0.3em;box-sizing: border-box;text-align: center;}#sk-container-id-7 label.sk-toggleable__label-arrow:before {content: \"▸\";float: left;margin-right: 0.25em;color: #696969;}#sk-container-id-7 label.sk-toggleable__label-arrow:hover:before {color: black;}#sk-container-id-7 div.sk-estimator:hover label.sk-toggleable__label-arrow:before {color: black;}#sk-container-id-7 div.sk-toggleable__content {max-height: 0;max-width: 0;overflow: hidden;text-align: left;background-color: #f0f8ff;}#sk-container-id-7 div.sk-toggleable__content pre {margin: 0.2em;color: black;border-radius: 0.25em;background-color: #f0f8ff;}#sk-container-id-7 input.sk-toggleable__control:checked~div.sk-toggleable__content {max-height: 200px;max-width: 100%;overflow: auto;}#sk-container-id-7 input.sk-toggleable__control:checked~label.sk-toggleable__label-arrow:before {content: \"▾\";}#sk-container-id-7 div.sk-estimator input.sk-toggleable__control:checked~label.sk-toggleable__label {background-color: #d4ebff;}#sk-container-id-7 div.sk-label input.sk-toggleable__control:checked~label.sk-toggleable__label {background-color: #d4ebff;}#sk-container-id-7 input.sk-hidden--visually {border: 0;clip: rect(1px 1px 1px 1px);clip: rect(1px, 1px, 1px, 1px);height: 1px;margin: -1px;overflow: hidden;padding: 0;position: absolute;width: 1px;}#sk-container-id-7 div.sk-estimator {font-family: monospace;background-color: #f0f8ff;border: 1px dotted black;border-radius: 0.25em;box-sizing: border-box;margin-bottom: 0.5em;}#sk-container-id-7 div.sk-estimator:hover {background-color: #d4ebff;}#sk-container-id-7 div.sk-parallel-item::after {content: \"\";width: 100%;border-bottom: 1px solid gray;flex-grow: 1;}#sk-container-id-7 div.sk-label:hover label.sk-toggleable__label {background-color: #d4ebff;}#sk-container-id-7 div.sk-serial::before {content: \"\";position: absolute;border-left: 1px solid gray;box-sizing: border-box;top: 0;bottom: 0;left: 50%;z-index: 0;}#sk-container-id-7 div.sk-serial {display: flex;flex-direction: column;align-items: center;background-color: white;padding-right: 0.2em;padding-left: 0.2em;position: relative;}#sk-container-id-7 div.sk-item {position: relative;z-index: 1;}#sk-container-id-7 div.sk-parallel {display: flex;align-items: stretch;justify-content: center;background-color: white;position: relative;}#sk-container-id-7 div.sk-item::before, #sk-container-id-7 div.sk-parallel-item::before {content: \"\";position: absolute;border-left: 1px solid gray;box-sizing: border-box;top: 0;bottom: 0;left: 50%;z-index: -1;}#sk-container-id-7 div.sk-parallel-item {display: flex;flex-direction: column;z-index: 1;position: relative;background-color: white;}#sk-container-id-7 div.sk-parallel-item:first-child::after {align-self: flex-end;width: 50%;}#sk-container-id-7 div.sk-parallel-item:last-child::after {align-self: flex-start;width: 50%;}#sk-container-id-7 div.sk-parallel-item:only-child::after {width: 0;}#sk-container-id-7 div.sk-dashed-wrapped {border: 1px dashed gray;margin: 0 0.4em 0.5em 0.4em;box-sizing: border-box;padding-bottom: 0.4em;background-color: white;}#sk-container-id-7 div.sk-label label {font-family: monospace;font-weight: bold;display: inline-block;line-height: 1.2em;}#sk-container-id-7 div.sk-label-container {text-align: center;}#sk-container-id-7 div.sk-container {/* jupyter's `normalize.less` sets `[hidden] { display: none; }` but bootstrap.min.css set `[hidden] { display: none !important; }` so we also need the `!important` here to be able to override the default hidden behavior on the sphinx rendered scikit-learn.org. See: https://github.com/scikit-learn/scikit-learn/issues/21755 */display: inline-block !important;position: relative;}#sk-container-id-7 div.sk-text-repr-fallback {display: none;}</style><div id=\"sk-container-id-7\" class=\"sk-top-container\"><div class=\"sk-text-repr-fallback\"><pre>LogisticRegression()</pre><b>In a Jupyter environment, please rerun this cell to show the HTML representation or trust the notebook. <br />On GitHub, the HTML representation is unable to render, please try loading this page with nbviewer.org.</b></div><div class=\"sk-container\" hidden><div class=\"sk-item\"><div class=\"sk-estimator sk-toggleable\"><input class=\"sk-toggleable__control sk-hidden--visually\" id=\"sk-estimator-id-7\" type=\"checkbox\" checked><label for=\"sk-estimator-id-7\" class=\"sk-toggleable__label sk-toggleable__label-arrow\">LogisticRegression</label><div class=\"sk-toggleable__content\"><pre>LogisticRegression()</pre></div></div></div></div></div>"
      ],
      "text/plain": [
       "LogisticRegression()"
      ]
     },
     "execution_count": 397,
     "metadata": {},
     "output_type": "execute_result"
    }
   ],
   "source": [
    "logreg.fit(x_train,y_train)"
   ]
  },
  {
   "cell_type": "code",
   "execution_count": 398,
   "id": "0ec45791-c90d-4445-9d8a-8a781a754733",
   "metadata": {},
   "outputs": [],
   "source": [
    "y_pred = logreg.predict(x_test)"
   ]
  },
  {
   "cell_type": "code",
   "execution_count": 399,
   "id": "382107a0-a4da-44ee-8365-8680cba01dec",
   "metadata": {},
   "outputs": [
    {
     "data": {
      "text/plain": [
       "array([0, 0, 0, ..., 0, 1, 1], dtype=uint8)"
      ]
     },
     "execution_count": 399,
     "metadata": {},
     "output_type": "execute_result"
    }
   ],
   "source": [
    "y_test"
   ]
  },
  {
   "cell_type": "code",
   "execution_count": 400,
   "id": "d45cc775-e46c-40fb-913c-fdf551a73dcf",
   "metadata": {},
   "outputs": [
    {
     "data": {
      "text/plain": [
       "array([1, 0, 1, ..., 0, 1, 1], dtype=uint8)"
      ]
     },
     "execution_count": 400,
     "metadata": {},
     "output_type": "execute_result"
    }
   ],
   "source": [
    "y_pred"
   ]
  },
  {
   "cell_type": "code",
   "execution_count": 401,
   "id": "65b04a17-0336-4451-b484-01e8a7abc753",
   "metadata": {},
   "outputs": [
    {
     "data": {
      "text/html": [
       "<div>\n",
       "<style scoped>\n",
       "    .dataframe tbody tr th:only-of-type {\n",
       "        vertical-align: middle;\n",
       "    }\n",
       "\n",
       "    .dataframe tbody tr th {\n",
       "        vertical-align: top;\n",
       "    }\n",
       "\n",
       "    .dataframe thead th {\n",
       "        text-align: right;\n",
       "    }\n",
       "</style>\n",
       "<table border=\"1\" class=\"dataframe\">\n",
       "  <thead>\n",
       "    <tr style=\"text-align: right;\">\n",
       "      <th></th>\n",
       "      <th>y_test</th>\n",
       "      <th>y_pred</th>\n",
       "    </tr>\n",
       "  </thead>\n",
       "  <tbody>\n",
       "    <tr>\n",
       "      <th>0</th>\n",
       "      <td>0</td>\n",
       "      <td>1</td>\n",
       "    </tr>\n",
       "    <tr>\n",
       "      <th>1</th>\n",
       "      <td>0</td>\n",
       "      <td>0</td>\n",
       "    </tr>\n",
       "    <tr>\n",
       "      <th>2</th>\n",
       "      <td>0</td>\n",
       "      <td>1</td>\n",
       "    </tr>\n",
       "    <tr>\n",
       "      <th>3</th>\n",
       "      <td>1</td>\n",
       "      <td>1</td>\n",
       "    </tr>\n",
       "    <tr>\n",
       "      <th>4</th>\n",
       "      <td>1</td>\n",
       "      <td>1</td>\n",
       "    </tr>\n",
       "    <tr>\n",
       "      <th>...</th>\n",
       "      <td>...</td>\n",
       "      <td>...</td>\n",
       "    </tr>\n",
       "    <tr>\n",
       "      <th>1972</th>\n",
       "      <td>1</td>\n",
       "      <td>1</td>\n",
       "    </tr>\n",
       "    <tr>\n",
       "      <th>1973</th>\n",
       "      <td>1</td>\n",
       "      <td>1</td>\n",
       "    </tr>\n",
       "    <tr>\n",
       "      <th>1974</th>\n",
       "      <td>0</td>\n",
       "      <td>0</td>\n",
       "    </tr>\n",
       "    <tr>\n",
       "      <th>1975</th>\n",
       "      <td>1</td>\n",
       "      <td>1</td>\n",
       "    </tr>\n",
       "    <tr>\n",
       "      <th>1976</th>\n",
       "      <td>1</td>\n",
       "      <td>1</td>\n",
       "    </tr>\n",
       "  </tbody>\n",
       "</table>\n",
       "<p>1977 rows × 2 columns</p>\n",
       "</div>"
      ],
      "text/plain": [
       "      y_test  y_pred\n",
       "0          0       1\n",
       "1          0       0\n",
       "2          0       1\n",
       "3          1       1\n",
       "4          1       1\n",
       "...      ...     ...\n",
       "1972       1       1\n",
       "1973       1       1\n",
       "1974       0       0\n",
       "1975       1       1\n",
       "1976       1       1\n",
       "\n",
       "[1977 rows x 2 columns]"
      ]
     },
     "execution_count": 401,
     "metadata": {},
     "output_type": "execute_result"
    }
   ],
   "source": [
    "output=pd.DataFrame()\n",
    "output['y_test']=y_test\n",
    "output['y_pred']=y_pred\n",
    "output"
   ]
  },
  {
   "cell_type": "code",
   "execution_count": 402,
   "id": "a3dc0c31-9e25-4ab3-824f-124de9d6d0ee",
   "metadata": {},
   "outputs": [],
   "source": [
    "#Metrics for evaluation"
   ]
  },
  {
   "cell_type": "code",
   "execution_count": 403,
   "id": "e3d06ac2-213b-49ed-b5e8-6ec306bd0f85",
   "metadata": {},
   "outputs": [],
   "source": [
    "from sklearn import metrics"
   ]
  },
  {
   "cell_type": "code",
   "execution_count": 404,
   "id": "9c262a23-1d5d-4908-b3c3-086f97318aa5",
   "metadata": {},
   "outputs": [
    {
     "name": "stdout",
     "output_type": "stream",
     "text": [
      "[[421 381]\n",
      " [229 946]]\n"
     ]
    }
   ],
   "source": [
    "confusion = metrics.confusion_matrix(y_test, y_pred )\n",
    "print(confusion)"
   ]
  },
  {
   "cell_type": "code",
   "execution_count": 405,
   "id": "1912ff0e-3cc6-42cb-aaa0-cded8f9e36d8",
   "metadata": {},
   "outputs": [
    {
     "data": {
      "text/plain": [
       "0.6914516944865958"
      ]
     },
     "execution_count": 405,
     "metadata": {},
     "output_type": "execute_result"
    }
   ],
   "source": [
    "metrics.accuracy_score(y_pred,y_test)"
   ]
  },
  {
   "cell_type": "code",
   "execution_count": 406,
   "id": "d85370d1-9141-4708-b8b4-e0cb7f8d7871",
   "metadata": {},
   "outputs": [],
   "source": [
    "TP = confusion[1,1] # true positive \n",
    "TN = confusion[0,0] # true negatives\n",
    "FP = confusion[0,1] # false positives\n",
    "FN = confusion[1,0] # false negatives"
   ]
  },
  {
   "cell_type": "code",
   "execution_count": 407,
   "id": "6ebb1ba4-fe2d-44f2-8775-4496cfaba604",
   "metadata": {},
   "outputs": [
    {
     "data": {
      "text/plain": [
       "0.7128862094951017"
      ]
     },
     "execution_count": 407,
     "metadata": {},
     "output_type": "execute_result"
    }
   ],
   "source": [
    "#precision\n",
    "p=TP/(TP+FP)\n",
    "p"
   ]
  },
  {
   "cell_type": "code",
   "execution_count": 408,
   "id": "e4c76b8e-ba3d-49f0-914c-86e582c2bdef",
   "metadata": {},
   "outputs": [
    {
     "data": {
      "text/plain": [
       "0.8051063829787234"
      ]
     },
     "execution_count": 408,
     "metadata": {},
     "output_type": "execute_result"
    }
   ],
   "source": [
    "#recall\n",
    "r=TP/(TP+FN)\n",
    "r"
   ]
  },
  {
   "cell_type": "code",
   "execution_count": 409,
   "id": "424614f7-e053-4e11-a84f-5698c6df6334",
   "metadata": {},
   "outputs": [
    {
     "data": {
      "text/plain": [
       "0.7561950439648281"
      ]
     },
     "execution_count": 409,
     "metadata": {},
     "output_type": "execute_result"
    }
   ],
   "source": [
    "#f1score\n",
    "2*((p*r)/(p+r))"
   ]
  },
  {
   "cell_type": "code",
   "execution_count": null,
   "id": "f906279b-6eee-4746-af52-6e4f21211594",
   "metadata": {},
   "outputs": [],
   "source": []
  }
 ],
 "metadata": {
  "kernelspec": {
   "display_name": "Python 3 (ipykernel)",
   "language": "python",
   "name": "python3"
  },
  "language_info": {
   "codemirror_mode": {
    "name": "ipython",
    "version": 3
   },
   "file_extension": ".py",
   "mimetype": "text/x-python",
   "name": "python",
   "nbconvert_exporter": "python",
   "pygments_lexer": "ipython3",
   "version": "3.10.9"
  }
 },
 "nbformat": 4,
 "nbformat_minor": 5
}
